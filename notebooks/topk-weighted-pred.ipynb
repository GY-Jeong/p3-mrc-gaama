{
 "metadata": {
  "language_info": {
   "codemirror_mode": {
    "name": "ipython",
    "version": 3
   },
   "file_extension": ".py",
   "mimetype": "text/x-python",
   "name": "python",
   "nbconvert_exporter": "python",
   "pygments_lexer": "ipython3",
   "version": "3.7.7"
  },
  "orig_nbformat": 2,
  "kernelspec": {
   "name": "python377jvsc74a57bd098b0a9b7b4eaaa670588a142fd0a9b87eaafe866f1db4228be72b4211d12040f",
   "display_name": "Python 3.7.7 64-bit ('base': conda)"
  }
 },
 "nbformat": 4,
 "nbformat_minor": 2,
 "cells": [
  {
   "cell_type": "code",
   "execution_count": 3,
   "metadata": {},
   "outputs": [],
   "source": [
    "import json\n",
    "import pickle\n",
    "import re\n",
    "import os\n",
    "from collections import defaultdict\n",
    "from konlpy.tag import Mecab"
   ]
  },
  {
   "cell_type": "code",
   "execution_count": 4,
   "metadata": {},
   "outputs": [],
   "source": [
    "mecab = Mecab()"
   ]
  },
  {
   "cell_type": "code",
   "execution_count": 5,
   "metadata": {},
   "outputs": [],
   "source": [
    "output_dir = '/opt/ml/output/lstm-top12-weighted'"
   ]
  },
  {
   "cell_type": "code",
   "execution_count": 6,
   "metadata": {},
   "outputs": [],
   "source": [
    "with open(os.path.join(output_dir, 'nbest_predictions.json'), 'r') as f:\n",
    "    nbest = json.load(f)"
   ]
  },
  {
   "cell_type": "code",
   "execution_count": 7,
   "metadata": {},
   "outputs": [],
   "source": [
    "with open('/opt/ml/input/data/test_dataset/sparse_bm25_data.bin', 'rb') as f:\n",
    "    topk_dataset = pickle.load(f)"
   ]
  },
  {
   "cell_type": "code",
   "execution_count": 8,
   "metadata": {},
   "outputs": [
    {
     "output_type": "execute_result",
     "data": {
      "text/plain": [
       "                       question              id  \\\n",
       "0         유령'은 어느 행성에서 지구로 왔는가?  mrc-1-000653-0   \n",
       "1         유령'은 어느 행성에서 지구로 왔는가?  mrc-1-000653-1   \n",
       "2         유령'은 어느 행성에서 지구로 왔는가?  mrc-1-000653-2   \n",
       "3         유령'은 어느 행성에서 지구로 왔는가?  mrc-1-000653-3   \n",
       "4         유령'은 어느 행성에서 지구로 왔는가?  mrc-1-000653-4   \n",
       "...                         ...             ...   \n",
       "3086         제2캐나다기갑여단이 상륙한 곳은?  mrc-0-003436-0   \n",
       "3087         제2캐나다기갑여단이 상륙한 곳은?  mrc-0-003436-1   \n",
       "3088         제2캐나다기갑여단이 상륙한 곳은?  mrc-0-003436-2   \n",
       "3089         제2캐나다기갑여단이 상륙한 곳은?  mrc-0-003436-3   \n",
       "3090  구립운석을 이루는 물질 중 널리 알려진 것은?  mrc-0-002605-0   \n",
       "\n",
       "                                                context      score  \n",
       "0     더크 젠틀리의 성스러운 탐정사무소의 줄거리는 이야기의 중추적인 부위에 자리잡은 시간...  21.768619  \n",
       "1     별하늘계의 변경에 위치한 외계행성 사만(サマーン) 출신의 여자아이. 지구 나이로는 ...  21.466410  \n",
       "2     HAT-P-2 b는 HATNet 프로젝트에 의해 2007년 5월 발견된 외계 행성이...  21.006212  \n",
       "3     페가수스자리 51 b가 발견되기 이전 폴란드 천문학자 알렉산데르 볼시찬이 이미 펄서...  19.322218  \n",
       "4     이 항성의 시선속도는 매우 일정해서 천문학자이자 행성 사냥꾼 제프리 마시는 랄랑드 ...  19.174997  \n",
       "...                                                 ...        ...  \n",
       "3086  주노 해변 주노 해변은 쿠르쇨르메르의 양쪽으로 뻗은 5마일 정도의 해변이었다. 제3...  41.423084  \n",
       "3087  제3사단은 치명적인 운명을 맞은 영국 해외원정군의 일부였다. 이들은 제2차 세계 대...  34.467493  \n",
       "3088  캐나다군은 독일군의 베리에르 능선 방어가 여전히 철저하다는 것을 알고 있었다.D'E...  28.887549  \n",
       "3089  제2차 세계 대전 당시 불완전한 편제를 바탕으로 로저 에반스는 제1기갑사단을 이끌게...  28.636980  \n",
       "3090  구립운석(球粒隕石, 콘드라이트)는 석질운석의 일종으로, 운석의 원석이 용융이나 분화...  29.013827  \n",
       "\n",
       "[3091 rows x 4 columns]"
      ],
      "text/html": "<div>\n<style scoped>\n    .dataframe tbody tr th:only-of-type {\n        vertical-align: middle;\n    }\n\n    .dataframe tbody tr th {\n        vertical-align: top;\n    }\n\n    .dataframe thead th {\n        text-align: right;\n    }\n</style>\n<table border=\"1\" class=\"dataframe\">\n  <thead>\n    <tr style=\"text-align: right;\">\n      <th></th>\n      <th>question</th>\n      <th>id</th>\n      <th>context</th>\n      <th>score</th>\n    </tr>\n  </thead>\n  <tbody>\n    <tr>\n      <th>0</th>\n      <td>유령'은 어느 행성에서 지구로 왔는가?</td>\n      <td>mrc-1-000653-0</td>\n      <td>더크 젠틀리의 성스러운 탐정사무소의 줄거리는 이야기의 중추적인 부위에 자리잡은 시간...</td>\n      <td>21.768619</td>\n    </tr>\n    <tr>\n      <th>1</th>\n      <td>유령'은 어느 행성에서 지구로 왔는가?</td>\n      <td>mrc-1-000653-1</td>\n      <td>별하늘계의 변경에 위치한 외계행성 사만(サマーン) 출신의 여자아이. 지구 나이로는 ...</td>\n      <td>21.466410</td>\n    </tr>\n    <tr>\n      <th>2</th>\n      <td>유령'은 어느 행성에서 지구로 왔는가?</td>\n      <td>mrc-1-000653-2</td>\n      <td>HAT-P-2 b는 HATNet 프로젝트에 의해 2007년 5월 발견된 외계 행성이...</td>\n      <td>21.006212</td>\n    </tr>\n    <tr>\n      <th>3</th>\n      <td>유령'은 어느 행성에서 지구로 왔는가?</td>\n      <td>mrc-1-000653-3</td>\n      <td>페가수스자리 51 b가 발견되기 이전 폴란드 천문학자 알렉산데르 볼시찬이 이미 펄서...</td>\n      <td>19.322218</td>\n    </tr>\n    <tr>\n      <th>4</th>\n      <td>유령'은 어느 행성에서 지구로 왔는가?</td>\n      <td>mrc-1-000653-4</td>\n      <td>이 항성의 시선속도는 매우 일정해서 천문학자이자 행성 사냥꾼 제프리 마시는 랄랑드 ...</td>\n      <td>19.174997</td>\n    </tr>\n    <tr>\n      <th>...</th>\n      <td>...</td>\n      <td>...</td>\n      <td>...</td>\n      <td>...</td>\n    </tr>\n    <tr>\n      <th>3086</th>\n      <td>제2캐나다기갑여단이 상륙한 곳은?</td>\n      <td>mrc-0-003436-0</td>\n      <td>주노 해변 주노 해변은 쿠르쇨르메르의 양쪽으로 뻗은 5마일 정도의 해변이었다. 제3...</td>\n      <td>41.423084</td>\n    </tr>\n    <tr>\n      <th>3087</th>\n      <td>제2캐나다기갑여단이 상륙한 곳은?</td>\n      <td>mrc-0-003436-1</td>\n      <td>제3사단은 치명적인 운명을 맞은 영국 해외원정군의 일부였다. 이들은 제2차 세계 대...</td>\n      <td>34.467493</td>\n    </tr>\n    <tr>\n      <th>3088</th>\n      <td>제2캐나다기갑여단이 상륙한 곳은?</td>\n      <td>mrc-0-003436-2</td>\n      <td>캐나다군은 독일군의 베리에르 능선 방어가 여전히 철저하다는 것을 알고 있었다.D'E...</td>\n      <td>28.887549</td>\n    </tr>\n    <tr>\n      <th>3089</th>\n      <td>제2캐나다기갑여단이 상륙한 곳은?</td>\n      <td>mrc-0-003436-3</td>\n      <td>제2차 세계 대전 당시 불완전한 편제를 바탕으로 로저 에반스는 제1기갑사단을 이끌게...</td>\n      <td>28.636980</td>\n    </tr>\n    <tr>\n      <th>3090</th>\n      <td>구립운석을 이루는 물질 중 널리 알려진 것은?</td>\n      <td>mrc-0-002605-0</td>\n      <td>구립운석(球粒隕石, 콘드라이트)는 석질운석의 일종으로, 운석의 원석이 용융이나 분화...</td>\n      <td>29.013827</td>\n    </tr>\n  </tbody>\n</table>\n<p>3091 rows × 4 columns</p>\n</div>"
     },
     "metadata": {},
     "execution_count": 8
    }
   ],
   "source": [
    "topk_dataset"
   ]
  },
  {
   "cell_type": "code",
   "execution_count": 9,
   "metadata": {},
   "outputs": [],
   "source": [
    "candidates = defaultdict(list)\n",
    "\n",
    "for i in range(len(topk_dataset)):\n",
    "    id = topk_dataset.iloc[i]['id']\n",
    "    retriever_score = topk_dataset.iloc[i]['score']\n",
    "    k = id.split('-')[-1]\n",
    "    orig_id = '-'.join(id.split('-')[:-1])\n",
    "\n",
    "    topk_preds = nbest[id]  # list of dict\n",
    "    weighted_preds = [(p['text'], p['probability']*retriever_score) for p in topk_preds]\n",
    "    candidates[orig_id].extend(weighted_preds)"
   ]
  },
  {
   "cell_type": "code",
   "execution_count": 10,
   "metadata": {},
   "outputs": [],
   "source": [
    "blacklist = ['최소', '대략', '한때', '간혹', '최소한', '필수']\n",
    "\n",
    "def valid_answer(text):\n",
    "    # This function only tests for answers with Korean\n",
    "    if not re.search('[가-힣]', text):\n",
    "        return True\n",
    "    elif text.strip() in blacklist:\n",
    "        return False\n",
    "        \n",
    "    part_of_speech = [x[1][0] for x in mecab.pos(text)]\n",
    "\n",
    "    # TODO: M tag 수식언만 나오는 경우? \n",
    "    if len(part_of_speech) == 1 and 'M' in part_of_speech:\n",
    "        return False\n",
    "    return True\n",
    "    # return 'N' in part_of_speech"
   ]
  },
  {
   "cell_type": "code",
   "execution_count": 11,
   "metadata": {},
   "outputs": [
    {
     "output_type": "execute_result",
     "data": {
      "text/plain": [
       "False"
      ]
     },
     "metadata": {},
     "execution_count": 11
    }
   ],
   "source": [
    "test_text = '무조건'\n",
    "\n",
    "valid_answer(test_text)"
   ]
  },
  {
   "cell_type": "code",
   "execution_count": 12,
   "metadata": {},
   "outputs": [],
   "source": [
    "predictions = {}\n",
    "pattern = re.compile('[.\\\",\\{\\}\\[\\]\\(\\)\\<\\>]')\n",
    "\n",
    "for id in candidates.keys():\n",
    "    sorted_scores = sorted(candidates[id], key=lambda x:x[1], reverse=True)\n",
    "    \n",
    "    selected = 0\n",
    "    # 정답이 next highest score 로 넘어가는 경우:\n",
    "    # 1. 괄호, 부호 등을 제외하면 빈 string 일 때 \n",
    "    # 2. 정답의 길이가 30자를 넘어갈 때\n",
    "    # 3. 정답에 체언을 포함하지 않을 때\n",
    "    while (re.sub(pattern, '', sorted_scores[selected][0]) == '' or len(sorted_scores[selected][0]) > 30 or not valid_answer(sorted_scores[selected][0])) and selected < len(sorted_scores)-1:\n",
    "        selected += 1\n",
    "    predictions[id] = sorted_scores[selected][0]\n",
    "    "
   ]
  },
  {
   "cell_type": "code",
   "execution_count": 13,
   "metadata": {},
   "outputs": [],
   "source": [
    "with open(os.path.join(output_dir, 'filtered_weighted_predictions.json'), 'w') as f:\n",
    "    json.dump(predictions, f, ensure_ascii=False, indent = 4)"
   ]
  },
  {
   "cell_type": "code",
   "execution_count": 2,
   "metadata": {},
   "outputs": [],
   "source": [
    "with open('/opt/ml/input/data/train_dataset/sparse_bm25_data.bin', 'rb') as f:\n",
    "    topk_train_dataset = pickle.load(f)"
   ]
  },
  {
   "cell_type": "code",
   "execution_count": 3,
   "metadata": {},
   "outputs": [
    {
     "output_type": "execute_result",
     "data": {
      "text/plain": [
       "                                 question            id  context_id  \\\n",
       "0          처음으로 부실 경영인에 대한 보상 선고를 받은 회사는?  mrc-0-003264       10433   \n",
       "1    스카버러 남쪽과 코보콘그 마을의 철도 노선이 처음 연장된 연도는?  mrc-0-004762       46710   \n",
       "2         촌락에서 운영 위원 후보자 이름을 쓰기위해 사용된 것은?  mrc-1-001810       11057   \n",
       "3                로타이르가 백조를 구하기 위해 사용한 것은?  mrc-1-000219       54365   \n",
       "4      의견을 자유롭게 나누는 것은 조직 내 어떤 관계에서 가능한가?  mrc-1-000285       28216   \n",
       "..                                    ...           ...         ...   \n",
       "235  전단이 연나라와의 전쟁에서 승리했을 당시 제나라의 왕은 누구인가?  mrc-0-000484       48200   \n",
       "236            공놀이 경기장 중 일부는 어디에 위치하고 있나?  mrc-0-002095       45293   \n",
       "237           창씨개명령의 시행일을 미루는 것을 수락한 인물은?  mrc-0-003083         768   \n",
       "238   망코 잉카가 쿠스코를 되찾기 위해 마련한 군사는 총 몇 명인가?  mrc-0-002978       43553   \n",
       "239                        마르크스주의자들의 사상은?  mrc-1-000622       41537   \n",
       "\n",
       "                                               context  \\\n",
       "0    개인 또는 집단이 의사 결정 과정을 다른 사람에게 위임할 때 대리인 관계가 성립된다...   \n",
       "1    요크 카운티 동쪽에 처음으로 여객 열차 운행이 시작한 시점은 1868년 토론토 & ...   \n",
       "2    촐라 정부 촐라의 정부 체제는 전제군주제였으며,2001 촐라의 군주는 절대적인 권력...   \n",
       "3    프랑스의 십자군 무훈시는 1099년 예루살렘 왕국의 통치자가 된 고드프루아 드 부용...   \n",
       "4    탈관료제화는 현대사회에서 관료제 성격이 약화되는 현상이다. 현대사회에서 관료제는 약...   \n",
       "..                                                 ...   \n",
       "235  기원전 284년에 이르러 당시 제나라의 왕이었던 제 민왕은 강력한 국력을 믿고 교만...   \n",
       "236  경기장은 인사르 강 동쪽 둑에 있는 사란스크의 중심부에 위치해 있다. 경기장은 승용...   \n",
       "237  1940년 5월 1일 오전 창씨개명에 비협조적이라는 이유로 조선총독부 경무국에서 소...   \n",
       "238  빌카밤바 지역은 파차쿠티 황제 때 부터 잉카 제국에 속해있던 지역이었다. 스페인 군...   \n",
       "239  본래 ‘호자주의’는 엔베르 호자 스스로가 자신의 사상에 대해 명명한 명칭이 아니며,...   \n",
       "\n",
       "                                              contexts  \\\n",
       "0    [개인 또는 집단이 의사 결정 과정을 다른 사람에게 위임할 때 대리인 관계가 성립된...   \n",
       "1    [요크 카운티 동쪽에 처음으로 여객 열차 운행이 시작한 시점은 1868년 토론토 &...   \n",
       "2    [촐라 정부 촐라의 정부 체제는 전제군주제였으며,2001 촐라의 군주는 절대적인 권...   \n",
       "3    [프랑스의 십자군 무훈시는 1099년 예루살렘 왕국의 통치자가 된 고드프루아 드 부...   \n",
       "4    [탈관료제화는 현대사회에서 관료제 성격이 약화되는 현상이다. 현대사회에서 관료제는 ...   \n",
       "..                                                 ...   \n",
       "235  [기원전 284년에 이르러 당시 제나라의 왕이었던 제 민왕은 강력한 국력을 믿고 교...   \n",
       "236  [경기장은 인사르 강 동쪽 둑에 있는 사란스크의 중심부에 위치해 있다. 경기장은 승...   \n",
       "237  [1940년 5월 1일 오전 창씨개명에 비협조적이라는 이유로 조선총독부 경무국에서 ...   \n",
       "238  [빌카밤바 지역은 파차쿠티 황제 때 부터 잉카 제국에 속해있던 지역이었다. 스페인 ...   \n",
       "239  [본래 ‘호자주의’는 엔베르 호자 스스로가 자신의 사상에 대해 명명한 명칭이 아니며...   \n",
       "\n",
       "                                           context_ids  \\\n",
       "0    [15066, 9027, 18014, 46019, 46589, 24584, 3624...   \n",
       "1    [51765, 21916, 23373, 51850, 23376, 23375, 520...   \n",
       "2    [15694, 5300, 28167, 19132, 54890, 21545, 1141...   \n",
       "3    [59536, 59537, 59533, 59534, 59527, 59535, 653...   \n",
       "4    [32991, 24309, 46612, 13391, 60258, 48589, 466...   \n",
       "..                                                 ...   \n",
       "235  [53263, 53265, 53267, 53270, 52028, 53268, 532...   \n",
       "236  [50336, 47736, 12190, 18830, 18835, 50334, 778...   \n",
       "237  [5326, 34671, 7434, 9029, 6921, 11620, 6956, 8...   \n",
       "238  [48575, 55432, 55430, 56329, 48576, 55431, 265...   \n",
       "239  [46554, 46490, 7776, 5761, 24327, 28966, 17915...   \n",
       "\n",
       "                                                scores  \\\n",
       "0    [22.235510912340906, 21.089564898131943, 18.32...   \n",
       "1                                  [69.08883928533328]   \n",
       "2             [23.506944591988223, 19.149940273916915]   \n",
       "3                                  [35.59687889856637]   \n",
       "4    [18.367841700728544, 18.24657620780058, 16.574...   \n",
       "..                                                 ...   \n",
       "235  [39.95455292901735, 35.573960417694764, 30.360...   \n",
       "236  [21.168822242845998, 20.995204545313157, 20.76...   \n",
       "237                               [25.326214908636324]   \n",
       "238  [47.44886519366105, 44.566859383571426, 42.593...   \n",
       "239  [15.55451009385574, 15.208832675823839, 14.266...   \n",
       "\n",
       "                                      original_context  \\\n",
       "0    순천여자고등학교 졸업, 1973년 이화여자대학교를 졸업하고 1975년 제17회 사법...   \n",
       "1    요크 카운티 동쪽에 처음으로 여객 열차 운행이 시작한 시점은 1868년 토론토 & ...   \n",
       "2    촐라 정부 촐라의 정부 체제는 전제군주제였으며,2001 촐라의 군주는 절대적인 권력...   \n",
       "3    프랑스의 십자군 무훈시는 1099년 예루살렘 왕국의 통치자가 된 고드프루아 드 부용...   \n",
       "4    탈관료제화는 현대사회에서 관료제 성격이 약화되는 현상이다. 현대사회에서 관료제는 약...   \n",
       "..                                                 ...   \n",
       "235  연나라 군대의 사령관이 악의에서 기겁으로 교체되자, 전단은 스스로 신령의 계시를 받...   \n",
       "236  현재 우리가 볼 수 있는 티칼의 모습은 펜실베이니아 대학교와 과테말라 정부의 협조 ...   \n",
       "237  1940년 5월 1일 오전 창씨개명에 비협조적이라는 이유로 조선총독부 경무국에서 소...   \n",
       "238  빌카밤바 지역은 파차쿠티 황제 때 부터 잉카 제국에 속해있던 지역이었다. 스페인 군...   \n",
       "239  사회주의 혁명은 오로지 선진노동자계급에 기초한 계급투쟁으로서 이루어질 수 있다고 주...   \n",
       "\n",
       "                                               answers  \n",
       "0            {'answer_start': [284], 'text': ['한보철강']}  \n",
       "1           {'answer_start': [146], 'text': ['1871년']}  \n",
       "2             {'answer_start': [517], 'text': ['나뭇잎']}  \n",
       "3            {'answer_start': [1109], 'text': ['금대야']}  \n",
       "4          {'answer_start': [386], 'text': ['수평적 관계']}  \n",
       "..                                                 ...  \n",
       "235         {'answer_start': [1084], 'text': ['제 양왕']}  \n",
       "236  {'answer_start': [343], 'text': [''일곱 개의 신전 광장...  \n",
       "237        {'answer_start': [247], 'text': ['미나미 지로']}  \n",
       "238      {'answer_start': [563], 'text': ['200,000명']}  \n",
       "239          {'answer_start': [811], 'text': ['공산주의']}  \n",
       "\n",
       "[240 rows x 9 columns]"
      ],
      "text/html": "<div>\n<style scoped>\n    .dataframe tbody tr th:only-of-type {\n        vertical-align: middle;\n    }\n\n    .dataframe tbody tr th {\n        vertical-align: top;\n    }\n\n    .dataframe thead th {\n        text-align: right;\n    }\n</style>\n<table border=\"1\" class=\"dataframe\">\n  <thead>\n    <tr style=\"text-align: right;\">\n      <th></th>\n      <th>question</th>\n      <th>id</th>\n      <th>context_id</th>\n      <th>context</th>\n      <th>contexts</th>\n      <th>context_ids</th>\n      <th>scores</th>\n      <th>original_context</th>\n      <th>answers</th>\n    </tr>\n  </thead>\n  <tbody>\n    <tr>\n      <th>0</th>\n      <td>처음으로 부실 경영인에 대한 보상 선고를 받은 회사는?</td>\n      <td>mrc-0-003264</td>\n      <td>10433</td>\n      <td>개인 또는 집단이 의사 결정 과정을 다른 사람에게 위임할 때 대리인 관계가 성립된다...</td>\n      <td>[개인 또는 집단이 의사 결정 과정을 다른 사람에게 위임할 때 대리인 관계가 성립된...</td>\n      <td>[15066, 9027, 18014, 46019, 46589, 24584, 3624...</td>\n      <td>[22.235510912340906, 21.089564898131943, 18.32...</td>\n      <td>순천여자고등학교 졸업, 1973년 이화여자대학교를 졸업하고 1975년 제17회 사법...</td>\n      <td>{'answer_start': [284], 'text': ['한보철강']}</td>\n    </tr>\n    <tr>\n      <th>1</th>\n      <td>스카버러 남쪽과 코보콘그 마을의 철도 노선이 처음 연장된 연도는?</td>\n      <td>mrc-0-004762</td>\n      <td>46710</td>\n      <td>요크 카운티 동쪽에 처음으로 여객 열차 운행이 시작한 시점은 1868년 토론토 &amp; ...</td>\n      <td>[요크 카운티 동쪽에 처음으로 여객 열차 운행이 시작한 시점은 1868년 토론토 &amp;...</td>\n      <td>[51765, 21916, 23373, 51850, 23376, 23375, 520...</td>\n      <td>[69.08883928533328]</td>\n      <td>요크 카운티 동쪽에 처음으로 여객 열차 운행이 시작한 시점은 1868년 토론토 &amp; ...</td>\n      <td>{'answer_start': [146], 'text': ['1871년']}</td>\n    </tr>\n    <tr>\n      <th>2</th>\n      <td>촌락에서 운영 위원 후보자 이름을 쓰기위해 사용된 것은?</td>\n      <td>mrc-1-001810</td>\n      <td>11057</td>\n      <td>촐라 정부 촐라의 정부 체제는 전제군주제였으며,2001 촐라의 군주는 절대적인 권력...</td>\n      <td>[촐라 정부 촐라의 정부 체제는 전제군주제였으며,2001 촐라의 군주는 절대적인 권...</td>\n      <td>[15694, 5300, 28167, 19132, 54890, 21545, 1141...</td>\n      <td>[23.506944591988223, 19.149940273916915]</td>\n      <td>촐라 정부 촐라의 정부 체제는 전제군주제였으며,2001 촐라의 군주는 절대적인 권력...</td>\n      <td>{'answer_start': [517], 'text': ['나뭇잎']}</td>\n    </tr>\n    <tr>\n      <th>3</th>\n      <td>로타이르가 백조를 구하기 위해 사용한 것은?</td>\n      <td>mrc-1-000219</td>\n      <td>54365</td>\n      <td>프랑스의 십자군 무훈시는 1099년 예루살렘 왕국의 통치자가 된 고드프루아 드 부용...</td>\n      <td>[프랑스의 십자군 무훈시는 1099년 예루살렘 왕국의 통치자가 된 고드프루아 드 부...</td>\n      <td>[59536, 59537, 59533, 59534, 59527, 59535, 653...</td>\n      <td>[35.59687889856637]</td>\n      <td>프랑스의 십자군 무훈시는 1099년 예루살렘 왕국의 통치자가 된 고드프루아 드 부용...</td>\n      <td>{'answer_start': [1109], 'text': ['금대야']}</td>\n    </tr>\n    <tr>\n      <th>4</th>\n      <td>의견을 자유롭게 나누는 것은 조직 내 어떤 관계에서 가능한가?</td>\n      <td>mrc-1-000285</td>\n      <td>28216</td>\n      <td>탈관료제화는 현대사회에서 관료제 성격이 약화되는 현상이다. 현대사회에서 관료제는 약...</td>\n      <td>[탈관료제화는 현대사회에서 관료제 성격이 약화되는 현상이다. 현대사회에서 관료제는 ...</td>\n      <td>[32991, 24309, 46612, 13391, 60258, 48589, 466...</td>\n      <td>[18.367841700728544, 18.24657620780058, 16.574...</td>\n      <td>탈관료제화는 현대사회에서 관료제 성격이 약화되는 현상이다. 현대사회에서 관료제는 약...</td>\n      <td>{'answer_start': [386], 'text': ['수평적 관계']}</td>\n    </tr>\n    <tr>\n      <th>...</th>\n      <td>...</td>\n      <td>...</td>\n      <td>...</td>\n      <td>...</td>\n      <td>...</td>\n      <td>...</td>\n      <td>...</td>\n      <td>...</td>\n      <td>...</td>\n    </tr>\n    <tr>\n      <th>235</th>\n      <td>전단이 연나라와의 전쟁에서 승리했을 당시 제나라의 왕은 누구인가?</td>\n      <td>mrc-0-000484</td>\n      <td>48200</td>\n      <td>기원전 284년에 이르러 당시 제나라의 왕이었던 제 민왕은 강력한 국력을 믿고 교만...</td>\n      <td>[기원전 284년에 이르러 당시 제나라의 왕이었던 제 민왕은 강력한 국력을 믿고 교...</td>\n      <td>[53263, 53265, 53267, 53270, 52028, 53268, 532...</td>\n      <td>[39.95455292901735, 35.573960417694764, 30.360...</td>\n      <td>연나라 군대의 사령관이 악의에서 기겁으로 교체되자, 전단은 스스로 신령의 계시를 받...</td>\n      <td>{'answer_start': [1084], 'text': ['제 양왕']}</td>\n    </tr>\n    <tr>\n      <th>236</th>\n      <td>공놀이 경기장 중 일부는 어디에 위치하고 있나?</td>\n      <td>mrc-0-002095</td>\n      <td>45293</td>\n      <td>경기장은 인사르 강 동쪽 둑에 있는 사란스크의 중심부에 위치해 있다. 경기장은 승용...</td>\n      <td>[경기장은 인사르 강 동쪽 둑에 있는 사란스크의 중심부에 위치해 있다. 경기장은 승...</td>\n      <td>[50336, 47736, 12190, 18830, 18835, 50334, 778...</td>\n      <td>[21.168822242845998, 20.995204545313157, 20.76...</td>\n      <td>현재 우리가 볼 수 있는 티칼의 모습은 펜실베이니아 대학교와 과테말라 정부의 협조 ...</td>\n      <td>{'answer_start': [343], 'text': [''일곱 개의 신전 광장...</td>\n    </tr>\n    <tr>\n      <th>237</th>\n      <td>창씨개명령의 시행일을 미루는 것을 수락한 인물은?</td>\n      <td>mrc-0-003083</td>\n      <td>768</td>\n      <td>1940년 5월 1일 오전 창씨개명에 비협조적이라는 이유로 조선총독부 경무국에서 소...</td>\n      <td>[1940년 5월 1일 오전 창씨개명에 비협조적이라는 이유로 조선총독부 경무국에서 ...</td>\n      <td>[5326, 34671, 7434, 9029, 6921, 11620, 6956, 8...</td>\n      <td>[25.326214908636324]</td>\n      <td>1940년 5월 1일 오전 창씨개명에 비협조적이라는 이유로 조선총독부 경무국에서 소...</td>\n      <td>{'answer_start': [247], 'text': ['미나미 지로']}</td>\n    </tr>\n    <tr>\n      <th>238</th>\n      <td>망코 잉카가 쿠스코를 되찾기 위해 마련한 군사는 총 몇 명인가?</td>\n      <td>mrc-0-002978</td>\n      <td>43553</td>\n      <td>빌카밤바 지역은 파차쿠티 황제 때 부터 잉카 제국에 속해있던 지역이었다. 스페인 군...</td>\n      <td>[빌카밤바 지역은 파차쿠티 황제 때 부터 잉카 제국에 속해있던 지역이었다. 스페인 ...</td>\n      <td>[48575, 55432, 55430, 56329, 48576, 55431, 265...</td>\n      <td>[47.44886519366105, 44.566859383571426, 42.593...</td>\n      <td>빌카밤바 지역은 파차쿠티 황제 때 부터 잉카 제국에 속해있던 지역이었다. 스페인 군...</td>\n      <td>{'answer_start': [563], 'text': ['200,000명']}</td>\n    </tr>\n    <tr>\n      <th>239</th>\n      <td>마르크스주의자들의 사상은?</td>\n      <td>mrc-1-000622</td>\n      <td>41537</td>\n      <td>본래 ‘호자주의’는 엔베르 호자 스스로가 자신의 사상에 대해 명명한 명칭이 아니며,...</td>\n      <td>[본래 ‘호자주의’는 엔베르 호자 스스로가 자신의 사상에 대해 명명한 명칭이 아니며...</td>\n      <td>[46554, 46490, 7776, 5761, 24327, 28966, 17915...</td>\n      <td>[15.55451009385574, 15.208832675823839, 14.266...</td>\n      <td>사회주의 혁명은 오로지 선진노동자계급에 기초한 계급투쟁으로서 이루어질 수 있다고 주...</td>\n      <td>{'answer_start': [811], 'text': ['공산주의']}</td>\n    </tr>\n  </tbody>\n</table>\n<p>240 rows × 9 columns</p>\n</div>"
     },
     "metadata": {},
     "execution_count": 3
    }
   ],
   "source": [
    "topk_train_dataset"
   ]
  },
  {
   "cell_type": "code",
   "execution_count": 5,
   "metadata": {},
   "outputs": [
    {
     "output_type": "stream",
     "name": "stdout",
     "text": [
      "140 0\n"
     ]
    }
   ],
   "source": [
    "prev_k = 3\n",
    "\n",
    "good = []  # minimal doc retrieval due to dynamic topk\n",
    "bad = []    # missed doc retrieval due to dynamic topk\n",
    "\n",
    "for i in range(len(topk_train_dataset)):\n",
    "    ground_truth = topk_train_dataset.iloc[i]['original_context']\n",
    "    top_n = len(topk_train_dataset.iloc[i]['scores'])\n",
    "    contexts = topk_train_dataset.iloc[i]['contexts']\n",
    "\n",
    "    if top_n < prev_k and ground_truth in contexts[:top_n]:\n",
    "        good.append(i)\n",
    "    elif top_n < prev_k and ground_truth in contexts[:prev_k]:\n",
    "        bad.append(i)\n",
    "    # elif top_n >= prev_k and ground_truth not in contexts[:len(top_n)]:\n",
    "    #     bad.append(i)\n",
    "print(len(good), len(bad))"
   ]
  },
  {
   "cell_type": "code",
   "execution_count": null,
   "metadata": {},
   "outputs": [],
   "source": []
  }
 ]
}
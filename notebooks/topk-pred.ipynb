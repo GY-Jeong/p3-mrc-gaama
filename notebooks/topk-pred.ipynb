{
 "metadata": {
  "language_info": {
   "codemirror_mode": {
    "name": "ipython",
    "version": 3
   },
   "file_extension": ".py",
   "mimetype": "text/x-python",
   "name": "python",
   "nbconvert_exporter": "python",
   "pygments_lexer": "ipython3",
   "version": "3.7.7"
  },
  "orig_nbformat": 2,
  "kernelspec": {
   "name": "python377jvsc74a57bd098b0a9b7b4eaaa670588a142fd0a9b87eaafe866f1db4228be72b4211d12040f",
   "display_name": "Python 3.7.7 64-bit ('base': conda)"
  }
 },
 "nbformat": 4,
 "nbformat_minor": 2,
 "cells": [
  {
   "cell_type": "code",
   "execution_count": 1,
   "metadata": {},
   "outputs": [],
   "source": [
    "import json\n",
    "import pickle\n",
    "import re\n",
    "import os\n",
    "from collections import defaultdict\n",
    "from konlpy.tag import Mecab"
   ]
  },
  {
   "cell_type": "code",
   "execution_count": 3,
   "metadata": {},
   "outputs": [],
   "source": [
    "mecab = Mecab()"
   ]
  },
  {
   "cell_type": "code",
   "execution_count": 26,
   "metadata": {},
   "outputs": [],
   "source": [
    "output_dir = '/opt/ml/output/test-lstm-top12-concat'"
   ]
  },
  {
   "cell_type": "code",
   "execution_count": 27,
   "metadata": {},
   "outputs": [],
   "source": [
    "with open(os.path.join(output_dir, 'nbest_predictions.json'), 'r') as f:\n",
    "    nbest = json.load(f)"
   ]
  },
  {
   "cell_type": "code",
   "execution_count": 28,
   "metadata": {},
   "outputs": [],
   "source": [
    "blacklist = ['최소', '대략', '한때', '간혹', '최소한', '필수']\n",
    "\n",
    "def valid_answer(text):\n",
    "    # This function only tests for answers with Korean\n",
    "    if not re.search('[가-힣]', text):\n",
    "        return True\n",
    "    elif text.strip() in blacklist:\n",
    "        return False\n",
    "        \n",
    "    part_of_speech = [x[1][0] for x in mecab.pos(text)]\n",
    "\n",
    "    # TODO: M tag 수식언만 나오는 경우? \n",
    "    if len(part_of_speech) == 1 and 'M' in part_of_speech:\n",
    "        return False\n",
    "    return True\n",
    "    # return 'N' in part_of_speech"
   ]
  },
  {
   "cell_type": "code",
   "execution_count": 29,
   "metadata": {},
   "outputs": [],
   "source": [
    "candidates = defaultdict(list)\n",
    "\n",
    "predictions = {}\n",
    "pattern = re.compile('[.\\\",\\{\\}\\[\\]\\(\\)\\<\\>]')\n",
    "\n",
    "for mrc_id in nbest.keys():\n",
    "    nbest_preds = [(p['text'], p['probability']) for p in nbest[mrc_id]]\n",
    "    sorted_scores = sorted(nbest_preds, key=lambda x:x[1], reverse=True)  # already done?\n",
    "\n",
    "    selected = 0\n",
    "    # 정답이 next highest score 로 넘어가는 경우:\n",
    "    # 1. 괄호, 부호 등을 제외하면 빈 string 일 때 \n",
    "    # 2. 정답의 길이가 30자를 넘어갈 때\n",
    "    # 3. 정답에 체언을 포함하지 않을 때\n",
    "    pred = sorted_scores[selected][0]\n",
    "    while (re.sub(pattern, '', pred) == '' or len(pred) > 30 or not valid_answer(pred)) and selected < len(sorted_scores)-1:\n",
    "        selected += 1\n",
    "        pred = sorted_scores[selected][0]\n",
    "    predictions[mrc_id] = pred"
   ]
  },
  {
   "cell_type": "code",
   "execution_count": 30,
   "metadata": {},
   "outputs": [],
   "source": [
    "with open(os.path.join(output_dir, 'filtered_predictions.json'), 'w') as f:\n",
    "    json.dump(predictions, f, ensure_ascii=False, indent = 4)"
   ]
  },
  {
   "cell_type": "code",
   "execution_count": null,
   "metadata": {},
   "outputs": [],
   "source": []
  }
 ]
}
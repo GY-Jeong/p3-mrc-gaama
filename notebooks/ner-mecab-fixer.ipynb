{
 "metadata": {
  "language_info": {
   "codemirror_mode": {
    "name": "ipython",
    "version": 3
   },
   "file_extension": ".py",
   "mimetype": "text/x-python",
   "name": "python",
   "nbconvert_exporter": "python",
   "pygments_lexer": "ipython3",
   "version": "3.7.7"
  },
  "orig_nbformat": 2,
  "kernelspec": {
   "name": "python377jvsc74a57bd098b0a9b7b4eaaa670588a142fd0a9b87eaafe866f1db4228be72b4211d12040f",
   "display_name": "Python 3.7.7 64-bit ('base': conda)"
  }
 },
 "nbformat": 4,
 "nbformat_minor": 2,
 "cells": [
  {
   "cell_type": "code",
   "execution_count": 1,
   "metadata": {},
   "outputs": [],
   "source": [
    " from pororo import Pororo"
   ]
  },
  {
   "cell_type": "code",
   "execution_count": 2,
   "metadata": {},
   "outputs": [],
   "source": [
    "ner = Pororo(task=\"ner\", lang=\"ko\")\n"
   ]
  },
  {
   "cell_type": "code",
   "execution_count": 3,
   "metadata": {},
   "outputs": [
    {
     "output_type": "execute_result",
     "data": {
      "text/plain": [
       "'O'"
      ]
     },
     "metadata": {},
     "execution_count": 3
    }
   ],
   "source": [
    "res = ner(\"손흥민은 28세의 183 센티미터, 77 킬로그램이며, 현재 주급은 약 3억 원이다.\", apply_wsd=True)\n",
    "res[-1][1]"
   ]
  },
  {
   "cell_type": "code",
   "execution_count": 4,
   "metadata": {},
   "outputs": [],
   "source": [
    "import json\n",
    "from konlpy.tag import Mecab\n",
    "mecab = Mecab()"
   ]
  },
  {
   "cell_type": "code",
   "execution_count": 5,
   "metadata": {},
   "outputs": [
    {
     "output_type": "stream",
     "name": "stdout",
     "text": [
      "['우리', '나라', '에', '는', '무릎', '치료', '를', '잘', '하', '는', '정형', '외과', '가', '없', '는가', '!']\n[('우리', 'NP'), ('나라', 'NNG'), ('에', 'JKB'), ('는', 'JX'), ('무릎', 'NNG'), ('치료', 'NNG'), ('를', 'JKO'), ('잘', 'MAG'), ('하', 'VV'), ('는', 'ETM'), ('정형', 'NNG'), ('외과', 'NNG'), ('가', 'JKS'), ('없', 'VA'), ('는가', 'EF'), ('!', 'SF')]\n"
     ]
    }
   ],
   "source": [
    "# Mecab 사용해보기\n",
    "print(mecab.morphs(u'우리나라에는 무릎 치료를 잘하는 정형외과가 없는가!'))\n",
    "print(mecab.pos(u'우리나라에는 무릎 치료를 잘하는 정형외과가 없는가!'))"
   ]
  },
  {
   "cell_type": "code",
   "execution_count": 6,
   "metadata": {},
   "outputs": [
    {
     "output_type": "execute_result",
     "data": {
      "text/plain": [
       "tuple"
      ]
     },
     "metadata": {},
     "execution_count": 6
    }
   ],
   "source": [
    "type(mecab.pos(u'우리나라에는 무릎 치료를 잘하는 정형외과가 없는가!')[0])"
   ]
  },
  {
   "cell_type": "code",
   "execution_count": 7,
   "metadata": {},
   "outputs": [],
   "source": [
    "MORPH = 0\n",
    "POS = 1  # part of speech\n",
    "\n",
    "def tag_and_remove_particle(text):\n",
    "    res = []\n",
    "    spaced = text.split(' ')\n",
    "    for word in spaced:\n",
    "        res.extend(mecab.pos(word))\n",
    "        res.append(' ')\n",
    "\n",
    "    end = len(res) - 1\n",
    "    for i in range(len(res)-1, -1, -1):\n",
    "        if res[i] == ' ':\n",
    "            continue\n",
    "        if res[i][POS][0] != 'J':\n",
    "            end = i\n",
    "            break\n",
    "    \n",
    "    # return ' '.join(mecab.morphs(text)[:end+1])\n",
    "    morphs = [t[MORPH] if isinstance(t, tuple) else ' ' for t in res[:end+1]]\n",
    "    return ''.join(morphs).rstrip()"
   ]
  },
  {
   "cell_type": "code",
   "execution_count": 8,
   "metadata": {},
   "outputs": [
    {
     "output_type": "stream",
     "name": "stdout",
     "text": [
      "Raw NER: [('준융합성', 'O'), (' ', 'O'), ('천연두', 'DISEASE')]\n",
      "\n",
      "Raw Morphs: ['준', '융합', '성', '천연', '두']\n",
      "\n",
      "[준융합성 천연]\n",
      "Morphs aware: [('준융합성', 'O'), (' ', 'O'), ('천연', 'O')]\n"
     ]
    }
   ],
   "source": [
    "# text = \"지질 과산화 생성물이\"\n",
    "text = '준융합성 천연두'\n",
    "print(f'Raw NER: {ner(text, apply_wsd=True)}\\n')\n",
    "print(f'Raw Morphs: {mecab.morphs(text)}\\n')\n",
    "\n",
    "processed = tag_and_remove_particle(text)\n",
    "print(f'[{processed}]')\n",
    "print(f'Morphs aware: {ner(processed, apply_wsd=True)}')"
   ]
  },
  {
   "cell_type": "code",
   "execution_count": 9,
   "metadata": {},
   "outputs": [],
   "source": [
    "target_json = '/opt/ml/output/predictions.json'\n",
    "with open(target_json) as json_data:\n",
    "    data = json.load(json_data)\n"
   ]
  },
  {
   "cell_type": "code",
   "execution_count": 10,
   "metadata": {},
   "outputs": [
    {
     "output_type": "stream",
     "name": "stdout",
     "text": [
      "mrc-0-004007: Fixed 괴팅겐 -> 괴팅\nmrc-0-005278: Fixed 수오멘 소시알리데모크라티넨 푸올루에 -> 수오멘 소시알리데모크라티넨 푸올루\nmrc-0-005283: Fixed 감각기에 -> 감각기\nmrc-0-001149: Fixed 인공어\n\n인공어 -> 인공어인공어\nmrc-1-001592: Fixed 일본국유철도(이하 국철)과 JR의 노선이 있는 구간이 많다.\n\n국철이 JR -> 일본국유철도(이하 국철)과 JR의 노선이 있는 구간이 많다.국철이 JR\nmrc-0-002758: Fixed 우크라이나 -> 우크라\nmrc-0-001076: Fixed 베다는 -> 베다\nmrc-0-004759: Fixed 가압 카트리지가 -> 가압 카트리지\nmrc-0-002289: Fixed 가덕도 -> 가덕\nmrc-0-002245: Fixed 던전\n\n던전 -> 던전던전\nmrc-1-000841: Fixed 조선총독부에 빌붙고 일제의 통치를 찬양하는 일부 구 대한제국 대신들의 -> 조선총독부에 빌붙고 일제의 통치를 찬양하는 일부 구 대한제국 대신들\nFixed total 11 entries.\n"
     ]
    }
   ],
   "source": [
    "import os\n",
    "from collections import OrderedDict\n",
    "\n",
    "processed_json = OrderedDict()\n",
    "fixed = []\n",
    "\n",
    "for k, v in data.items():\n",
    "    v_fixed = tag_and_remove_particle(v)\n",
    "    if v_fixed != v:\n",
    "        print(f'{k}: Fixed {v} -> {v_fixed}')\n",
    "        processed_json[k] = v_fixed\n",
    "        fixed.append((v,v_fixed))\n",
    "    else:\n",
    "        processed_json[k] = v\n",
    "\n",
    "print(f'Fixed total {len(fixed)} entries.')\n",
    "with open(target_json.split('.')[0]+'_fixed.json', \"w\") as fp:\n",
    "    json.dump(processed_json, fp, ensure_ascii=False, indent = 4)\n",
    "    "
   ]
  },
  {
   "cell_type": "code",
   "execution_count": 11,
   "metadata": {},
   "outputs": [
    {
     "output_type": "stream",
     "name": "stdout",
     "text": [
      "mrc-0-005283: Fixed 감각기에 -> 감각기\n",
      "mrc-0-001149: Fixed 인공어\n",
      "\n",
      "인공어 -> 인공어인공어\n",
      "mrc-0-001076: Fixed 베다는 -> 베다\n",
      "mrc-0-004759: Fixed 가압 카트리지가 -> 가압 카트리지\n",
      "mrc-0-002245: Fixed 던전\n",
      "\n",
      "던전 -> 던전던전\n",
      "mrc-1-000841: Fixed 조선총독부에 빌붙고 일제의 통치를 찬양하는 일부 구 대한제국 대신들의 -> 조선총독부에 빌붙고 일제의 통치를 찬양하는 일부 구 대한제국 대신들\n",
      "Fixed total 6 entries.\n"
     ]
    }
   ],
   "source": [
    "processed_json = OrderedDict()\n",
    "fixed_v2 = []\n",
    "\n",
    "# V2 only attempts to fix output if last element is not 'O'\n",
    "# '천연두' -> '천연' + '두' 로 잘리는 것 방지\n",
    "# Issue? (정답인지 아닌지 모르지만) 원래 정답에 있던 \\n 가 fix 과정에서 사라지는 문제\n",
    "for k, v in data.items():\n",
    "    if ner(v)[-1][POS] != 'O':\n",
    "        processed_json[k] = v\n",
    "    else:\n",
    "        v_fixed = tag_and_remove_particle(v)\n",
    "        if v_fixed != v:\n",
    "            print(f'{k}: Fixed {v} -> {v_fixed}')\n",
    "            processed_json[k] = v_fixed\n",
    "            fixed_v2.append((v,v_fixed))\n",
    "        else:\n",
    "            processed_json[k] = v\n",
    "\n",
    "print(f'Fixed total {len(fixed_v2)} entries.')\n",
    "with open(target_json.split('.')[0]+'_fixed_v2.json', \"w\") as fp:\n",
    "    json.dump(processed_json, fp, ensure_ascii=False, indent = 4)"
   ]
  },
  {
   "cell_type": "code",
   "execution_count": 12,
   "metadata": {},
   "outputs": [
    {
     "output_type": "stream",
     "name": "stdout",
     "text": [
      "{('수오멘 소시알리데모크라티넨 푸올루에', '수오멘 소시알리데모크라티넨 푸올루'), ('가덕도', '가덕'), ('우크라이나', '우크라'), ('괴팅겐', '괴팅'), ('일본국유철도(이하 국철)과 JR의 노선이 있는 구간이 많다.\\n\\n국철이 JR', '일본국유철도(이하 국철)과 JR의 노선이 있는 구간이 많다.국철이 JR')}\n"
     ]
    }
   ],
   "source": [
    "diff = set(fixed) - set(fixed_v2)\n",
    "print(diff)"
   ]
  },
  {
   "cell_type": "code",
   "execution_count": null,
   "metadata": {},
   "outputs": [],
   "source": []
  }
 ]
}
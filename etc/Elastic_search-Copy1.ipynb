{
 "cells": [
  {
   "cell_type": "code",
   "execution_count": 1,
   "id": "e49b7033-50bb-4131-94de-7e7c245d1866",
   "metadata": {},
   "outputs": [],
   "source": [
    "# !python -m pip install elasticsearch\n",
    "# !wget https://artifacts.elastic.co/downloads/elasticsearch/elasticsearch-7.9.2-linux-x86_64.tar.gz -q\n",
    "# !tar -xzf elasticsearch-7.9.2-linux-x86_64.tar.gz\n",
    "# !chown -R daemon:daemon elasticsearch-7.9.2"
   ]
  },
  {
   "cell_type": "code",
   "execution_count": 7,
   "id": "19c75109-c660-431d-9781-b3c89dbdc026",
   "metadata": {},
   "outputs": [],
   "source": [
    "import os\n",
    "from subprocess import Popen, PIPE, STDOUT\n",
    "# es_server.kill()\n",
    "es_server = Popen(['/opt/ml/elasticsearch-7.9.2/bin/elasticsearch'],\n",
    "                   stdout=PIPE, stderr=STDOUT,\n",
    "                   preexec_fn=lambda: os.setuid(1)\n",
    "                  )\n",
    "! sleep 30"
   ]
  },
  {
   "cell_type": "code",
   "execution_count": 3,
   "id": "782cf933-b0a7-4718-ad60-6b7a5622e9a1",
   "metadata": {},
   "outputs": [],
   "source": [
    "# ! /opt/ml/elasticsearch-7.9.2/bin/elasticsearch-plugin install analysis-nori"
   ]
  },
  {
   "cell_type": "code",
   "execution_count": 4,
   "id": "c727b4ab-20ad-4b9d-8cb1-c963eb9b38fb",
   "metadata": {},
   "outputs": [],
   "source": [
    "# es_server.kill()"
   ]
  },
  {
   "cell_type": "code",
   "execution_count": 2,
   "id": "e15c2079-77b5-4751-ac9b-f0c9a589be6c",
   "metadata": {},
   "outputs": [],
   "source": [
    "from elasticsearch import Elasticsearch\n",
    "es = Elasticsearch('localhost:9200')"
   ]
  },
  {
   "cell_type": "code",
   "execution_count": 3,
   "id": "9933303c-3c7c-4b91-a69f-a4ea4fa6b1f5",
   "metadata": {},
   "outputs": [
    {
     "data": {
      "text/plain": [
       "{'name': '640277a98ae6',\n",
       " 'cluster_name': 'elasticsearch',\n",
       " 'cluster_uuid': 'JL4mg3SiSJudLDB6M5KTlQ',\n",
       " 'version': {'number': '7.9.2',\n",
       "  'build_flavor': 'default',\n",
       "  'build_type': 'tar',\n",
       "  'build_hash': 'd34da0ea4a966c4e49417f2da2f244e3e97b4e6e',\n",
       "  'build_date': '2020-09-23T00:45:33.626720Z',\n",
       "  'build_snapshot': False,\n",
       "  'lucene_version': '8.6.2',\n",
       "  'minimum_wire_compatibility_version': '6.8.0',\n",
       "  'minimum_index_compatibility_version': '6.0.0-beta1'},\n",
       " 'tagline': 'You Know, for Search'}"
      ]
     },
     "execution_count": 3,
     "metadata": {},
     "output_type": "execute_result"
    }
   ],
   "source": [
    "es.info()"
   ]
  },
  {
   "cell_type": "code",
   "execution_count": null,
   "id": "2afedb21-471a-487e-b3b8-880430ff31d8",
   "metadata": {},
   "outputs": [],
   "source": [
    "# es.indices.create(index = 'document_v3',\n",
    "#                   body = {\n",
    "#                       'settings':{\n",
    "#                           'analysis':{\n",
    "#                               'analyzer':{\n",
    "#                                   'my_analyzer':{\n",
    "#                                       \"type\": \"custom\",\n",
    "#                                       'tokenizer':'nori_tokenizer',\n",
    "#                                       'decompound_mode':'mixed',\n",
    "#                                       'stopwords':'_korean_',\n",
    "#                                       \"filter\": [\"lowercase\",\n",
    "#                                                  \"my_shingle_f\",\n",
    "#                                                  \"nori_readingform\",\n",
    "#                                                  \"nori_number\"]\n",
    "#                                   }\n",
    "#                               },\n",
    "#                               'filter':{\n",
    "#                                   'my_shingle_f':{\n",
    "#                                       \"type\": \"shingle\"\n",
    "#                                   }\n",
    "#                               }\n",
    "#                           },\n",
    "#                           'similarity':{\n",
    "#                               'my_similarity':{\n",
    "#                                   'type':'BM25',\n",
    "#                               }\n",
    "#                           }\n",
    "#                       },\n",
    "#                       'mappings':{\n",
    "#                           'properties':{\n",
    "#                               'title':{\n",
    "#                                   'type':'text',\n",
    "#                                   'analyzer':'my_analyzer',\n",
    "#                                   'similarity':'my_similarity'\n",
    "#                               },\n",
    "#                               'text':{\n",
    "#                                   'type':'text',\n",
    "#                                   'analyzer':'my_analyzer',\n",
    "#                                   'similarity':'my_similarity'\n",
    "#                               },\n",
    "#                               'document_id':{\n",
    "#                                   'type':'text'\n",
    "#                               }\n",
    "#                           }\n",
    "#                       }\n",
    "#                   }\n",
    "#                   )"
   ]
  },
  {
   "cell_type": "code",
   "execution_count": 10,
   "id": "d9f5faa9-bbc4-461d-84db-b2b323b90125",
   "metadata": {},
   "outputs": [
    {
     "data": {
      "text/plain": [
       "{'document_v3': {'aliases': {},\n",
       "  'mappings': {'properties': {'document_id': {'type': 'text'},\n",
       "    'text': {'type': 'text',\n",
       "     'analyzer': 'my_analyzer',\n",
       "     'similarity': 'my_similarity'},\n",
       "    'title': {'type': 'text',\n",
       "     'analyzer': 'my_analyzer',\n",
       "     'similarity': 'my_similarity'}}},\n",
       "  'settings': {'index': {'number_of_shards': '1',\n",
       "    'provided_name': 'document_v3',\n",
       "    'similarity': {'my_similarity': {'type': 'BM25'}},\n",
       "    'creation_date': '1621409268631',\n",
       "    'analysis': {'filter': {'my_shingle_f': {'type': 'shingle'}},\n",
       "     'analyzer': {'my_analyzer': {'filter': ['lowercase',\n",
       "        'my_shingle_f',\n",
       "        'nori_readingform',\n",
       "        'nori_number'],\n",
       "       'decompound_mode': 'mixed',\n",
       "       'type': 'custom',\n",
       "       'stopwords': '_korean_',\n",
       "       'tokenizer': 'nori_tokenizer'}}},\n",
       "    'number_of_replicas': '1',\n",
       "    'uuid': 'S2twchjZT5-XfTLE9bm_uw',\n",
       "    'version': {'created': '7090299'}}}}}"
      ]
     },
     "execution_count": 10,
     "metadata": {},
     "output_type": "execute_result"
    }
   ],
   "source": [
    "es.indices.get('document_v3')"
   ]
  },
  {
   "cell_type": "code",
   "execution_count": 4,
   "id": "a2697cb8-6742-4888-8b3d-fd7e48695797",
   "metadata": {},
   "outputs": [],
   "source": [
    "import json\n",
    "import pandas as pd\n",
    "\n",
    "with open(\"input/data/wikipedia_documents.json\", 'r') as f:\n",
    "    wiki_data = pd.DataFrame(json.load(f)).transpose()\n",
    "\n",
    "    \n",
    "# with open(\"code/sparse-mecab-koreanwiki/wikipedia_documents_kor_v3.json\", 'r') as f:\n",
    "#     wiki_data = pd.DataFrame(json.load(f)).transpose()\n",
    "    "
   ]
  },
  {
   "cell_type": "code",
   "execution_count": 12,
   "id": "2566e973-2908-44e9-b21a-227c7fd40385",
   "metadata": {
    "scrolled": true,
    "tags": []
   },
   "outputs": [],
   "source": [
    "# from tqdm import tqdm\n",
    "\n",
    "# for num in tqdm(range(len(wiki_data))):\n",
    "#     es.index(index='document_v3', body = {\"title\" : wiki_data['title'][num], \"text\" : wiki_data['text'][num], 'document_id' : wiki_data['document_id'][num]})"
   ]
  },
  {
   "cell_type": "code",
   "execution_count": 5,
   "id": "a54d4899-96e7-44b4-9c65-6f564b65fad2",
   "metadata": {},
   "outputs": [],
   "source": [
    "from datasets import (\n",
    "    Dataset,\n",
    "    load_from_disk,\n",
    "    concatenate_datasets,\n",
    ")\n",
    "from konlpy.tag import Mecab\n",
    "# from rank_bm25 import BM25Okapi"
   ]
  },
  {
   "cell_type": "code",
   "execution_count": 6,
   "id": "53c48eb0-0e11-42f0-8b17-4fec0ff57e19",
   "metadata": {},
   "outputs": [
    {
     "name": "stderr",
     "output_type": "stream",
     "text": [
      "Loading cached processed dataset at /opt/ml/input/data/train_dataset/train/cache-5864ec783ab77348.arrow\n",
      "Loading cached processed dataset at /opt/ml/input/data/train_dataset/validation/cache-ec5c6075463087d0.arrow\n"
     ]
    },
    {
     "name": "stdout",
     "output_type": "stream",
     "text": [
      "**************************************** query dataset ****************************************\n",
      "Dataset({\n",
      "    features: ['__index_level_0__', 'answers', 'context', 'document_id', 'id', 'question', 'title'],\n",
      "    num_rows: 4192\n",
      "})\n"
     ]
    }
   ],
   "source": [
    "org_dataset = load_from_disk(\"/opt/ml/input/data/train_dataset\")\n",
    "full_ds = concatenate_datasets(\n",
    "    [\n",
    "        org_dataset[\"train\"].flatten_indices(),\n",
    "        org_dataset[\"validation\"].flatten_indices(),\n",
    "    ]\n",
    ") # train dev 를 합친 4192 개 질문에 대해 모두 테스트\n",
    "print(\"*\"*40, \"query dataset\", \"*\"*40)\n",
    "print(full_ds)"
   ]
  },
  {
   "cell_type": "code",
   "execution_count": 7,
   "id": "c614cb27-3777-4fe9-929c-7afa542c1a3b",
   "metadata": {},
   "outputs": [
    {
     "data": {
      "text/plain": [
       "'현대 인사 조직 관리 시발점 된 책'"
      ]
     },
     "execution_count": 7,
     "metadata": {},
     "output_type": "execute_result"
    }
   ],
   "source": [
    "import re\n",
    "from konlpy.tag import Mecab\n",
    "\n",
    "mecab = Mecab()\n",
    "\n",
    "# 질문에 특정적인 용어를 삭제하는 함수\n",
    "def remove_q(query):\n",
    "    stop = \"|\".join(\n",
    "        \"어느 무엇인가요 무엇 누가 누구인가요 누구인가 누구 어디에서 어디에 어디서 어디인가요 어디를 어디 언제 어떤 어떠한 몇 얼마 얼마나 뭐 어떻게 무슨 \\?\".split(\n",
    "            \" \"\n",
    "        )\n",
    "    )\n",
    "    rm = re.sub(stop, \"\", query).strip()\n",
    "    return rm\n",
    "\n",
    "\n",
    "# Retriever 에서 사용되는 토크나이저\n",
    "def process_morphs_simple(query):\n",
    "    rm = remove_q(query)\n",
    "    pos = mecab.pos(rm)\n",
    "    return [x[0] for x in pos if x[1][0] != \"J\" and x[1][0] != \"E\" and x[1][0] != \"X\"]\n",
    "\n",
    "' '.join(process_morphs_simple('현대적 인사조직관리의 시발점이 된 책은?'))"
   ]
  },
  {
   "cell_type": "code",
   "execution_count": 8,
   "id": "d36e51db-4d8e-4d36-9225-51db88083fa1",
   "metadata": {},
   "outputs": [],
   "source": [
    "from pororo import Pororo\n",
    "mrc = Pororo(\"mrc\", \"ko\")"
   ]
  },
  {
   "cell_type": "code",
   "execution_count": 9,
   "id": "f8fe2c57-e211-4ac1-a1a6-3c16fb393997",
   "metadata": {
    "scrolled": true,
    "tags": []
   },
   "outputs": [
    {
     "name": "stderr",
     "output_type": "stream",
     "text": [
      "  0%|          | 1/200 [00:00<02:41,  1.23it/s]"
     ]
    },
    {
     "name": "stdout",
     "output_type": "stream",
     "text": [
      "0 [539.831646502018, 360.3888654783368, 68.74030423164368, 50.477137207984924, 7.460983991622925]\n"
     ]
    },
    {
     "name": "stderr",
     "output_type": "stream",
     "text": [
      "  1%|          | 2/200 [00:01<02:17,  1.44it/s]"
     ]
    },
    {
     "name": "stdout",
     "output_type": "stream",
     "text": [
      "0 [708.3188933134079, 38.210346188396215, 49.50748769938946, 9.703505396842957, 111.14139368245378]\n"
     ]
    },
    {
     "name": "stderr",
     "output_type": "stream",
     "text": [
      "  2%|▏         | 3/200 [00:01<02:07,  1.54it/s]"
     ]
    },
    {
     "name": "stdout",
     "output_type": "stream",
     "text": [
      "1 [789.6583446264267, 829.6599164009094, 7.92053747177124, 76.12040543556213, 61.2125163897872]\n"
     ]
    },
    {
     "name": "stderr",
     "output_type": "stream",
     "text": [
      "  2%|▏         | 4/200 [00:02<02:02,  1.60it/s]"
     ]
    },
    {
     "name": "stdout",
     "output_type": "stream",
     "text": [
      "-1 [250.6997872889042, 4.050058148801327, 71.01215648651123, 98.80741900205612, 76.18723368644714]\n"
     ]
    },
    {
     "name": "stderr",
     "output_type": "stream",
     "text": [
      "  2%|▎         | 5/200 [00:02<01:53,  1.71it/s]"
     ]
    },
    {
     "name": "stdout",
     "output_type": "stream",
     "text": [
      "0 [215.76456940174103, 11.229933083057404, 15.211692452430725, 0.2880018353462219, 120.56137329339981]\n"
     ]
    },
    {
     "name": "stderr",
     "output_type": "stream",
     "text": [
      "  3%|▎         | 6/200 [00:03<01:51,  1.74it/s]"
     ]
    },
    {
     "name": "stdout",
     "output_type": "stream",
     "text": [
      "0 [269.2906804876402, 10.028283394873142, 0, 245.45992815494537, 312.21654918789864]\n"
     ]
    },
    {
     "name": "stderr",
     "output_type": "stream",
     "text": [
      "  4%|▎         | 7/200 [00:03<01:45,  1.84it/s]"
     ]
    },
    {
     "name": "stdout",
     "output_type": "stream",
     "text": [
      "0 [670.4985356330872, 654.4736155867577, 726.5972325503826, 524.5801805853844, 108.79445123672485]\n"
     ]
    },
    {
     "name": "stderr",
     "output_type": "stream",
     "text": [
      "  4%|▍         | 8/200 [00:04<01:44,  1.84it/s]"
     ]
    },
    {
     "name": "stdout",
     "output_type": "stream",
     "text": [
      "1 [29.810533672571182, 149.56764030456543, 273.07535776495934, 0, 38.134557247161865]\n"
     ]
    },
    {
     "name": "stderr",
     "output_type": "stream",
     "text": [
      "  4%|▍         | 9/200 [00:04<01:36,  1.98it/s]"
     ]
    },
    {
     "name": "stdout",
     "output_type": "stream",
     "text": [
      "-1 [138.25188011676073, 138.25188011676073, 242.38362246751785, 172.3759081363678, 132.42172890901566]\n"
     ]
    },
    {
     "name": "stderr",
     "output_type": "stream",
     "text": [
      "  5%|▌         | 10/200 [00:05<01:38,  1.94it/s]"
     ]
    },
    {
     "name": "stdout",
     "output_type": "stream",
     "text": [
      "0 [907.8086974620819, 49.03800217807293, 131.0005628168583, 71.61815700586885, 71.61815700586885]\n"
     ]
    },
    {
     "name": "stderr",
     "output_type": "stream",
     "text": [
      "  6%|▌         | 11/200 [00:05<01:30,  2.09it/s]"
     ]
    },
    {
     "name": "stdout",
     "output_type": "stream",
     "text": [
      "2 [195.48808753490448, 9.189721442759037, 236.05906823277473, 24.484090566635132, 23.486283242702484]\n"
     ]
    },
    {
     "name": "stderr",
     "output_type": "stream",
     "text": [
      "  6%|▌         | 12/200 [00:06<01:27,  2.14it/s]"
     ]
    },
    {
     "name": "stdout",
     "output_type": "stream",
     "text": [
      "0 [437.1566943228245, 219.46408474445343, 54.017998307943344, 504.7707362174988, 156.53257060050964]\n"
     ]
    },
    {
     "name": "stderr",
     "output_type": "stream",
     "text": [
      "  6%|▋         | 13/200 [00:06<01:24,  2.21it/s]"
     ]
    },
    {
     "name": "stdout",
     "output_type": "stream",
     "text": [
      "1 [855.3983191251755, 500.181975543499, 71.08458828926086, 454.6903620958328, 441.46349969506264]\n"
     ]
    },
    {
     "name": "stderr",
     "output_type": "stream",
     "text": [
      "  7%|▋         | 14/200 [00:07<01:23,  2.23it/s]"
     ]
    },
    {
     "name": "stdout",
     "output_type": "stream",
     "text": [
      "-1 [133.09918677806854, 133.09918677806854, 100.78444480895996, 100.78444480895996, 101.04621621966362]\n"
     ]
    },
    {
     "name": "stderr",
     "output_type": "stream",
     "text": [
      "  8%|▊         | 15/200 [00:07<01:22,  2.24it/s]"
     ]
    },
    {
     "name": "stdout",
     "output_type": "stream",
     "text": [
      "1 [330.48030626773834, 403.7981187850237, 113.88832116127014, 369.69355860352516, 523.7321781516075]\n"
     ]
    },
    {
     "name": "stderr",
     "output_type": "stream",
     "text": [
      "  8%|▊         | 16/200 [00:07<01:25,  2.15it/s]"
     ]
    },
    {
     "name": "stdout",
     "output_type": "stream",
     "text": [
      "0 [675.648790448904, 95.65656185150146, 178.30497789382935, 61.36060424282914, 245.82705771923065]\n"
     ]
    },
    {
     "name": "stderr",
     "output_type": "stream",
     "text": [
      "  8%|▊         | 17/200 [00:08<01:32,  1.97it/s]"
     ]
    },
    {
     "name": "stdout",
     "output_type": "stream",
     "text": [
      "1 [102.91251009516418, 224.68605148792267, 212.89099371433258, 88.08110946416855, 351.16095741372555]\n"
     ]
    },
    {
     "name": "stderr",
     "output_type": "stream",
     "text": [
      "  9%|▉         | 18/200 [00:09<01:31,  1.99it/s]"
     ]
    },
    {
     "name": "stdout",
     "output_type": "stream",
     "text": [
      "0 [235.439057379961, 203.47551611065865, 398.12438702583313, 335.9266438409686, 193.7359893321991]\n"
     ]
    },
    {
     "name": "stderr",
     "output_type": "stream",
     "text": [
      " 10%|▉         | 19/200 [00:09<01:29,  2.01it/s]"
     ]
    },
    {
     "name": "stdout",
     "output_type": "stream",
     "text": [
      "0 [380.8476815223694, 124.44823825359344, 262.11699146032333, 35.168561697006226, 0]\n"
     ]
    },
    {
     "name": "stderr",
     "output_type": "stream",
     "text": [
      " 10%|█         | 20/200 [00:10<01:32,  1.95it/s]"
     ]
    },
    {
     "name": "stdout",
     "output_type": "stream",
     "text": [
      "-1 [290.6550970673561, 335.5910018980503, 273.13258385658264, 54.20872965455055, 54.20872965455055]\n"
     ]
    },
    {
     "name": "stderr",
     "output_type": "stream",
     "text": [
      " 10%|█         | 21/200 [00:10<01:28,  2.01it/s]"
     ]
    },
    {
     "name": "stdout",
     "output_type": "stream",
     "text": [
      "0 [231.3772776182741, 416.481860011816, 62.53168773651123, 79.10269176959991, 188.4624863266945]\n"
     ]
    },
    {
     "name": "stderr",
     "output_type": "stream",
     "text": [
      " 11%|█         | 22/200 [00:11<01:34,  1.88it/s]"
     ]
    },
    {
     "name": "stdout",
     "output_type": "stream",
     "text": [
      "0 [892.9279094338417, 114.61370787024498, 0, 119.16533422470093, 357.6625597476959]\n"
     ]
    },
    {
     "name": "stderr",
     "output_type": "stream",
     "text": [
      " 12%|█▏        | 23/200 [00:11<01:31,  1.93it/s]"
     ]
    },
    {
     "name": "stdout",
     "output_type": "stream",
     "text": [
      "0 [207.16363560408354, 77.44842291623354, 130.37980285286903, 415.70827186107635, 246.0585278905928]\n"
     ]
    },
    {
     "name": "stderr",
     "output_type": "stream",
     "text": [
      " 12%|█▏        | 24/200 [00:12<01:25,  2.06it/s]"
     ]
    },
    {
     "name": "stdout",
     "output_type": "stream",
     "text": [
      "0 [118.33998342975974, 406.23412612080574, 224.118289668113, 207.86058424413204, 149.82626327127218]\n"
     ]
    },
    {
     "name": "stderr",
     "output_type": "stream",
     "text": [
      " 12%|█▎        | 25/200 [00:12<01:21,  2.13it/s]"
     ]
    },
    {
     "name": "stdout",
     "output_type": "stream",
     "text": [
      "1 [490.3100635409355, 436.0271591246128, 14.312092423439026, 360.44378427416086, 36.8714487105608]\n"
     ]
    },
    {
     "name": "stderr",
     "output_type": "stream",
     "text": [
      " 13%|█▎        | 26/200 [00:12<01:20,  2.15it/s]"
     ]
    },
    {
     "name": "stdout",
     "output_type": "stream",
     "text": [
      "0 [460.10275980085135, 24.906169652938843, 472.951154589653, 25.43516843020916, 25.02217623963952]\n"
     ]
    },
    {
     "name": "stderr",
     "output_type": "stream",
     "text": [
      " 14%|█▎        | 27/200 [00:13<01:19,  2.16it/s]"
     ]
    },
    {
     "name": "stdout",
     "output_type": "stream",
     "text": [
      "0 [294.3815523684025, 574.0789044201374, 457.858962893486, 169.60384261608124, 533.1914265453815]\n"
     ]
    },
    {
     "name": "stderr",
     "output_type": "stream",
     "text": [
      " 14%|█▍        | 28/200 [00:14<01:26,  1.99it/s]"
     ]
    },
    {
     "name": "stdout",
     "output_type": "stream",
     "text": [
      "0 [1021.7296230494976, 35.48426506668329, 33.14534694701433, 125.73939627408981, 367.3883979022503]\n"
     ]
    },
    {
     "name": "stderr",
     "output_type": "stream",
     "text": [
      " 14%|█▍        | 29/200 [00:14<01:24,  2.02it/s]"
     ]
    },
    {
     "name": "stdout",
     "output_type": "stream",
     "text": [
      "0 [1446.9779381752014, 399.53455209732056, 560.6392706036568, 21.467389702796936, 0]\n"
     ]
    },
    {
     "name": "stderr",
     "output_type": "stream",
     "text": [
      " 15%|█▌        | 30/200 [00:15<01:24,  2.01it/s]"
     ]
    },
    {
     "name": "stdout",
     "output_type": "stream",
     "text": [
      "1 [75.24929738044739, 57.08718252182007, 26.613144516944885, 11.030464828014374, 11.030464828014374]\n"
     ]
    },
    {
     "name": "stderr",
     "output_type": "stream",
     "text": [
      " 16%|█▌        | 31/200 [00:15<01:19,  2.13it/s]"
     ]
    },
    {
     "name": "stdout",
     "output_type": "stream",
     "text": [
      "0 [212.54857125878334, 63.0191975235939, 473.1687207221985, 203.89437586441636, 25.988196197897196]\n"
     ]
    },
    {
     "name": "stderr",
     "output_type": "stream",
     "text": [
      " 16%|█▌        | 32/200 [00:15<01:19,  2.10it/s]"
     ]
    },
    {
     "name": "stdout",
     "output_type": "stream",
     "text": [
      "-1 [31.170285892672837, 220.0663787126541, 61.22229692339897, 0.47630734741687775, 61.076612666249275]\n"
     ]
    },
    {
     "name": "stderr",
     "output_type": "stream",
     "text": [
      " 16%|█▋        | 33/200 [00:16<01:20,  2.07it/s]"
     ]
    },
    {
     "name": "stdout",
     "output_type": "stream",
     "text": [
      "0 [304.523154925555, 232.69948598742485, 247.2441732287407, 189.82703769207, 109.86784553527832]\n"
     ]
    },
    {
     "name": "stderr",
     "output_type": "stream",
     "text": [
      " 17%|█▋        | 34/200 [00:16<01:18,  2.12it/s]"
     ]
    },
    {
     "name": "stdout",
     "output_type": "stream",
     "text": [
      "-1 [21.643962919712067, 38.67717331647873, 139.3997323513031, 139.3997323513031, 259.6753377020359]\n"
     ]
    },
    {
     "name": "stderr",
     "output_type": "stream",
     "text": [
      " 18%|█▊        | 35/200 [00:17<01:13,  2.23it/s]"
     ]
    },
    {
     "name": "stdout",
     "output_type": "stream",
     "text": [
      "0 [249.97523492574692, 35.927656412124634, 0, 87.22277149092406, 83.90640987455845]\n"
     ]
    },
    {
     "name": "stderr",
     "output_type": "stream",
     "text": [
      " 18%|█▊        | 36/200 [00:17<01:12,  2.27it/s]"
     ]
    },
    {
     "name": "stdout",
     "output_type": "stream",
     "text": [
      "0 [271.4140488356352, 141.79693914577365, 325.8979478776455, 148.92555785179138, 308.1817630343139]\n"
     ]
    },
    {
     "name": "stderr",
     "output_type": "stream",
     "text": [
      " 18%|█▊        | 37/200 [00:18<01:18,  2.07it/s]"
     ]
    },
    {
     "name": "stdout",
     "output_type": "stream",
     "text": [
      "0 [981.7745033502579, 633.1660906672478, 99.95996409654617, 103.45001327991486, 100.80505141615868]\n"
     ]
    },
    {
     "name": "stderr",
     "output_type": "stream",
     "text": [
      " 19%|█▉        | 38/200 [00:18<01:21,  1.98it/s]"
     ]
    },
    {
     "name": "stdout",
     "output_type": "stream",
     "text": [
      "-1 [371.4940936565399, 9.110113263130188, 83.96499353647232, 27.91543970629573, 100.78310172446072]\n"
     ]
    },
    {
     "name": "stderr",
     "output_type": "stream",
     "text": [
      " 20%|█▉        | 39/200 [00:19<01:26,  1.85it/s]"
     ]
    },
    {
     "name": "stdout",
     "output_type": "stream",
     "text": [
      "0 [697.8704096525908, 0, 65.0311484336853, 78.20880889892578, 77.17220032215118]\n"
     ]
    },
    {
     "name": "stderr",
     "output_type": "stream",
     "text": [
      " 20%|██        | 40/200 [00:20<01:30,  1.77it/s]"
     ]
    },
    {
     "name": "stdout",
     "output_type": "stream",
     "text": [
      "0 [704.1147536484059, 74.55411177873611, 230.02136653661728, 83.66528603434563, 530.4512937068939]\n"
     ]
    },
    {
     "name": "stderr",
     "output_type": "stream",
     "text": [
      " 20%|██        | 41/200 [00:20<01:28,  1.80it/s]"
     ]
    },
    {
     "name": "stdout",
     "output_type": "stream",
     "text": [
      "1 [292.0798773765564, 285.72165751457214, 611.8880988359451, 611.8880988359451, 138.3970919251442]\n"
     ]
    },
    {
     "name": "stderr",
     "output_type": "stream",
     "text": [
      " 21%|██        | 42/200 [00:21<01:26,  1.82it/s]"
     ]
    },
    {
     "name": "stdout",
     "output_type": "stream",
     "text": [
      "0 [454.840852022171, 88.76353073120117, 88.76353073120117, 387.0123003721237, 26.94887089729309]\n"
     ]
    },
    {
     "name": "stderr",
     "output_type": "stream",
     "text": [
      " 22%|██▏       | 43/200 [00:21<01:21,  1.94it/s]"
     ]
    },
    {
     "name": "stdout",
     "output_type": "stream",
     "text": [
      "0 [111.2029515504837, 195.73713636398315, 215.94736345112324, 719.0745375156403, 272.73906898498535]\n"
     ]
    },
    {
     "name": "stderr",
     "output_type": "stream",
     "text": [
      " 22%|██▏       | 44/200 [00:22<01:22,  1.89it/s]"
     ]
    },
    {
     "name": "stdout",
     "output_type": "stream",
     "text": [
      "2 [96.58599495887756, 96.58599495887756, 133.86736750602722, 127.96584630012512, 40.32599472999573]\n"
     ]
    },
    {
     "name": "stderr",
     "output_type": "stream",
     "text": [
      " 22%|██▎       | 45/200 [00:22<01:19,  1.94it/s]"
     ]
    },
    {
     "name": "stdout",
     "output_type": "stream",
     "text": [
      "0 [328.91606163978577, 21.763088047504425, 60.284396052360535, 60.284396052360535, 355.3542833328247]\n"
     ]
    },
    {
     "name": "stderr",
     "output_type": "stream",
     "text": [
      " 23%|██▎       | 46/200 [00:23<01:24,  1.83it/s]"
     ]
    },
    {
     "name": "stdout",
     "output_type": "stream",
     "text": [
      "0 [33.287772085517645, 21.195709705352783, 21.195709705352783, 67.08243823051453, 72.89107337594032]\n"
     ]
    },
    {
     "name": "stderr",
     "output_type": "stream",
     "text": [
      " 24%|██▎       | 47/200 [00:23<01:20,  1.91it/s]"
     ]
    },
    {
     "name": "stdout",
     "output_type": "stream",
     "text": [
      "0 [298.7048053741455, 197.42659920454025, 0, 0.6799963200464845, 271.65071538090706]\n"
     ]
    },
    {
     "name": "stderr",
     "output_type": "stream",
     "text": [
      " 24%|██▍       | 48/200 [00:24<01:18,  1.94it/s]"
     ]
    },
    {
     "name": "stdout",
     "output_type": "stream",
     "text": [
      "0 [669.5149377286434, 116.42665491998196, 0, 9.5661131888628, 0]\n"
     ]
    },
    {
     "name": "stderr",
     "output_type": "stream",
     "text": [
      " 24%|██▍       | 49/200 [00:24<01:15,  2.01it/s]"
     ]
    },
    {
     "name": "stdout",
     "output_type": "stream",
     "text": [
      "0 [255.38809102773666, 185.82008200883865, 83.23842895030975, 83.23842895030975, 35.2233145236969]\n"
     ]
    },
    {
     "name": "stderr",
     "output_type": "stream",
     "text": [
      " 25%|██▌       | 50/200 [00:25<01:15,  2.00it/s]"
     ]
    },
    {
     "name": "stdout",
     "output_type": "stream",
     "text": [
      "0 [424.03949105739594, 63.183522921055555, 31.103978108614683, 256.5858007669449, 128.48216319084167]\n"
     ]
    },
    {
     "name": "stderr",
     "output_type": "stream",
     "text": [
      " 26%|██▌       | 51/200 [00:25<01:18,  1.90it/s]"
     ]
    },
    {
     "name": "stdout",
     "output_type": "stream",
     "text": [
      "0 [186.85504281520844, 79.03798501938581, 238.33657549321651, 261.2575362920761, 83.65558618307114]\n"
     ]
    },
    {
     "name": "stderr",
     "output_type": "stream",
     "text": [
      " 26%|██▌       | 52/200 [00:26<01:21,  1.83it/s]"
     ]
    },
    {
     "name": "stdout",
     "output_type": "stream",
     "text": [
      "0 [389.68969321250916, 150.7541264295578, 50.20714124664664, 67.26004067063332, 34.314499869942665]\n"
     ]
    },
    {
     "name": "stderr",
     "output_type": "stream",
     "text": [
      " 26%|██▋       | 53/200 [00:26<01:15,  1.96it/s]"
     ]
    },
    {
     "name": "stdout",
     "output_type": "stream",
     "text": [
      "0 [9.242600202560425, 109.73213851451874, 76.99309971928596, 60.610464334487915, 533.0052552223206]\n"
     ]
    },
    {
     "name": "stderr",
     "output_type": "stream",
     "text": [
      " 27%|██▋       | 54/200 [00:27<01:13,  1.99it/s]"
     ]
    },
    {
     "name": "stdout",
     "output_type": "stream",
     "text": [
      "1 [544.4558747420087, 458.29774976952467, 107.46108990907669, 188.9889834150672, 33.79814771562815]\n"
     ]
    },
    {
     "name": "stderr",
     "output_type": "stream",
     "text": [
      " 28%|██▊       | 55/200 [00:27<01:11,  2.02it/s]"
     ]
    },
    {
     "name": "stdout",
     "output_type": "stream",
     "text": [
      "0 [583.2539865374565, 67.1263198852539, 67.1263198852539, 156.29064654931426, 62.14203618466854]\n"
     ]
    },
    {
     "name": "stderr",
     "output_type": "stream",
     "text": [
      " 28%|██▊       | 56/200 [00:28<01:09,  2.07it/s]"
     ]
    },
    {
     "name": "stdout",
     "output_type": "stream",
     "text": [
      "-1 [309.0730549097061, 248.55210546776652, 32.84208536148071, 187.40780740976334, 0.5880244236905128]\n"
     ]
    },
    {
     "name": "stderr",
     "output_type": "stream",
     "text": [
      " 28%|██▊       | 57/200 [00:28<01:08,  2.10it/s]"
     ]
    },
    {
     "name": "stdout",
     "output_type": "stream",
     "text": [
      "0 [217.40078032016754, 125.3318943977356, 138.41900887340307, 332.00387528538704, 0]\n"
     ]
    },
    {
     "name": "stderr",
     "output_type": "stream",
     "text": [
      " 29%|██▉       | 58/200 [00:29<01:07,  2.11it/s]"
     ]
    },
    {
     "name": "stdout",
     "output_type": "stream",
     "text": [
      "-1 [246.87428152561188, 71.6581414937973, 109.39283427596092, 7.296204090118408, 15.759150266647339]\n"
     ]
    },
    {
     "name": "stderr",
     "output_type": "stream",
     "text": [
      " 30%|██▉       | 59/200 [00:29<01:05,  2.14it/s]"
     ]
    },
    {
     "name": "stdout",
     "output_type": "stream",
     "text": [
      "3 [162.2492284476757, 363.1473958492279, 423.73796017095447, 593.962592959404, 171.94372606277466]\n"
     ]
    },
    {
     "name": "stderr",
     "output_type": "stream",
     "text": [
      " 30%|███       | 60/200 [00:29<01:02,  2.22it/s]"
     ]
    },
    {
     "name": "stdout",
     "output_type": "stream",
     "text": [
      "-1 [101.17089177668095, 72.44201490283012, 69.34519356675446, 112.70015260577202, 12.48295670747757]\n"
     ]
    },
    {
     "name": "stderr",
     "output_type": "stream",
     "text": [
      " 30%|███       | 61/200 [00:30<01:07,  2.07it/s]"
     ]
    },
    {
     "name": "stdout",
     "output_type": "stream",
     "text": [
      "0 [231.8612800836563, 32.125033020973206, 156.35341095924377, 121.15170413255692, 82.65057582035661]\n"
     ]
    },
    {
     "name": "stderr",
     "output_type": "stream",
     "text": [
      " 31%|███       | 62/200 [00:31<01:09,  1.97it/s]"
     ]
    },
    {
     "name": "stdout",
     "output_type": "stream",
     "text": [
      "0 [135.42373994830996, 343.0353010855615, 285.97005299292505, 75.56404418498278, 272.96704736351967]\n"
     ]
    },
    {
     "name": "stderr",
     "output_type": "stream",
     "text": [
      " 32%|███▏      | 63/200 [00:31<01:08,  2.01it/s]"
     ]
    },
    {
     "name": "stdout",
     "output_type": "stream",
     "text": [
      "0 [148.11203033477068, 21.552707850933075, 292.74496203660965, 98.41424185037613, 778.5359247326851]\n"
     ]
    },
    {
     "name": "stderr",
     "output_type": "stream",
     "text": [
      " 32%|███▏      | 64/200 [00:31<01:04,  2.10it/s]"
     ]
    },
    {
     "name": "stdout",
     "output_type": "stream",
     "text": [
      "0 [157.95178204774857, 704.9871053695679, 198.12775182724, 16.636895835399628, 171.60740649700165]\n"
     ]
    },
    {
     "name": "stderr",
     "output_type": "stream",
     "text": [
      " 32%|███▎      | 65/200 [00:32<01:06,  2.03it/s]"
     ]
    },
    {
     "name": "stdout",
     "output_type": "stream",
     "text": [
      "4 [195.9136028289795, 195.9136028289795, 63.837182223796844, 63.837182223796844, 254.88617151975632]\n"
     ]
    },
    {
     "name": "stderr",
     "output_type": "stream",
     "text": [
      " 33%|███▎      | 66/200 [00:32<01:02,  2.15it/s]"
     ]
    },
    {
     "name": "stdout",
     "output_type": "stream",
     "text": [
      "-1 [12.502404630184174, 41.87622605310753, 667.9811067581177, 100.0617576688528, 191.73231323063374]\n"
     ]
    },
    {
     "name": "stderr",
     "output_type": "stream",
     "text": [
      " 34%|███▎      | 67/200 [00:33<00:58,  2.27it/s]"
     ]
    },
    {
     "name": "stdout",
     "output_type": "stream",
     "text": [
      "0 [550.7074230909348, 321.45848912000656, 301.5415836572647, 485.5017616301775, 347.7845356464386]\n"
     ]
    },
    {
     "name": "stderr",
     "output_type": "stream",
     "text": [
      " 34%|███▍      | 68/200 [00:33<00:58,  2.26it/s]"
     ]
    },
    {
     "name": "stdout",
     "output_type": "stream",
     "text": [
      "0 [123.86610352993011, 536.8628427386284, 502.0016541481018, 253.19198167324066, 426.0930415391922]\n"
     ]
    },
    {
     "name": "stderr",
     "output_type": "stream",
     "text": [
      " 34%|███▍      | 69/200 [00:34<00:59,  2.20it/s]"
     ]
    },
    {
     "name": "stdout",
     "output_type": "stream",
     "text": [
      "0 [344.2432228922844, 278.45638855546713, 412.1420644521713, 82.98182260990143, 63.357424318790436]\n"
     ]
    },
    {
     "name": "stderr",
     "output_type": "stream",
     "text": [
      " 35%|███▌      | 70/200 [00:34<01:03,  2.05it/s]"
     ]
    },
    {
     "name": "stdout",
     "output_type": "stream",
     "text": [
      "0 [229.78939216956496, 129.25662064552307, 236.35965260863304, 145.05896639823914, 42.31330207362771]\n"
     ]
    },
    {
     "name": "stderr",
     "output_type": "stream",
     "text": [
      " 36%|███▌      | 71/200 [00:35<01:04,  2.00it/s]"
     ]
    },
    {
     "name": "stdout",
     "output_type": "stream",
     "text": [
      "0 [218.62604475021362, 78.67340916953981, 0, 12.965514183044434, 0]\n"
     ]
    },
    {
     "name": "stderr",
     "output_type": "stream",
     "text": [
      " 36%|███▌      | 72/200 [00:35<01:06,  1.92it/s]"
     ]
    },
    {
     "name": "stdout",
     "output_type": "stream",
     "text": [
      "1 [146.84737300872803, 317.18362098932266, 181.18078446388245, 300.67756310105324, 347.49459794163704]\n"
     ]
    },
    {
     "name": "stderr",
     "output_type": "stream",
     "text": [
      " 36%|███▋      | 73/200 [00:36<01:06,  1.91it/s]"
     ]
    },
    {
     "name": "stdout",
     "output_type": "stream",
     "text": [
      "0 [279.161269903183, 139.84585723280907, 80.93344366550446, 2.352720260620117, 4.843890495598316]\n"
     ]
    },
    {
     "name": "stderr",
     "output_type": "stream",
     "text": [
      " 37%|███▋      | 74/200 [00:36<01:06,  1.88it/s]"
     ]
    },
    {
     "name": "stdout",
     "output_type": "stream",
     "text": [
      "1 [121.60673666000366, 1537.1539421081543, 88.44028792530298, 228.54776811599731, 44.731764793395996]\n"
     ]
    },
    {
     "name": "stderr",
     "output_type": "stream",
     "text": [
      " 38%|███▊      | 75/200 [00:37<01:01,  2.02it/s]"
     ]
    },
    {
     "name": "stdout",
     "output_type": "stream",
     "text": [
      "-1 [18.52243535220623, 9.34679514169693, 1144.7306461334229, 20.1988722383976, 21.995736956596375]\n"
     ]
    },
    {
     "name": "stderr",
     "output_type": "stream",
     "text": [
      " 38%|███▊      | 76/200 [00:37<01:00,  2.06it/s]"
     ]
    },
    {
     "name": "stdout",
     "output_type": "stream",
     "text": [
      "1 [373.87753450870514, 158.1788945645094, 166.33521940000355, 202.89541175961494, 202.89541175961494]\n"
     ]
    },
    {
     "name": "stderr",
     "output_type": "stream",
     "text": [
      " 38%|███▊      | 77/200 [00:38<00:58,  2.12it/s]"
     ]
    },
    {
     "name": "stdout",
     "output_type": "stream",
     "text": [
      "1 [398.3739454448223, 424.5794881284237, 100.20354968309402, 107.53861784934998, 30.291543820872903]\n"
     ]
    },
    {
     "name": "stderr",
     "output_type": "stream",
     "text": [
      " 39%|███▉      | 78/200 [00:38<00:56,  2.16it/s]"
     ]
    },
    {
     "name": "stdout",
     "output_type": "stream",
     "text": [
      "0 [240.8211793769151, 323.886268556118, 126.51624250411987, 309.088776871562, 437.08446407318115]\n"
     ]
    },
    {
     "name": "stderr",
     "output_type": "stream",
     "text": [
      " 40%|███▉      | 79/200 [00:39<00:57,  2.10it/s]"
     ]
    },
    {
     "name": "stdout",
     "output_type": "stream",
     "text": [
      "2 [418.75163197517395, 57.90347349643707, 367.41147696971893, 119.38076961040497, 40.34788125753403]\n"
     ]
    },
    {
     "name": "stderr",
     "output_type": "stream",
     "text": [
      " 40%|████      | 80/200 [00:39<00:56,  2.12it/s]"
     ]
    },
    {
     "name": "stdout",
     "output_type": "stream",
     "text": [
      "0 [992.2412078678608, 2213.9795898646116, 485.88409316539764, 169.39268600288779, 289.2848833799362]\n"
     ]
    },
    {
     "name": "stderr",
     "output_type": "stream",
     "text": [
      " 40%|████      | 81/200 [00:40<00:55,  2.13it/s]"
     ]
    },
    {
     "name": "stdout",
     "output_type": "stream",
     "text": [
      "0 [185.75872826576233, 218.48648366332054, 218.48648366332054, 100.85189437866211, 100.85189437866211]\n"
     ]
    },
    {
     "name": "stderr",
     "output_type": "stream",
     "text": [
      " 41%|████      | 82/200 [00:40<00:58,  2.03it/s]"
     ]
    },
    {
     "name": "stdout",
     "output_type": "stream",
     "text": [
      "0 [32.09013685584068, 65.93193021416664, 44.39337536692619, 44.39337536692619, 89.70790520310402]\n"
     ]
    },
    {
     "name": "stderr",
     "output_type": "stream",
     "text": [
      " 42%|████▏     | 83/200 [00:41<01:00,  1.94it/s]"
     ]
    },
    {
     "name": "stdout",
     "output_type": "stream",
     "text": [
      "-1 [201.58935058116913, 168.64331835508347, 245.25040996074677, 513.7169616520405, 312.7850110530853]\n"
     ]
    },
    {
     "name": "stderr",
     "output_type": "stream",
     "text": [
      " 42%|████▏     | 84/200 [00:41<00:58,  1.99it/s]"
     ]
    },
    {
     "name": "stdout",
     "output_type": "stream",
     "text": [
      "0 [263.13745003938675, 66.67964220046997, 233.78494131565094, 233.78494131565094, 0.5018125474452972]\n"
     ]
    },
    {
     "name": "stderr",
     "output_type": "stream",
     "text": [
      " 42%|████▎     | 85/200 [00:42<00:57,  2.02it/s]"
     ]
    },
    {
     "name": "stdout",
     "output_type": "stream",
     "text": [
      "-1 [81.80032731592655, 0, 109.52425146102905, 266.02043572068214, 507.67204236239195]\n"
     ]
    },
    {
     "name": "stderr",
     "output_type": "stream",
     "text": [
      " 43%|████▎     | 86/200 [00:42<00:54,  2.09it/s]"
     ]
    },
    {
     "name": "stdout",
     "output_type": "stream",
     "text": [
      "1 [306.9751135110855, 283.7515207529068, 223.87775373458862, 119.26418889313936, 376.36698746681213]\n"
     ]
    },
    {
     "name": "stderr",
     "output_type": "stream",
     "text": [
      " 44%|████▎     | 87/200 [00:43<00:51,  2.21it/s]"
     ]
    },
    {
     "name": "stdout",
     "output_type": "stream",
     "text": [
      "0 [226.03825701773167, 144.3962914943695, 89.96399736404419, 13.06006108596921, 111.53178822994232]\n"
     ]
    },
    {
     "name": "stderr",
     "output_type": "stream",
     "text": [
      " 44%|████▍     | 88/200 [00:43<00:50,  2.20it/s]"
     ]
    },
    {
     "name": "stdout",
     "output_type": "stream",
     "text": [
      "1 [305.38300132751465, 340.8674440383911, 30.20892572402954, 30.20892572402954, 69.94243586063385]\n"
     ]
    },
    {
     "name": "stderr",
     "output_type": "stream",
     "text": [
      " 44%|████▍     | 89/200 [00:43<00:49,  2.24it/s]"
     ]
    },
    {
     "name": "stdout",
     "output_type": "stream",
     "text": [
      "0 [205.18780148029327, 449.72873985767365, 20.25579136610031, 260.9117259979248, 66.17745512723923]\n"
     ]
    },
    {
     "name": "stderr",
     "output_type": "stream",
     "text": [
      " 45%|████▌     | 90/200 [00:44<00:51,  2.15it/s]"
     ]
    },
    {
     "name": "stdout",
     "output_type": "stream",
     "text": [
      "0 [532.3255648612976, 5.239137440919876, 105.85640136897564, 811.4929128289223, 20.873772382736206]\n"
     ]
    },
    {
     "name": "stderr",
     "output_type": "stream",
     "text": [
      " 46%|████▌     | 91/200 [00:44<00:46,  2.32it/s]"
     ]
    },
    {
     "name": "stdout",
     "output_type": "stream",
     "text": [
      "-1 [114.67682647705078, 372.7123359031975, 388.05552953481674, 594.8312838673592, 286.8057460486889]\n"
     ]
    },
    {
     "name": "stderr",
     "output_type": "stream",
     "text": [
      " 46%|████▌     | 92/200 [00:45<00:44,  2.43it/s]"
     ]
    },
    {
     "name": "stdout",
     "output_type": "stream",
     "text": [
      "0 [18.538787379860878, 97.36272731423378, 215.48341581225395, 210.29492083191872, 118.60167688131332]\n"
     ]
    },
    {
     "name": "stderr",
     "output_type": "stream",
     "text": [
      " 46%|████▋     | 93/200 [00:45<00:44,  2.38it/s]"
     ]
    },
    {
     "name": "stdout",
     "output_type": "stream",
     "text": [
      "4 [174.97649309039116, 8.009580612182617, 8.009580612182617, 99.49010735750198, 473.01817813515663]\n"
     ]
    },
    {
     "name": "stderr",
     "output_type": "stream",
     "text": [
      " 47%|████▋     | 94/200 [00:46<00:50,  2.12it/s]"
     ]
    },
    {
     "name": "stdout",
     "output_type": "stream",
     "text": [
      "-1 [113.63673178479075, 53.79505917429924, 74.29976201057434, 72.12790209054947, 72.12790209054947]\n"
     ]
    },
    {
     "name": "stderr",
     "output_type": "stream",
     "text": [
      " 48%|████▊     | 95/200 [00:46<00:47,  2.22it/s]"
     ]
    },
    {
     "name": "stdout",
     "output_type": "stream",
     "text": [
      "1 [270.15077209472656, 331.55093264579773, 176.99751961231232, 176.99751961231232, 150.10160756111145]\n"
     ]
    },
    {
     "name": "stderr",
     "output_type": "stream",
     "text": [
      " 48%|████▊     | 96/200 [00:47<00:49,  2.12it/s]"
     ]
    },
    {
     "name": "stdout",
     "output_type": "stream",
     "text": [
      "-1 [445.5897110104561, 343.51719415187836, 342.6995322406292, 0, 87.54362726211548]\n"
     ]
    },
    {
     "name": "stderr",
     "output_type": "stream",
     "text": [
      " 48%|████▊     | 97/200 [00:47<00:50,  2.03it/s]"
     ]
    },
    {
     "name": "stdout",
     "output_type": "stream",
     "text": [
      "0 [570.0647947788239, 267.38716980814934, 251.18566408008337, 149.68883204460144, 149.68883204460144]\n"
     ]
    },
    {
     "name": "stderr",
     "output_type": "stream",
     "text": [
      " 49%|████▉     | 98/200 [00:48<00:54,  1.86it/s]"
     ]
    },
    {
     "name": "stdout",
     "output_type": "stream",
     "text": [
      "1 [435.5147895812988, 451.71652269363403, 1.9368265867233276, 160.36825039982796, 40.31014430522919]\n"
     ]
    },
    {
     "name": "stderr",
     "output_type": "stream",
     "text": [
      " 50%|████▉     | 99/200 [00:48<00:55,  1.82it/s]"
     ]
    },
    {
     "name": "stdout",
     "output_type": "stream",
     "text": [
      "0 [444.4363942146301, 191.60438498482108, 101.93179679661989, 12.702853262424469, 12.427394973114133]\n"
     ]
    },
    {
     "name": "stderr",
     "output_type": "stream",
     "text": [
      " 50%|█████     | 100/200 [00:49<00:52,  1.89it/s]"
     ]
    },
    {
     "name": "stdout",
     "output_type": "stream",
     "text": [
      "-1 [20.022475118283182, 15.399548649787903, 89.37391529232264, 198.20542639493942, 8.862637519836426]\n"
     ]
    },
    {
     "name": "stderr",
     "output_type": "stream",
     "text": [
      " 50%|█████     | 101/200 [00:49<00:49,  2.01it/s]"
     ]
    },
    {
     "name": "stdout",
     "output_type": "stream",
     "text": [
      "-1 [343.1137331202626, 239.55387621745467, 439.08289884775877, 510.4327942728996, 1034.1281267404556]\n"
     ]
    },
    {
     "name": "stderr",
     "output_type": "stream",
     "text": [
      " 51%|█████     | 102/200 [00:50<00:55,  1.78it/s]"
     ]
    },
    {
     "name": "stdout",
     "output_type": "stream",
     "text": [
      "-1 [268.1852060556412, 268.1852060556412, 160.78355199098587, 354.0990434885025, 398.78891956806183]\n"
     ]
    },
    {
     "name": "stderr",
     "output_type": "stream",
     "text": [
      " 52%|█████▏    | 103/200 [00:51<00:54,  1.78it/s]"
     ]
    },
    {
     "name": "stdout",
     "output_type": "stream",
     "text": [
      "0 [188.55443035811186, 108.2953545562923, 14.564671572297812, 138.22480928665027, 51.29983213543892]\n"
     ]
    },
    {
     "name": "stderr",
     "output_type": "stream",
     "text": [
      " 52%|█████▏    | 104/200 [00:51<00:50,  1.91it/s]"
     ]
    },
    {
     "name": "stdout",
     "output_type": "stream",
     "text": [
      "0 [474.62155957333744, 58.68838247656822, 229.63227102160454, 34.65572725236416, 179.08165502548218]\n"
     ]
    },
    {
     "name": "stderr",
     "output_type": "stream",
     "text": [
      " 52%|█████▎    | 105/200 [00:52<00:52,  1.80it/s]"
     ]
    },
    {
     "name": "stdout",
     "output_type": "stream",
     "text": [
      "0 [463.0642077848315, 236.01859152317047, 101.02253913879395, 71.40526094287634, 18.86825856566429]\n"
     ]
    },
    {
     "name": "stderr",
     "output_type": "stream",
     "text": [
      " 53%|█████▎    | 106/200 [00:52<00:55,  1.69it/s]"
     ]
    },
    {
     "name": "stdout",
     "output_type": "stream",
     "text": [
      "0 [282.25783022493124, 141.55060184001923, 105.41685032844543, 60.531478106975555, 152.2626064568758]\n"
     ]
    },
    {
     "name": "stderr",
     "output_type": "stream",
     "text": [
      " 54%|█████▎    | 107/200 [00:53<00:51,  1.82it/s]"
     ]
    },
    {
     "name": "stdout",
     "output_type": "stream",
     "text": [
      "0 [91.31245565414429, 8.897646769881248, 150.15140211582184, 73.91413422487676, 2.691499635577202]\n"
     ]
    },
    {
     "name": "stderr",
     "output_type": "stream",
     "text": [
      " 54%|█████▍    | 108/200 [00:53<00:48,  1.91it/s]"
     ]
    },
    {
     "name": "stdout",
     "output_type": "stream",
     "text": [
      "0 [511.8263816833496, 784.0696197748184, 66.56193560361862, 1247.4946999549866, 22.105738282203674]\n"
     ]
    },
    {
     "name": "stderr",
     "output_type": "stream",
     "text": [
      " 55%|█████▍    | 109/200 [00:54<00:48,  1.89it/s]"
     ]
    },
    {
     "name": "stdout",
     "output_type": "stream",
     "text": [
      "1 [225.24066755920649, 231.51311096176505, 46.94394600391388, 46.94394600391388, 183.38462281227112]\n"
     ]
    },
    {
     "name": "stderr",
     "output_type": "stream",
     "text": [
      " 55%|█████▌    | 110/200 [00:54<00:46,  1.93it/s]"
     ]
    },
    {
     "name": "stdout",
     "output_type": "stream",
     "text": [
      "0 [631.2633233070374, 15.9061758518219, 269.7846836736426, 95.7490177154541, 49.95583152770996]\n"
     ]
    },
    {
     "name": "stderr",
     "output_type": "stream",
     "text": [
      " 56%|█████▌    | 111/200 [00:55<00:45,  1.96it/s]"
     ]
    },
    {
     "name": "stdout",
     "output_type": "stream",
     "text": [
      "3 [112.03943491727114, 112.03943491727114, 119.4585433602333, 182.78421045839787, 47.100657269358635]\n"
     ]
    },
    {
     "name": "stderr",
     "output_type": "stream",
     "text": [
      " 56%|█████▌    | 112/200 [00:55<00:43,  2.03it/s]"
     ]
    },
    {
     "name": "stdout",
     "output_type": "stream",
     "text": [
      "0 [441.09965991973877, 12.33815062046051, 287.4279853105545, 27.64208246022463, 291.8422822766006]\n"
     ]
    },
    {
     "name": "stderr",
     "output_type": "stream",
     "text": [
      " 56%|█████▋    | 113/200 [00:56<00:42,  2.07it/s]"
     ]
    },
    {
     "name": "stdout",
     "output_type": "stream",
     "text": [
      "0 [994.8132802546024, 178.9085547029972, 4.42554003931582, 55.985715210437775, 0]\n"
     ]
    },
    {
     "name": "stderr",
     "output_type": "stream",
     "text": [
      " 57%|█████▋    | 114/200 [00:56<00:39,  2.16it/s]"
     ]
    },
    {
     "name": "stdout",
     "output_type": "stream",
     "text": [
      "0 [467.01521068811417, 154.75316036120057, 946.3747066557407, 554.3277950882912, 244.79735806584358]\n"
     ]
    },
    {
     "name": "stderr",
     "output_type": "stream",
     "text": [
      " 57%|█████▊    | 115/200 [00:57<00:45,  1.87it/s]"
     ]
    },
    {
     "name": "stdout",
     "output_type": "stream",
     "text": [
      "0 [100.4457195661962, 98.70955053716898, 146.40446627140045, 18.113157749176025, 94.99361873790622]\n"
     ]
    },
    {
     "name": "stderr",
     "output_type": "stream",
     "text": [
      " 58%|█████▊    | 116/200 [00:57<00:43,  1.93it/s]"
     ]
    },
    {
     "name": "stdout",
     "output_type": "stream",
     "text": [
      "0 [330.71029591560364, 90.79151026159525, 199.97729389369488, 118.85263645648956, 72.81711475551128]\n"
     ]
    },
    {
     "name": "stderr",
     "output_type": "stream",
     "text": [
      " 58%|█████▊    | 117/200 [00:58<00:43,  1.91it/s]"
     ]
    },
    {
     "name": "stdout",
     "output_type": "stream",
     "text": [
      "0 [638.4837562143803, 161.15468767285347, 51.04728784505278, 0, 114.8293477492407]\n"
     ]
    },
    {
     "name": "stderr",
     "output_type": "stream",
     "text": [
      " 59%|█████▉    | 118/200 [00:58<00:45,  1.82it/s]"
     ]
    },
    {
     "name": "stdout",
     "output_type": "stream",
     "text": [
      "0 [298.80329966545105, 27.499649792909622, 184.11602637171745, 115.52171397209167, 29.099169701337814]\n"
     ]
    },
    {
     "name": "stderr",
     "output_type": "stream",
     "text": [
      " 60%|█████▉    | 119/200 [00:59<00:43,  1.86it/s]"
     ]
    },
    {
     "name": "stdout",
     "output_type": "stream",
     "text": [
      "0 [351.90737253427505, 268.460989266634, 268.460989266634, 495.71590119600296, 120.38043481111526]\n"
     ]
    },
    {
     "name": "stderr",
     "output_type": "stream",
     "text": [
      " 60%|██████    | 120/200 [00:59<00:40,  1.98it/s]"
     ]
    },
    {
     "name": "stdout",
     "output_type": "stream",
     "text": [
      "0 [267.8030654788017, 48.77540969848633, 62.31069564819336, 195.36313211917877, 160.44014923274517]\n"
     ]
    },
    {
     "name": "stderr",
     "output_type": "stream",
     "text": [
      " 60%|██████    | 121/200 [01:00<00:41,  1.91it/s]"
     ]
    },
    {
     "name": "stdout",
     "output_type": "stream",
     "text": [
      "-1 [79.20970058441162, 204.2971179485321, 103.19874024763703, 351.02909284830093, 165.9603046886623]\n"
     ]
    },
    {
     "name": "stderr",
     "output_type": "stream",
     "text": [
      " 61%|██████    | 122/200 [01:00<00:38,  2.02it/s]"
     ]
    },
    {
     "name": "stdout",
     "output_type": "stream",
     "text": [
      "1 [60.749404506757855, 729.8892511129379, 484.13018706440926, 444.95190846920013, 102.48558458685875]\n"
     ]
    },
    {
     "name": "stderr",
     "output_type": "stream",
     "text": [
      " 62%|██████▏   | 123/200 [01:01<00:39,  1.95it/s]"
     ]
    },
    {
     "name": "stdout",
     "output_type": "stream",
     "text": [
      "0 [191.45537787675858, 222.57737697660923, 65.86222296953201, 113.84812197089195, 162.09983649849892]\n"
     ]
    },
    {
     "name": "stderr",
     "output_type": "stream",
     "text": [
      " 62%|██████▏   | 124/200 [01:01<00:37,  2.02it/s]"
     ]
    },
    {
     "name": "stdout",
     "output_type": "stream",
     "text": [
      "0 [846.1804964542389, 89.05835000053048, 83.81580054759979, 188.40576946735382, 193.2736341357231]\n"
     ]
    },
    {
     "name": "stderr",
     "output_type": "stream",
     "text": [
      " 62%|██████▎   | 125/200 [01:02<00:38,  1.96it/s]"
     ]
    },
    {
     "name": "stdout",
     "output_type": "stream",
     "text": [
      "-1 [340.64395251870155, 340.64395251870155, 226.13200643658638, 239.48484230041504, 453.58832836151123]\n"
     ]
    },
    {
     "name": "stderr",
     "output_type": "stream",
     "text": [
      " 63%|██████▎   | 126/200 [01:03<00:39,  1.86it/s]"
     ]
    },
    {
     "name": "stdout",
     "output_type": "stream",
     "text": [
      "1 [233.8008523695171, 230.78548970073462, 10.5296311378479, 8.830363512039185, 3.0507530122995377]\n"
     ]
    },
    {
     "name": "stderr",
     "output_type": "stream",
     "text": [
      " 64%|██████▎   | 127/200 [01:03<00:40,  1.80it/s]"
     ]
    },
    {
     "name": "stdout",
     "output_type": "stream",
     "text": [
      "-1 [97.11990123987198, 47.930379986763, 340.59975147247314, 351.0571126937866, 85.28028774261475]\n"
     ]
    },
    {
     "name": "stderr",
     "output_type": "stream",
     "text": [
      " 64%|██████▍   | 128/200 [01:04<00:40,  1.80it/s]"
     ]
    },
    {
     "name": "stdout",
     "output_type": "stream",
     "text": [
      "1 [578.7951308190823, 499.6713744327426, 362.1136169433594, 440.5333119556308, 89.31499547604471]\n"
     ]
    },
    {
     "name": "stderr",
     "output_type": "stream",
     "text": [
      " 64%|██████▍   | 129/200 [01:04<00:36,  1.95it/s]"
     ]
    },
    {
     "name": "stdout",
     "output_type": "stream",
     "text": [
      "0 [451.3247701106593, 330.30195021629333, 172.7446125149727, 292.0348529815674, 34.75633034482598]\n"
     ]
    },
    {
     "name": "stderr",
     "output_type": "stream",
     "text": [
      " 65%|██████▌   | 130/200 [01:05<00:36,  1.91it/s]"
     ]
    },
    {
     "name": "stdout",
     "output_type": "stream",
     "text": [
      "0 [259.87782073020935, 198.86213958263397, 32.541770935058594, 32.541770935058594, 494.0938218832016]\n"
     ]
    },
    {
     "name": "stderr",
     "output_type": "stream",
     "text": [
      " 66%|██████▌   | 131/200 [01:05<00:35,  1.96it/s]"
     ]
    },
    {
     "name": "stdout",
     "output_type": "stream",
     "text": [
      "2 [116.20200080424547, 463.7603304833174, 213.5366159081459, 6.025839984416962, 179.76290160417557]\n"
     ]
    },
    {
     "name": "stderr",
     "output_type": "stream",
     "text": [
      " 66%|██████▌   | 132/200 [01:06<00:34,  1.97it/s]"
     ]
    },
    {
     "name": "stdout",
     "output_type": "stream",
     "text": [
      "0 [320.2542748451233, 24.161449901759624, 24.41640818119049, 8.864948570728302, 292.72023674845695]\n"
     ]
    },
    {
     "name": "stderr",
     "output_type": "stream",
     "text": [
      " 66%|██████▋   | 133/200 [01:06<00:34,  1.97it/s]"
     ]
    },
    {
     "name": "stdout",
     "output_type": "stream",
     "text": [
      "0 [1067.4944850206375, 29.17440578341484, 343.2472106218338, 135.45441383123398, 242.95122510194778]\n"
     ]
    },
    {
     "name": "stderr",
     "output_type": "stream",
     "text": [
      " 67%|██████▋   | 134/200 [01:07<00:33,  1.95it/s]"
     ]
    },
    {
     "name": "stdout",
     "output_type": "stream",
     "text": [
      "0 [434.32187527418137, 0, 63.48899244144559, 41.55841827392578, 356.55428540706635]\n"
     ]
    },
    {
     "name": "stderr",
     "output_type": "stream",
     "text": [
      " 68%|██████▊   | 135/200 [01:07<00:32,  2.00it/s]"
     ]
    },
    {
     "name": "stdout",
     "output_type": "stream",
     "text": [
      "0 [278.4057901967317, 193.80045188218355, 441.019041121006, 62.221001386642456, 231.09786266088486]\n"
     ]
    },
    {
     "name": "stderr",
     "output_type": "stream",
     "text": [
      " 68%|██████▊   | 136/200 [01:08<00:30,  2.12it/s]"
     ]
    },
    {
     "name": "stdout",
     "output_type": "stream",
     "text": [
      "1 [828.8362478613853, 834.9658628106117, 830.9872140288353, 224.11791896820068, 414.70751667022705]\n"
     ]
    },
    {
     "name": "stderr",
     "output_type": "stream",
     "text": [
      " 68%|██████▊   | 137/200 [01:08<00:31,  1.97it/s]"
     ]
    },
    {
     "name": "stdout",
     "output_type": "stream",
     "text": [
      "0 [432.51600086688995, 380.709671407938, 190.487069606781, 87.10821211338043, 48.32147100567818]\n"
     ]
    },
    {
     "name": "stderr",
     "output_type": "stream",
     "text": [
      " 69%|██████▉   | 138/200 [01:09<00:30,  2.03it/s]"
     ]
    },
    {
     "name": "stdout",
     "output_type": "stream",
     "text": [
      "2 [12.130366325378418, 27.61052104830742, 362.54626429080963, 0.7967002093791962, 0]\n"
     ]
    },
    {
     "name": "stderr",
     "output_type": "stream",
     "text": [
      " 70%|██████▉   | 139/200 [01:09<00:29,  2.04it/s]"
     ]
    },
    {
     "name": "stdout",
     "output_type": "stream",
     "text": [
      "0 [487.4589652121067, 262.5010551214218, 27.45266555249691, 118.70375952869654, 28.34789329022169]\n"
     ]
    },
    {
     "name": "stderr",
     "output_type": "stream",
     "text": [
      " 70%|███████   | 140/200 [01:09<00:28,  2.11it/s]"
     ]
    },
    {
     "name": "stdout",
     "output_type": "stream",
     "text": [
      "1 [113.24975597858429, 247.6461730003357, 402.0625799745321, 157.86661410331726, 1023.6736435890198]\n"
     ]
    },
    {
     "name": "stderr",
     "output_type": "stream",
     "text": [
      " 70%|███████   | 141/200 [01:10<00:25,  2.29it/s]"
     ]
    },
    {
     "name": "stdout",
     "output_type": "stream",
     "text": [
      "1 [366.967551112175, 663.9133431911469, 289.0847532749176, 203.68379712104797, 442.0295889377594]\n"
     ]
    },
    {
     "name": "stderr",
     "output_type": "stream",
     "text": [
      " 71%|███████   | 142/200 [01:10<00:26,  2.23it/s]"
     ]
    },
    {
     "name": "stdout",
     "output_type": "stream",
     "text": [
      "0 [49.17121883481741, 75.28680266439915, 59.3731247484684, 3.2538543939590454, 83.64712770283222]\n"
     ]
    },
    {
     "name": "stderr",
     "output_type": "stream",
     "text": [
      " 72%|███████▏  | 143/200 [01:11<00:26,  2.13it/s]"
     ]
    },
    {
     "name": "stdout",
     "output_type": "stream",
     "text": [
      "1 [37.7715270370245, 293.803062915802, 307.52637362480164, 115.16755533218384, 115.16755533218384]\n"
     ]
    },
    {
     "name": "stderr",
     "output_type": "stream",
     "text": [
      " 72%|███████▏  | 144/200 [01:11<00:25,  2.16it/s]"
     ]
    },
    {
     "name": "stdout",
     "output_type": "stream",
     "text": [
      "2 [311.5549736917019, 180.73533940315247, 295.7137706130743, 27.770276963710785, 270.91957661509514]\n"
     ]
    },
    {
     "name": "stderr",
     "output_type": "stream",
     "text": [
      " 72%|███████▎  | 145/200 [01:12<00:25,  2.19it/s]"
     ]
    },
    {
     "name": "stdout",
     "output_type": "stream",
     "text": [
      "-1 [4.270172297954559, 23.363154888153076, 61.89043951034546, 57.26473331451416, 221.1153945326805]\n"
     ]
    },
    {
     "name": "stderr",
     "output_type": "stream",
     "text": [
      " 73%|███████▎  | 146/200 [01:12<00:24,  2.18it/s]"
     ]
    },
    {
     "name": "stdout",
     "output_type": "stream",
     "text": [
      "0 [430.102040797472, 586.9644781053066, 483.16693592071533, 50.98010692326352, 86.32068300247192]\n"
     ]
    },
    {
     "name": "stderr",
     "output_type": "stream",
     "text": [
      " 74%|███████▎  | 147/200 [01:13<00:25,  2.10it/s]"
     ]
    },
    {
     "name": "stdout",
     "output_type": "stream",
     "text": [
      "1 [379.4406264424324, 263.0756058692932, 315.4875388145447, 162.38304221630096, 109.63437098264694]\n"
     ]
    },
    {
     "name": "stderr",
     "output_type": "stream",
     "text": [
      " 74%|███████▍  | 148/200 [01:13<00:25,  2.05it/s]"
     ]
    },
    {
     "name": "stdout",
     "output_type": "stream",
     "text": [
      "1 [312.44130346924067, 242.6908765025437, 104.38266020780429, 46.04066775366664, 46.04066775366664]\n"
     ]
    },
    {
     "name": "stderr",
     "output_type": "stream",
     "text": [
      " 74%|███████▍  | 149/200 [01:14<00:24,  2.05it/s]"
     ]
    },
    {
     "name": "stdout",
     "output_type": "stream",
     "text": [
      "0 [539.273339509964, 621.7379635572433, 51.538098216056824, 37.16898727416992, 132.29019051790237]\n"
     ]
    },
    {
     "name": "stderr",
     "output_type": "stream",
     "text": [
      " 75%|███████▌  | 150/200 [01:14<00:24,  2.05it/s]"
     ]
    },
    {
     "name": "stdout",
     "output_type": "stream",
     "text": [
      "3 [125.53775151213631, 207.56423366069794, 336.19564056396484, 132.5328247845173, 149.22486563771963]\n"
     ]
    },
    {
     "name": "stderr",
     "output_type": "stream",
     "text": [
      " 76%|███████▌  | 151/200 [01:15<00:22,  2.18it/s]"
     ]
    },
    {
     "name": "stdout",
     "output_type": "stream",
     "text": [
      "0 [522.0519446134567, 46.29147517681122, 124.72326618432999, 223.84408005326986, 80.4717271104455]\n"
     ]
    },
    {
     "name": "stderr",
     "output_type": "stream",
     "text": [
      " 76%|███████▌  | 152/200 [01:15<00:22,  2.16it/s]"
     ]
    },
    {
     "name": "stdout",
     "output_type": "stream",
     "text": [
      "0 [369.47499980963767, 37.155993580818176, 58.228483110666275, 266.81864351034164, 484.37787768244743]\n"
     ]
    },
    {
     "name": "stderr",
     "output_type": "stream",
     "text": [
      " 76%|███████▋  | 153/200 [01:16<00:22,  2.09it/s]"
     ]
    },
    {
     "name": "stdout",
     "output_type": "stream",
     "text": [
      "-1 [370.0962655544281, 59.836384773254395, 68.94549548625946, 76.84398644790053, 397.27518343925476]\n"
     ]
    },
    {
     "name": "stderr",
     "output_type": "stream",
     "text": [
      " 77%|███████▋  | 154/200 [01:16<00:23,  1.99it/s]"
     ]
    },
    {
     "name": "stdout",
     "output_type": "stream",
     "text": [
      "0 [635.5440534055233, 478.7399127483368, 574.6061367988586, 141.52147305384278, 107.0521125793457]\n"
     ]
    },
    {
     "name": "stderr",
     "output_type": "stream",
     "text": [
      " 78%|███████▊  | 155/200 [01:17<00:21,  2.07it/s]"
     ]
    },
    {
     "name": "stdout",
     "output_type": "stream",
     "text": [
      "1 [104.53000649809837, 1178.13693729043, 552.33567532897, 95.42503595352173, 62.61266657337546]\n"
     ]
    },
    {
     "name": "stderr",
     "output_type": "stream",
     "text": [
      " 78%|███████▊  | 156/200 [01:17<00:21,  2.01it/s]"
     ]
    },
    {
     "name": "stdout",
     "output_type": "stream",
     "text": [
      "1 [577.6720489263535, 609.2514873147011, 204.02734375, 200.92240631580353, 123.20809718593955]\n"
     ]
    },
    {
     "name": "stderr",
     "output_type": "stream",
     "text": [
      " 78%|███████▊  | 157/200 [01:18<00:20,  2.06it/s]"
     ]
    },
    {
     "name": "stdout",
     "output_type": "stream",
     "text": [
      "1 [714.886218547821, 705.129891037941, 991.9847357273102, 486.566303730011, 102.61498939990997]\n"
     ]
    },
    {
     "name": "stderr",
     "output_type": "stream",
     "text": [
      " 79%|███████▉  | 158/200 [01:18<00:20,  2.03it/s]"
     ]
    },
    {
     "name": "stdout",
     "output_type": "stream",
     "text": [
      "1 [291.15677177906036, 351.8919455111027, 587.666769862175, 138.29765033721924, 138.29765033721924]\n"
     ]
    },
    {
     "name": "stderr",
     "output_type": "stream",
     "text": [
      " 80%|███████▉  | 159/200 [01:19<00:20,  2.00it/s]"
     ]
    },
    {
     "name": "stdout",
     "output_type": "stream",
     "text": [
      "0 [204.406555891037, 109.16578382253647, 48.62722457945347, 29.759257331490517, 188.92106456682086]\n"
     ]
    },
    {
     "name": "stderr",
     "output_type": "stream",
     "text": [
      " 80%|████████  | 160/200 [01:19<00:19,  2.01it/s]"
     ]
    },
    {
     "name": "stdout",
     "output_type": "stream",
     "text": [
      "0 [461.3545873463154, 330.45974373817444, 536.5925330221653, 183.2862420529127, 180.7877733707428]\n"
     ]
    },
    {
     "name": "stderr",
     "output_type": "stream",
     "text": [
      " 80%|████████  | 161/200 [01:19<00:18,  2.12it/s]"
     ]
    },
    {
     "name": "stdout",
     "output_type": "stream",
     "text": [
      "1 [415.3535687588155, 424.69302359223366, 220.60730776190758, 220.60730776190758, 721.7853492870927]\n"
     ]
    },
    {
     "name": "stderr",
     "output_type": "stream",
     "text": [
      " 81%|████████  | 162/200 [01:20<00:18,  2.09it/s]"
     ]
    },
    {
     "name": "stdout",
     "output_type": "stream",
     "text": [
      "1 [164.97063732147217, 208.26309634000063, 197.4945628941059, 176.57628691196442, 133.5775215625763]\n"
     ]
    },
    {
     "name": "stderr",
     "output_type": "stream",
     "text": [
      " 82%|████████▏ | 163/200 [01:20<00:17,  2.13it/s]"
     ]
    },
    {
     "name": "stdout",
     "output_type": "stream",
     "text": [
      "0 [586.9270361363888, 328.3527910374105, 159.30291286729334, 133.6394643690437, 111.17603079974651]\n"
     ]
    },
    {
     "name": "stderr",
     "output_type": "stream",
     "text": [
      " 82%|████████▏ | 164/200 [01:21<00:17,  2.07it/s]"
     ]
    },
    {
     "name": "stdout",
     "output_type": "stream",
     "text": [
      "0 [756.4436783790588, 684.3944488763809, 296.96503335237503, 442.3128356039524, 404.2157084941864]\n"
     ]
    },
    {
     "name": "stderr",
     "output_type": "stream",
     "text": [
      " 82%|████████▎ | 165/200 [01:21<00:16,  2.07it/s]"
     ]
    },
    {
     "name": "stdout",
     "output_type": "stream",
     "text": [
      "1 [571.7347813770175, 173.54852560162544, 193.3100333996117, 131.64360564947128, 371.1440724134445]\n"
     ]
    },
    {
     "name": "stderr",
     "output_type": "stream",
     "text": [
      " 83%|████████▎ | 166/200 [01:22<00:16,  2.07it/s]"
     ]
    },
    {
     "name": "stdout",
     "output_type": "stream",
     "text": [
      "-1 [91.86689376831055, 32.71521085500717, 245.8704376667738, 216.9826174378395, 42.298619851469994]\n"
     ]
    },
    {
     "name": "stderr",
     "output_type": "stream",
     "text": [
      " 84%|████████▎ | 167/200 [01:22<00:16,  1.95it/s]"
     ]
    },
    {
     "name": "stdout",
     "output_type": "stream",
     "text": [
      "0 [58.15004235506058, 128.43639558553696, 40.552818841300905, 56.94061258435249, 56.94061258435249]\n"
     ]
    },
    {
     "name": "stderr",
     "output_type": "stream",
     "text": [
      " 84%|████████▍ | 168/200 [01:23<00:15,  2.10it/s]"
     ]
    },
    {
     "name": "stdout",
     "output_type": "stream",
     "text": [
      "-1 [6.682150423526764, 16.136528491973877, 14.877812623977661, 33.89863157272339, 316.48901069164276]\n"
     ]
    },
    {
     "name": "stderr",
     "output_type": "stream",
     "text": [
      " 84%|████████▍ | 169/200 [01:23<00:15,  1.98it/s]"
     ]
    },
    {
     "name": "stdout",
     "output_type": "stream",
     "text": [
      "-1 [147.88289910554886, 89.16415613144636, 215.58430942893028, 154.57902091741562, 154.57902091741562]\n"
     ]
    },
    {
     "name": "stderr",
     "output_type": "stream",
     "text": [
      " 85%|████████▌ | 170/200 [01:24<00:13,  2.15it/s]"
     ]
    },
    {
     "name": "stdout",
     "output_type": "stream",
     "text": [
      "-1 [9.137104645371437, 101.10735070705414, 364.05231499671936, 52.00018183235079, 66.33764922618866]\n"
     ]
    },
    {
     "name": "stderr",
     "output_type": "stream",
     "text": [
      " 86%|████████▌ | 171/200 [01:24<00:14,  2.04it/s]"
     ]
    },
    {
     "name": "stdout",
     "output_type": "stream",
     "text": [
      "0 [379.7099578976631, 429.59801700152457, 151.5267898440361, 267.96327970921993, 248.2476745247841]\n"
     ]
    },
    {
     "name": "stderr",
     "output_type": "stream",
     "text": [
      " 86%|████████▌ | 172/200 [01:25<00:13,  2.02it/s]"
     ]
    },
    {
     "name": "stdout",
     "output_type": "stream",
     "text": [
      "3 [182.68270754814148, 182.68270754814148, 167.07281013950706, 146.0419097021222, 4.052715480327606]\n"
     ]
    },
    {
     "name": "stderr",
     "output_type": "stream",
     "text": [
      " 86%|████████▋ | 173/200 [01:25<00:13,  2.01it/s]"
     ]
    },
    {
     "name": "stdout",
     "output_type": "stream",
     "text": [
      "2 [313.99520230293274, 72.55662763118744, 250.77318156138062, 0, 213.46204478293657]\n"
     ]
    },
    {
     "name": "stderr",
     "output_type": "stream",
     "text": [
      " 87%|████████▋ | 174/200 [01:26<00:12,  2.07it/s]"
     ]
    },
    {
     "name": "stdout",
     "output_type": "stream",
     "text": [
      "-1 [174.44881090521812, 49.25848950445652, 241.4549908041954, 71.75662669539452, 4.504286408424377]\n"
     ]
    },
    {
     "name": "stderr",
     "output_type": "stream",
     "text": [
      " 88%|████████▊ | 175/200 [01:26<00:12,  2.00it/s]"
     ]
    },
    {
     "name": "stdout",
     "output_type": "stream",
     "text": [
      "0 [86.17537879943848, 504.2844828441739, 716.9436206817627, 152.51155864447355, 358.31625068187714]\n"
     ]
    },
    {
     "name": "stderr",
     "output_type": "stream",
     "text": [
      " 88%|████████▊ | 176/200 [01:27<00:12,  1.91it/s]"
     ]
    },
    {
     "name": "stdout",
     "output_type": "stream",
     "text": [
      "0 [234.35464005498216, 116.27956058084965, 297.29369258880615, 28.00351294130087, 159.14410570263863]\n"
     ]
    },
    {
     "name": "stderr",
     "output_type": "stream",
     "text": [
      " 88%|████████▊ | 177/200 [01:27<00:11,  2.04it/s]"
     ]
    },
    {
     "name": "stdout",
     "output_type": "stream",
     "text": [
      "1 [357.54503051936626, 374.6160948667675, 181.86769020557404, 39.144011691212654, 32.81454932689667]\n"
     ]
    },
    {
     "name": "stderr",
     "output_type": "stream",
     "text": [
      " 89%|████████▉ | 178/200 [01:28<00:12,  1.72it/s]"
     ]
    },
    {
     "name": "stdout",
     "output_type": "stream",
     "text": [
      "1 [68.67449855804443, 253.0512648820877, 145.43808180093765, 0, 76.38905489444733]\n"
     ]
    },
    {
     "name": "stderr",
     "output_type": "stream",
     "text": [
      " 90%|████████▉ | 179/200 [01:29<00:11,  1.82it/s]"
     ]
    },
    {
     "name": "stdout",
     "output_type": "stream",
     "text": [
      "0 [162.12854513525963, 40.34593616425991, 49.375034257769585, 386.3533766642213, 68.1752046730835]\n"
     ]
    },
    {
     "name": "stderr",
     "output_type": "stream",
     "text": [
      " 90%|█████████ | 180/200 [01:29<00:10,  1.94it/s]"
     ]
    },
    {
     "name": "stdout",
     "output_type": "stream",
     "text": [
      "0 [665.0825637578964, 54.60725395381451, 54.60725395381451, 109.19525433704257, 11.03766842931509]\n"
     ]
    },
    {
     "name": "stderr",
     "output_type": "stream",
     "text": [
      " 90%|█████████ | 181/200 [01:30<00:09,  1.92it/s]"
     ]
    },
    {
     "name": "stdout",
     "output_type": "stream",
     "text": [
      "0 [453.99289265275, 551.7499928474426, 167.0564044713974, 137.96131691336632, 229.83098378777504]\n"
     ]
    },
    {
     "name": "stderr",
     "output_type": "stream",
     "text": [
      " 91%|█████████ | 182/200 [01:30<00:08,  2.09it/s]"
     ]
    },
    {
     "name": "stdout",
     "output_type": "stream",
     "text": [
      "1 [645.4228794574738, 266.53747864067554, 418.17783792316914, 242.15269899833947, 296.6451004445553]\n"
     ]
    },
    {
     "name": "stderr",
     "output_type": "stream",
     "text": [
      " 92%|█████████▏| 183/200 [01:30<00:08,  2.06it/s]"
     ]
    },
    {
     "name": "stdout",
     "output_type": "stream",
     "text": [
      "2 [260.8866720199585, 245.24728178977966, 337.84991443157196, 7.237966284155846, 230.3896745443344]\n"
     ]
    },
    {
     "name": "stderr",
     "output_type": "stream",
     "text": [
      " 92%|█████████▏| 184/200 [01:31<00:07,  2.05it/s]"
     ]
    },
    {
     "name": "stdout",
     "output_type": "stream",
     "text": [
      "1 [266.2654929161072, 237.31080177426338, 179.3457990884781, 179.3457990884781, 30.769095599651337]\n"
     ]
    },
    {
     "name": "stderr",
     "output_type": "stream",
     "text": [
      " 92%|█████████▎| 185/200 [01:31<00:07,  2.10it/s]"
     ]
    },
    {
     "name": "stdout",
     "output_type": "stream",
     "text": [
      "0 [289.8583600074053, 189.99143600463867, 423.656136572361, 198.10267508029938, 286.05243299901485]\n"
     ]
    },
    {
     "name": "stderr",
     "output_type": "stream",
     "text": [
      " 93%|█████████▎| 186/200 [01:32<00:07,  1.98it/s]"
     ]
    },
    {
     "name": "stdout",
     "output_type": "stream",
     "text": [
      "-1 [55.63714599609375, 312.40845134854317, 145.16298186779022, 15.262752294540405, 685.4801773428917]\n"
     ]
    },
    {
     "name": "stderr",
     "output_type": "stream",
     "text": [
      " 94%|█████████▎| 187/200 [01:32<00:06,  2.10it/s]"
     ]
    },
    {
     "name": "stdout",
     "output_type": "stream",
     "text": [
      "2 [638.8610104173422, 174.64874878525734, 464.68460208177567, 220.40705014020205, 459.88030575215816]\n"
     ]
    },
    {
     "name": "stderr",
     "output_type": "stream",
     "text": [
      " 94%|█████████▍| 188/200 [01:33<00:05,  2.16it/s]"
     ]
    },
    {
     "name": "stdout",
     "output_type": "stream",
     "text": [
      "1 [464.29302411107346, 526.2674166746438, 354.02174484729767, 354.02174484729767, 115.02764710783958]\n"
     ]
    },
    {
     "name": "stderr",
     "output_type": "stream",
     "text": [
      " 94%|█████████▍| 189/200 [01:33<00:05,  2.18it/s]"
     ]
    },
    {
     "name": "stdout",
     "output_type": "stream",
     "text": [
      "0 [749.0537289977074, 347.3658211827278, 20.387245178222656, 90.91136285662651, 12.490257922559977]\n"
     ]
    },
    {
     "name": "stderr",
     "output_type": "stream",
     "text": [
      " 95%|█████████▌| 190/200 [01:34<00:04,  2.24it/s]"
     ]
    },
    {
     "name": "stdout",
     "output_type": "stream",
     "text": [
      "2 [538.8106639385223, 538.8106639385223, 495.5276324748993, 32.47726730257273, 217.3286681175232]\n"
     ]
    },
    {
     "name": "stderr",
     "output_type": "stream",
     "text": [
      " 96%|█████████▌| 191/200 [01:34<00:04,  2.23it/s]"
     ]
    },
    {
     "name": "stdout",
     "output_type": "stream",
     "text": [
      "1 [305.89539386332035, 299.146138548851, 108.04779274761677, 108.04779274761677, 39.77108699083328]\n"
     ]
    },
    {
     "name": "stderr",
     "output_type": "stream",
     "text": [
      " 96%|█████████▌| 192/200 [01:35<00:03,  2.12it/s]"
     ]
    },
    {
     "name": "stdout",
     "output_type": "stream",
     "text": [
      "-1 [124.69042082829401, 181.76588335633278, 104.66017496213317, 10.234380647540092, 23.2333442568779]\n"
     ]
    },
    {
     "name": "stderr",
     "output_type": "stream",
     "text": [
      " 96%|█████████▋| 193/200 [01:35<00:03,  2.14it/s]"
     ]
    },
    {
     "name": "stdout",
     "output_type": "stream",
     "text": [
      "0 [21.033760774182156, 365.5826954841614, 122.38024893775582, 83.08654333651066, 11.259682692587376]\n"
     ]
    },
    {
     "name": "stderr",
     "output_type": "stream",
     "text": [
      " 97%|█████████▋| 194/200 [01:36<00:02,  2.12it/s]"
     ]
    },
    {
     "name": "stdout",
     "output_type": "stream",
     "text": [
      "0 [760.0301344394684, 126.31363844871521, 43.5132737159729, 67.75977957248688, 5.689874427393079]\n"
     ]
    },
    {
     "name": "stderr",
     "output_type": "stream",
     "text": [
      " 98%|█████████▊| 195/200 [01:36<00:02,  2.17it/s]"
     ]
    },
    {
     "name": "stdout",
     "output_type": "stream",
     "text": [
      "0 [398.555662766099, 60.9854691028595, 234.73874020576477, 15.947200536727905, 83.86632347106934]\n"
     ]
    },
    {
     "name": "stderr",
     "output_type": "stream",
     "text": [
      " 98%|█████████▊| 196/200 [01:37<00:01,  2.01it/s]"
     ]
    },
    {
     "name": "stdout",
     "output_type": "stream",
     "text": [
      "0 [107.76284603774548, 82.56749062612653, 0.4899451583623886, 0, 4.614233285188675]\n"
     ]
    },
    {
     "name": "stderr",
     "output_type": "stream",
     "text": [
      " 98%|█████████▊| 197/200 [01:37<00:01,  1.93it/s]"
     ]
    },
    {
     "name": "stdout",
     "output_type": "stream",
     "text": [
      "1 [550.2255825698376, 270.6080734953284, 230.80905042029917, 230.80905042029917, 47.49133422970772]\n"
     ]
    },
    {
     "name": "stderr",
     "output_type": "stream",
     "text": [
      " 99%|█████████▉| 198/200 [01:38<00:01,  1.96it/s]"
     ]
    },
    {
     "name": "stdout",
     "output_type": "stream",
     "text": [
      "0 [1384.0206178724766, 258.4261407852173, 56.36170959472656, 343.9171689748764, 282.2228991985321]\n"
     ]
    },
    {
     "name": "stderr",
     "output_type": "stream",
     "text": [
      "100%|█████████▉| 199/200 [01:38<00:00,  1.88it/s]"
     ]
    },
    {
     "name": "stdout",
     "output_type": "stream",
     "text": [
      "1 [645.4346448779106, 645.4346448779106, 132.25774556398392, 160.20970630645752, 93.95533069968224]\n"
     ]
    },
    {
     "name": "stderr",
     "output_type": "stream",
     "text": [
      "100%|██████████| 200/200 [01:39<00:00,  2.02it/s]"
     ]
    },
    {
     "name": "stdout",
     "output_type": "stream",
     "text": [
      "0 [667.0761170387268, 562.8091044425964, 134.65399292111397, 39.95235422253609, 237.06180834770203]\n"
     ]
    },
    {
     "name": "stderr",
     "output_type": "stream",
     "text": [
      "\n"
     ]
    }
   ],
   "source": [
    "count = [0, 0, 0, 0, 0]\n",
    "topk = [1, 3, 5, 10, 20]\n",
    "check = []\n",
    "c = 0\n",
    "\n",
    "from tqdm import tqdm\n",
    "\n",
    "# for i in range(4):\n",
    "for j in tqdm(range(200)):\n",
    "    question = full_ds['question'][j]\n",
    "    ground_truth = full_ds['context'][j]\n",
    "    ground_truth_did = full_ds['document_id'][j]\n",
    "    \n",
    "    query = {\n",
    "        'query':{\n",
    "            'bool':{\n",
    "                'must':[\n",
    "                          {'match':{'text':question}}\n",
    "                ],\n",
    "                'should':[\n",
    "                          {'match':{'text':question}}\n",
    "                ]\n",
    "            }\n",
    "        }\n",
    "    }\n",
    "\n",
    "    doc = es.search(index='document_v3',body=query,size=5)['hits']['hits']\n",
    "    topk_contexts = []\n",
    "    topk_contexts_id = []\n",
    "    \n",
    "    for i in range(len(doc)):\n",
    "        topk_contexts.append(doc[i]['_source']['text'])\n",
    "        topk_contexts_id.append(doc[i]['_source']['document_id'])\n",
    "    \n",
    "    answers = []\n",
    "    scores = []\n",
    "    top_index = -1\n",
    "    for idx, text in enumerate(topk_contexts):\n",
    "        score = 0\n",
    "        answer = mrc(question, text)\n",
    "        for element in answer:\n",
    "            score += element[2]\n",
    "        answers.append(answer)\n",
    "        scores.append(score)\n",
    "        \n",
    "        if ground_truth_did == topk_contexts_id[idx]:\n",
    "            top_index = idx\n",
    "            \n",
    "    print(top_index, scores)\n",
    "    if top_index == scores.index(max(scores)):\n",
    "        c+=1\n",
    "#     for idx, text in enumerate(topk_contexts):\n",
    "#         if ground_truth == text:\n",
    "#             check.append(idx)\n",
    "#             if idx == 0:\n",
    "#                 count[0] += 1\n",
    "#             elif 0 < idx < 3:\n",
    "#                 count[1] += 1\n",
    "#             elif 0 < idx < 5:\n",
    "#                 count[2] += 1\n",
    "#             elif 5 < idx < 10:\n",
    "#                 count[3] += 1\n",
    "#             elif 10 < idx < 20:\n",
    "#                 count[4] += 1\n",
    "#             break\n",
    "\n",
    "# count[4] += (count[0] + count[1] + count[2] + count[3])\n",
    "# count[3] += (count[0] + count[1] + count[2])\n",
    "# count[2] += (count[0] + count[1])\n",
    "# count[1] += count[0]"
   ]
  },
  {
   "cell_type": "code",
   "execution_count": 10,
   "id": "a90e5886-2518-4f24-a4b2-6f3b1a1f29eb",
   "metadata": {},
   "outputs": [
    {
     "data": {
      "text/plain": [
       "83"
      ]
     },
     "execution_count": 10,
     "metadata": {},
     "output_type": "execute_result"
    }
   ],
   "source": [
    "c"
   ]
  },
  {
   "cell_type": "code",
   "execution_count": null,
   "id": "b79d6e1f-23db-4a7f-943a-c4e45b0db2f6",
   "metadata": {},
   "outputs": [],
   "source": [
    "import numpy as np\n",
    "\n",
    "print(count)\n",
    "print(np.array(count) / len(full_ds))"
   ]
  },
  {
   "cell_type": "code",
   "execution_count": null,
   "id": "1679d911-7348-4a2f-94a2-a36051a52ff1",
   "metadata": {},
   "outputs": [],
   "source": [
    "# !pip install matplotlib\n",
    "\n",
    "import matplotlib.pyplot as plt\n",
    "\n",
    "plt.hist(check, rwidth=0.8, bins=np.arange(0,20,1))\n",
    "plt.show()"
   ]
  },
  {
   "cell_type": "code",
   "execution_count": null,
   "id": "58b6c09e-b49f-4716-bf93-4b3fef6df392",
   "metadata": {},
   "outputs": [],
   "source": []
  }
 ],
 "metadata": {
  "kernelspec": {
   "display_name": "Python 3",
   "language": "python",
   "name": "python3"
  },
  "language_info": {
   "codemirror_mode": {
    "name": "ipython",
    "version": 3
   },
   "file_extension": ".py",
   "mimetype": "text/x-python",
   "name": "python",
   "nbconvert_exporter": "python",
   "pygments_lexer": "ipython3",
   "version": "3.7.7"
  }
 },
 "nbformat": 4,
 "nbformat_minor": 5
}

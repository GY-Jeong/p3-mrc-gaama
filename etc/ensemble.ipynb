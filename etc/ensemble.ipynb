{
 "metadata": {
  "language_info": {
   "codemirror_mode": {
    "name": "ipython",
    "version": 3
   },
   "file_extension": ".py",
   "mimetype": "text/x-python",
   "name": "python",
   "nbconvert_exporter": "python",
   "pygments_lexer": "ipython3",
   "version": "3.7.7"
  },
  "orig_nbformat": 2,
  "kernelspec": {
   "name": "python377jvsc74a57bd098b0a9b7b4eaaa670588a142fd0a9b87eaafe866f1db4228be72b4211d12040f",
   "display_name": "Python 3.7.7 64-bit ('base': conda)"
  }
 },
 "nbformat": 4,
 "nbformat_minor": 2,
 "cells": [
  {
   "cell_type": "code",
   "execution_count": 1,
   "metadata": {},
   "outputs": [],
   "source": [
    "import os\n",
    "import json\n",
    "import re \n",
    "\n",
    "from collections import defaultdict\n",
    "from konlpy.tag import Mecab"
   ]
  },
  {
   "cell_type": "code",
   "execution_count": 2,
   "metadata": {},
   "outputs": [],
   "source": [
    "mecab = Mecab()"
   ]
  },
  {
   "cell_type": "code",
   "execution_count": 11,
   "metadata": {},
   "outputs": [],
   "source": [
    "nbest_name = 'nbest_predictions.json'\n",
    "nbest_paths = [\n",
    "    '/opt/ml/dy',\n",
    "    '/opt/ml/ys'\n",
    "]\n"
   ]
  },
  {
   "cell_type": "code",
   "execution_count": 12,
   "metadata": {},
   "outputs": [],
   "source": [
    "candidates = defaultdict(lambda: defaultdict(int))\n",
    "\n",
    "for path in nbest_paths:\n",
    "    with open(os.path.join(path, nbest_name), 'r') as f:\n",
    "        nbest_preds = json.load(f)\n",
    "\n",
    "    for mrc_id, preds in nbest_preds.items():\n",
    "        for p in preds:\n",
    "            text = p['text']  # .strip()\n",
    "\n",
    "            # TODO: add weights for each file\n",
    "            prob = p['probability']\n",
    "            candidates[mrc_id][text] += prob"
   ]
  },
  {
   "cell_type": "code",
   "execution_count": 13,
   "metadata": {},
   "outputs": [],
   "source": [
    "blacklist = ['최소', '대략', '한때', '간혹', '최소한', '필수', \"이따금\",\"아마\",\"절대로\",\"무조건\",\"한때\",\"대략\",\"오직\", \"오로지\",\"감히\",\"최소\",\"아예\",\"반드시\",\"꼭\",\"때때로\",\"이미\", \"심지어\" ,\"종종\",\"졸곧\",\"약간\",\"기꺼이\", \"비록\",\"꾸준히\",\"일부러\",\"어쩔\", \"문득\", \"어쨌든\", \"순전히\", \"필수\",\"자칫\", \"다소\", \"간혹\", \"적어도\", \"왜냐하면\", \"아무래도\"]\n",
    "\n",
    "def valid_answer(text):\n",
    "    # This function only tests for answers with Korean\n",
    "    if not re.search('[가-힣]', text):\n",
    "        return True\n",
    "    elif text.strip() in blacklist:\n",
    "        return False\n",
    "        \n",
    "    part_of_speech = [x[1][0] for x in mecab.pos(text)]\n",
    "\n",
    "    # TODO: M tag 수식언만 나오는 경우? \n",
    "    if len(part_of_speech) == 1 and 'M' in part_of_speech:\n",
    "        return False\n",
    "    return True\n",
    "\n",
    "    # return 'N' in part_of_speech"
   ]
  },
  {
   "cell_type": "code",
   "execution_count": 14,
   "metadata": {},
   "outputs": [],
   "source": [
    "voted_preds = {}\n",
    "pattern = re.compile('[.\\\",\\{\\}\\[\\]\\(\\)\\<\\>]')\n",
    "\n",
    "for mrc_id, aggregated_preds in candidates.items():\n",
    "    p = [(text, sum_probs) for text, sum_probs in aggregated_preds.items()]\n",
    "    sorted_scores = sorted(p, key=lambda x: x[1], reverse=True)\n",
    "\n",
    "    selected = 0\n",
    "    pred = sorted_scores[selected][0]\n",
    "\n",
    "    while (re.sub(pattern, '', pred) == '' or len(pred) > 30 or not valid_answer(pred)) and selected < len(sorted_scores)-1:\n",
    "        selected += 1\n",
    "        pred = sorted_scores[selected][0]\n",
    "\n",
    "    voted_preds[mrc_id] = pred"
   ]
  },
  {
   "cell_type": "code",
   "execution_count": 15,
   "metadata": {},
   "outputs": [],
   "source": [
    "output_dir = '/opt/ml/output'\n",
    "\n",
    "with open(os.path.join(output_dir, 'ensemble_predictions.json'), 'w+') as f:\n",
    "    json.dump(voted_preds, f, ensure_ascii=False, indent = 4)"
   ]
  },
  {
   "cell_type": "code",
   "execution_count": null,
   "metadata": {},
   "outputs": [],
   "source": []
  }
 ]
}
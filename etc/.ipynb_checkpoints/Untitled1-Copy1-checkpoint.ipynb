{
 "cells": [
  {
   "cell_type": "code",
   "execution_count": 1,
   "id": "bdb9eb7d-e79d-4f78-9002-6647500efa49",
   "metadata": {},
   "outputs": [
    {
     "name": "stdout",
     "output_type": "stream",
     "text": [
      "DatasetDict({\n",
      "    train: Dataset({\n",
      "        features: ['__index_level_0__', 'answers', 'context', 'document_id', 'id', 'question', 'title'],\n",
      "        num_rows: 3952\n",
      "    })\n",
      "    validation: Dataset({\n",
      "        features: ['__index_level_0__', 'answers', 'context', 'document_id', 'id', 'question', 'title'],\n",
      "        num_rows: 240\n",
      "    })\n",
      "})\n"
     ]
    }
   ],
   "source": [
    "# train_dataset을 불러오고 싶은 경우\n",
    "from datasets import load_from_disk\n",
    "dataset = load_from_disk(\"./input/data/train_dataset/\")\n",
    "print(dataset)"
   ]
  },
  {
   "cell_type": "code",
   "execution_count": 2,
   "id": "91c00429-1844-4533-ba33-105a902fa10a",
   "metadata": {},
   "outputs": [
    {
     "data": {
      "text/plain": [
       "Dataset({\n",
       "    features: ['__index_level_0__', 'answers', 'context', 'document_id', 'id', 'question', 'title'],\n",
       "    num_rows: 240\n",
       "})"
      ]
     },
     "execution_count": 2,
     "metadata": {},
     "output_type": "execute_result"
    }
   ],
   "source": [
    "dataset['validation']"
   ]
  },
  {
   "cell_type": "code",
   "execution_count": 8,
   "id": "e52e6b57-4d53-4e88-b2a5-7532391f8b6f",
   "metadata": {},
   "outputs": [
    {
     "name": "stdout",
     "output_type": "stream",
     "text": [
      "{'title': '이건청', 'context': '경기도 이천에서 출생하였다. 한양대 국문과 및 동 대학원을 졸업하였고, 단국대학교 대학원에서 문학박사 학위를 받았다. 1967년 《한국일보》 신춘문예로 등단하였다. 현대문학상 .한국시협상, 목월문학상, 현대불교문학상, 녹원문학상, 고산문학대상, 김달진문학상 등을 수상하였으며, 시집으로 《이건청 시집》,《목마른 자는 잠들고》,《망초꽃 하나》,《하이에나》,《코뿔소를 찾아서》《석탄형성에 관한 관찰 기록》,《푸른 말들에 관한 기억》,《소금창고에서 날아가는 노고지리》,《반구대암각화 앞에서》《굴참나무 숲에서》,《곡마단 뒷마당엔 말이 한 마리 있었네》 등이 있다. \\\\n이건청은 김소월 정지용 박목월로 이어지는한국 서정시의 계보를 이으면서 서정의 폭과 깊이를 심화 확장시켜온 시인이다. 그는 1980년대 한국 생태환경시 운동에 참여, 인도 보팔시의 가스 누출 참사를 다룬\\\\n장시 <눈먼 자를 위하여>, 탄광 환경 문제를 다룬 시집 <<석탄형성에 관한 관찰 기록>>등을 통해 생태환경의 문제를 지속적으로 제기하였다. 또한 울산 울주군 대곡천 일원의 반구대암각화와 천전리암각화를 형상화한 한국 최초의 문학작품집인 시집 <<반구대암각화 앞에서>>를 냈다. 그는 세계적 주요 문화유산인 울산 대곡천암각화의 가치와 보존필요성을 널리 알리기위해 조직된 민간 단체 반구대 포럼의 핵심 멤버로 활동하기도 하였다.\\\\n그의 초기시는 내면에 깊이 침잠하여 현대 정신의 위기와 심연을 의식의 심층에서 형상화하였으며, 중기시는 삶의 일상과 현실 속에 순정한 자아를 정립하려는 노력을 기울였다, 그리고, 후기시는 시적 대상과의 원숙한 소통을 형상화하려는 노력을 기울였다. 한국시인협회 회장, 한양대 교수 등을 역임하였으며 현재 한양대학교 명예교수이다.', 'question': '<석탄형성에 관한 관찰 기록>은 무엇에 관한 내용인가?', 'id': 'mrc-1-001173', 'answers': {'answer_start': [444], 'text': ['탄광']}, 'document_id': 17975, '__index_level_0__': 770}\n"
     ]
    }
   ],
   "source": [
    "for data in dataset['validation']:\n",
    "#     print(data)\n",
    "#     break\n",
    "    if data['id'] == 'mrc-1-001173':\n",
    "        print(data)"
   ]
  },
  {
   "cell_type": "code",
   "execution_count": null,
   "id": "54f20be8-706d-4776-bace-fa83fc45c614",
   "metadata": {},
   "outputs": [],
   "source": []
  }
 ],
 "metadata": {
  "kernelspec": {
   "display_name": "Python 3",
   "language": "python",
   "name": "python3"
  },
  "language_info": {
   "codemirror_mode": {
    "name": "ipython",
    "version": 3
   },
   "file_extension": ".py",
   "mimetype": "text/x-python",
   "name": "python",
   "nbconvert_exporter": "python",
   "pygments_lexer": "ipython3",
   "version": "3.7.7"
  }
 },
 "nbformat": 4,
 "nbformat_minor": 5
}

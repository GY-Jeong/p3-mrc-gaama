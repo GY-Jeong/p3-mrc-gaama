{
 "cells": [
  {
   "cell_type": "code",
   "execution_count": 1,
   "id": "e49b7033-50bb-4131-94de-7e7c245d1866",
   "metadata": {},
   "outputs": [],
   "source": [
    "# !python -m pip install elasticsearch\n",
    "# !wget https://artifacts.elastic.co/downloads/elasticsearch/elasticsearch-7.9.2-linux-x86_64.tar.gz -q\n",
    "# !tar -xzf elasticsearch-7.9.2-linux-x86_64.tar.gz\n",
    "# !chown -R daemon:daemon elasticsearch-7.9.2"
   ]
  },
  {
   "cell_type": "code",
   "execution_count": 38,
   "id": "19c75109-c660-431d-9781-b3c89dbdc026",
   "metadata": {},
   "outputs": [],
   "source": [
    "import os\n",
    "from subprocess import Popen, PIPE, STDOUT\n",
    "# es_server.kill()\n",
    "es_server = Popen(['/opt/ml/elasticsearch-7.9.2/bin/elasticsearch'],\n",
    "                   stdout=PIPE, stderr=STDOUT,\n",
    "                   preexec_fn=lambda: os.setuid(1)\n",
    "                  )\n",
    "! sleep 30"
   ]
  },
  {
   "cell_type": "code",
   "execution_count": 3,
   "id": "782cf933-b0a7-4718-ad60-6b7a5622e9a1",
   "metadata": {},
   "outputs": [],
   "source": [
    "# ! /opt/ml/elasticsearch-7.9.2/bin/elasticsearch-plugin install analysis-nori"
   ]
  },
  {
   "cell_type": "code",
   "execution_count": 4,
   "id": "c727b4ab-20ad-4b9d-8cb1-c963eb9b38fb",
   "metadata": {},
   "outputs": [],
   "source": [
    "# es_server.kill()"
   ]
  },
  {
   "cell_type": "code",
   "execution_count": 39,
   "id": "e15c2079-77b5-4751-ac9b-f0c9a589be6c",
   "metadata": {},
   "outputs": [],
   "source": [
    "from elasticsearch import Elasticsearch\n",
    "es = Elasticsearch('localhost:9200')"
   ]
  },
  {
   "cell_type": "code",
   "execution_count": 40,
   "id": "9933303c-3c7c-4b91-a69f-a4ea4fa6b1f5",
   "metadata": {},
   "outputs": [
    {
     "data": {
      "text/plain": [
       "{'name': '640277a98ae6',\n",
       " 'cluster_name': 'elasticsearch',\n",
       " 'cluster_uuid': 'JL4mg3SiSJudLDB6M5KTlQ',\n",
       " 'version': {'number': '7.9.2',\n",
       "  'build_flavor': 'default',\n",
       "  'build_type': 'tar',\n",
       "  'build_hash': 'd34da0ea4a966c4e49417f2da2f244e3e97b4e6e',\n",
       "  'build_date': '2020-09-23T00:45:33.626720Z',\n",
       "  'build_snapshot': False,\n",
       "  'lucene_version': '8.6.2',\n",
       "  'minimum_wire_compatibility_version': '6.8.0',\n",
       "  'minimum_index_compatibility_version': '6.0.0-beta1'},\n",
       " 'tagline': 'You Know, for Search'}"
      ]
     },
     "execution_count": 40,
     "metadata": {},
     "output_type": "execute_result"
    }
   ],
   "source": [
    "es.info()"
   ]
  },
  {
   "cell_type": "code",
   "execution_count": 8,
   "id": "2afedb21-471a-487e-b3b8-880430ff31d8",
   "metadata": {},
   "outputs": [
    {
     "data": {
      "text/plain": [
       "{'acknowledged': True, 'shards_acknowledged': True, 'index': 'document_dy'}"
      ]
     },
     "execution_count": 8,
     "metadata": {},
     "output_type": "execute_result"
    }
   ],
   "source": [
    "es.indices.create(index = 'document_dy',\n",
    "                  body = {\n",
    "                      'settings':{\n",
    "                          'analysis':{\n",
    "                              'analyzer':{\n",
    "                                  'my_analyzer':{\n",
    "                                      \"type\": \"custom\",\n",
    "                                      'tokenizer':'nori_tokenizer',\n",
    "                                      'decompound_mode':'mixed',\n",
    "                                      'stopwords':'_korean_',\n",
    "                                      \"filter\": [\"lowercase\",\n",
    "                                                 \"my_shingle_f\",\n",
    "                                                 \"nori_readingform\",\n",
    "                                                 \"nori_number\"]\n",
    "                                  }\n",
    "                              },\n",
    "                              'filter':{\n",
    "                                  'my_shingle_f':{\n",
    "                                      \"type\": \"shingle\"\n",
    "                                  }\n",
    "                              }\n",
    "                          },\n",
    "                          'similarity':{\n",
    "                              'my_similarity':{\n",
    "                                  'type':'BM25',\n",
    "                              }\n",
    "                          }\n",
    "                      },\n",
    "                      'mappings':{\n",
    "                          'properties':{\n",
    "                              'title':{\n",
    "                                  'type':'text',\n",
    "                                  'analyzer':'my_analyzer',\n",
    "                                  'similarity':'my_similarity'\n",
    "                              },\n",
    "                              'text':{\n",
    "                                  'type':'text',\n",
    "                                  'analyzer':'my_analyzer',\n",
    "                                  'similarity':'my_similarity'\n",
    "                              },\n",
    "                              'document_id':{\n",
    "                                  'type':'text'\n",
    "                              }\n",
    "                          }\n",
    "                      }\n",
    "                  }\n",
    "                  )"
   ]
  },
  {
   "cell_type": "code",
   "execution_count": 9,
   "id": "d9f5faa9-bbc4-461d-84db-b2b323b90125",
   "metadata": {},
   "outputs": [
    {
     "data": {
      "text/plain": [
       "{'document_dy': {'aliases': {},\n",
       "  'mappings': {'properties': {'document_id': {'type': 'text'},\n",
       "    'text': {'type': 'text',\n",
       "     'analyzer': 'my_analyzer',\n",
       "     'similarity': 'my_similarity'},\n",
       "    'title': {'type': 'text',\n",
       "     'analyzer': 'my_analyzer',\n",
       "     'similarity': 'my_similarity'}}},\n",
       "  'settings': {'index': {'number_of_shards': '1',\n",
       "    'provided_name': 'document_dy',\n",
       "    'similarity': {'my_similarity': {'type': 'BM25'}},\n",
       "    'creation_date': '1621412824922',\n",
       "    'analysis': {'filter': {'my_shingle_f': {'type': 'shingle'}},\n",
       "     'analyzer': {'my_analyzer': {'filter': ['lowercase',\n",
       "        'my_shingle_f',\n",
       "        'nori_readingform',\n",
       "        'nori_number'],\n",
       "       'decompound_mode': 'mixed',\n",
       "       'type': 'custom',\n",
       "       'stopwords': '_korean_',\n",
       "       'tokenizer': 'nori_tokenizer'}}},\n",
       "    'number_of_replicas': '1',\n",
       "    'uuid': 'AWISGyQHQUugGR6p_LljRQ',\n",
       "    'version': {'created': '7090299'}}}}}"
      ]
     },
     "execution_count": 9,
     "metadata": {},
     "output_type": "execute_result"
    }
   ],
   "source": [
    "es.indices.get('document_dy')"
   ]
  },
  {
   "cell_type": "code",
   "execution_count": 10,
   "id": "a2697cb8-6742-4888-8b3d-fd7e48695797",
   "metadata": {},
   "outputs": [],
   "source": [
    "import json\n",
    "import pandas as pd\n",
    "\n",
    "# with open(\"input/data/wikipedia_documents.json\", 'r') as f:\n",
    "#     wiki_data = pd.DataFrame(json.load(f)).transpose()\n",
    "    \n",
    "with open(\"code/sparse-mecab-koreanwiki/wikipedia_documents_kor_v3.json\", 'r') as f:\n",
    "    wiki_data = pd.DataFrame(json.load(f)).transpose()"
   ]
  },
  {
   "cell_type": "code",
   "execution_count": 11,
   "id": "2566e973-2908-44e9-b21a-227c7fd40385",
   "metadata": {
    "scrolled": true,
    "tags": []
   },
   "outputs": [
    {
     "name": "stderr",
     "output_type": "stream",
     "text": [
      "100%|██████████| 60045/60045 [05:30<00:00, 181.64it/s]\n"
     ]
    }
   ],
   "source": [
    "from tqdm import tqdm\n",
    "\n",
    "for num in tqdm(range(len(wiki_data))):\n",
    "    es.index(index='document_dy', body = {\"title\" : wiki_data['title'][num], \"text\" : wiki_data['text'][num], \"document_id\" : wiki_data['document_id'][num]})"
   ]
  },
  {
   "cell_type": "code",
   "execution_count": 12,
   "id": "a54d4899-96e7-44b4-9c65-6f564b65fad2",
   "metadata": {},
   "outputs": [],
   "source": [
    "from datasets import (\n",
    "    Dataset,\n",
    "    load_from_disk,\n",
    "    concatenate_datasets,\n",
    ")\n",
    "from konlpy.tag import Mecab\n",
    "# from rank_bm25 import BM25Okapi"
   ]
  },
  {
   "cell_type": "code",
   "execution_count": 13,
   "id": "53c48eb0-0e11-42f0-8b17-4fec0ff57e19",
   "metadata": {},
   "outputs": [
    {
     "name": "stderr",
     "output_type": "stream",
     "text": [
      "Loading cached processed dataset at /opt/ml/input/data/train_dataset/train/cache-5864ec783ab77348.arrow\n",
      "Loading cached processed dataset at /opt/ml/input/data/train_dataset/validation/cache-ec5c6075463087d0.arrow\n"
     ]
    },
    {
     "name": "stdout",
     "output_type": "stream",
     "text": [
      "**************************************** query dataset ****************************************\n",
      "Dataset({\n",
      "    features: ['__index_level_0__', 'answers', 'context', 'document_id', 'id', 'question', 'title'],\n",
      "    num_rows: 4192\n",
      "})\n"
     ]
    }
   ],
   "source": [
    "org_dataset = load_from_disk(\"/opt/ml/input/data/train_dataset\")\n",
    "full_ds = concatenate_datasets(\n",
    "    [\n",
    "        org_dataset[\"train\"].flatten_indices(),\n",
    "        org_dataset[\"validation\"].flatten_indices(),\n",
    "    ]\n",
    ") # train dev 를 합친 4192 개 질문에 대해 모두 테스트\n",
    "print(\"*\"*40, \"query dataset\", \"*\"*40)\n",
    "print(full_ds)"
   ]
  },
  {
   "cell_type": "code",
   "execution_count": 14,
   "id": "c614cb27-3777-4fe9-929c-7afa542c1a3b",
   "metadata": {},
   "outputs": [
    {
     "data": {
      "text/plain": [
       "'현대 인사 조직 관리 시발점 된 책'"
      ]
     },
     "execution_count": 14,
     "metadata": {},
     "output_type": "execute_result"
    }
   ],
   "source": [
    "import re\n",
    "from konlpy.tag import Mecab\n",
    "\n",
    "mecab = Mecab()\n",
    "\n",
    "# 질문에 특정적인 용어를 삭제하는 함수\n",
    "def remove_q(query):\n",
    "    stop = \"|\".join(\n",
    "        \"어느 무엇인가요 무엇 누가 누구인가요 누구인가 누구 어디에서 어디에 어디서 어디인가요 어디를 어디 언제 어떤 어떠한 몇 얼마 얼마나 뭐 어떻게 무슨 \\?\".split(\n",
    "            \" \"\n",
    "        )\n",
    "    )\n",
    "    rm = re.sub(stop, \"\", query).strip()\n",
    "    return rm\n",
    "\n",
    "\n",
    "# Retriever 에서 사용되는 토크나이저\n",
    "def process_morphs_simple(query):\n",
    "    rm = remove_q(query)\n",
    "    pos = mecab.pos(rm)\n",
    "    return [x[0] for x in pos if x[1][0] != \"J\" and x[1][0] != \"E\" and x[1][0] != \"X\"]\n",
    "\n",
    "' '.join(process_morphs_simple('현대적 인사조직관리의 시발점이 된 책은?'))"
   ]
  },
  {
   "cell_type": "code",
   "execution_count": 26,
   "id": "d55d9690-798e-4470-8e97-3064b45e41f5",
   "metadata": {},
   "outputs": [],
   "source": [
    "from pororo import Pororo\n",
    "mrc = Pororo(\"mrc\", \"ko\")"
   ]
  },
  {
   "cell_type": "code",
   "execution_count": 41,
   "id": "f8fe2c57-e211-4ac1-a1a6-3c16fb393997",
   "metadata": {
    "scrolled": true,
    "tags": []
   },
   "outputs": [
    {
     "name": "stderr",
     "output_type": "stream",
     "text": [
      "\n",
      "\n",
      "  0%|          | 0/200 [00:00<?, ?it/s]\u001b[A\u001b[A\n",
      "\n",
      "  0%|          | 1/200 [00:00<01:22,  2.41it/s]\u001b[A\u001b[A\n",
      "\n",
      "  1%|          | 2/200 [00:00<01:09,  2.86it/s]\u001b[A\u001b[A\n",
      "\n",
      "  2%|▏         | 3/200 [00:00<01:04,  3.08it/s]\u001b[A\u001b[A\n",
      "\n",
      "  2%|▏         | 4/200 [00:01<00:57,  3.38it/s]\u001b[A\u001b[A\n",
      "\n",
      "  2%|▎         | 5/200 [00:01<00:52,  3.73it/s]\u001b[A\u001b[A\n",
      "\n",
      "  3%|▎         | 6/200 [00:01<00:49,  3.95it/s]\u001b[A\u001b[A\n",
      "\n",
      "  4%|▎         | 7/200 [00:01<00:40,  4.74it/s]\u001b[A\u001b[A\n",
      "\n",
      "  4%|▍         | 8/200 [00:01<00:38,  5.03it/s]\u001b[A\u001b[A\n",
      "\n",
      "  4%|▍         | 9/200 [00:02<00:39,  4.82it/s]\u001b[A\u001b[A\n",
      "\n",
      "  5%|▌         | 10/200 [00:02<00:38,  4.97it/s]\u001b[A\u001b[A\n",
      "\n",
      "  6%|▌         | 12/200 [00:02<00:32,  5.81it/s]\u001b[A\u001b[A\n",
      "\n",
      "  6%|▋         | 13/200 [00:02<00:29,  6.29it/s]\u001b[A\u001b[A\n",
      "\n",
      "  8%|▊         | 15/200 [00:02<00:26,  6.91it/s]\u001b[A\u001b[A\n",
      "\n",
      "  8%|▊         | 16/200 [00:02<00:27,  6.78it/s]\u001b[A\u001b[A\n",
      "\n",
      "  8%|▊         | 17/200 [00:03<00:31,  5.76it/s]\u001b[A\u001b[A\n",
      "\n",
      "  9%|▉         | 18/200 [00:03<00:30,  5.92it/s]\u001b[A\u001b[A\n",
      "\n",
      " 10%|▉         | 19/200 [00:03<00:30,  5.85it/s]\u001b[A\u001b[A\n",
      "\n",
      " 10%|█         | 20/200 [00:03<00:30,  5.85it/s]\u001b[A\u001b[A\n",
      "\n",
      " 10%|█         | 21/200 [00:03<00:30,  5.94it/s]\u001b[A\u001b[A\n",
      "\n",
      " 11%|█         | 22/200 [00:04<00:34,  5.17it/s]\u001b[A\u001b[A\n",
      "\n",
      " 12%|█▏        | 23/200 [00:04<00:31,  5.58it/s]\u001b[A\u001b[A\n",
      "\n",
      " 12%|█▎        | 25/200 [00:04<00:27,  6.43it/s]\u001b[A\u001b[A\n",
      "\n",
      " 13%|█▎        | 26/200 [00:04<00:26,  6.55it/s]\u001b[A\u001b[A\n",
      "\n",
      " 14%|█▍        | 28/200 [00:04<00:26,  6.41it/s]\u001b[A\u001b[A\n",
      "\n",
      " 14%|█▍        | 29/200 [00:05<00:27,  6.25it/s]\u001b[A\u001b[A\n",
      "\n",
      " 15%|█▌        | 30/200 [00:05<00:27,  6.17it/s]\u001b[A\u001b[A\n",
      "\n",
      " 16%|█▌        | 31/200 [00:05<00:27,  6.19it/s]\u001b[A\u001b[A\n",
      "\n",
      " 16%|█▌        | 32/200 [00:05<00:26,  6.24it/s]\u001b[A\u001b[A\n",
      "\n",
      " 16%|█▋        | 33/200 [00:05<00:27,  6.19it/s]\u001b[A\u001b[A\n",
      "\n",
      " 17%|█▋        | 34/200 [00:05<00:24,  6.69it/s]\u001b[A\u001b[A\n",
      "\n",
      " 18%|█▊        | 36/200 [00:06<00:21,  7.80it/s]\u001b[A\u001b[A\n",
      "\n",
      " 18%|█▊        | 37/200 [00:06<00:24,  6.64it/s]\u001b[A\u001b[A\n",
      "\n",
      " 19%|█▉        | 38/200 [00:06<00:25,  6.30it/s]\u001b[A\u001b[A\n",
      "\n",
      " 20%|█▉        | 39/200 [00:06<00:31,  5.06it/s]\u001b[A\u001b[A\n",
      "\n",
      " 20%|██        | 40/200 [00:06<00:34,  4.64it/s]\u001b[A\u001b[A\n",
      "\n",
      " 20%|██        | 41/200 [00:07<00:34,  4.65it/s]\u001b[A\u001b[A\n",
      "\n",
      " 21%|██        | 42/200 [00:07<00:32,  4.85it/s]\u001b[A\u001b[A\n",
      "\n",
      " 22%|██▏       | 43/200 [00:07<00:31,  4.97it/s]\u001b[A\u001b[A\n",
      "\n",
      " 22%|██▏       | 44/200 [00:07<00:33,  4.70it/s]\u001b[A\u001b[A\n",
      "\n",
      " 22%|██▎       | 45/200 [00:07<00:29,  5.23it/s]\u001b[A\u001b[A\n",
      "\n",
      " 23%|██▎       | 46/200 [00:08<00:31,  4.83it/s]\u001b[A\u001b[A\n",
      "\n",
      " 24%|██▎       | 47/200 [00:08<00:30,  5.04it/s]\u001b[A\u001b[A\n",
      "\n",
      " 24%|██▍       | 48/200 [00:08<00:28,  5.39it/s]\u001b[A\u001b[A\n",
      "\n",
      " 24%|██▍       | 49/200 [00:08<00:25,  5.97it/s]\u001b[A\u001b[A\n",
      "\n",
      " 25%|██▌       | 50/200 [00:08<00:25,  5.90it/s]\u001b[A\u001b[A\n",
      "\n",
      " 26%|██▌       | 51/200 [00:08<00:27,  5.47it/s]\u001b[A\u001b[A\n",
      "\n",
      " 26%|██▌       | 52/200 [00:09<00:29,  5.02it/s]\u001b[A\u001b[A\n",
      "\n",
      " 26%|██▋       | 53/200 [00:09<00:26,  5.50it/s]\u001b[A\u001b[A\n",
      "\n",
      " 27%|██▋       | 54/200 [00:09<00:26,  5.54it/s]\u001b[A\u001b[A\n",
      "\n",
      " 28%|██▊       | 55/200 [00:09<00:25,  5.78it/s]\u001b[A\u001b[A\n",
      "\n",
      " 28%|██▊       | 56/200 [00:09<00:24,  5.78it/s]\u001b[A\u001b[A\n",
      "\n",
      " 28%|██▊       | 57/200 [00:10<00:23,  6.01it/s]\u001b[A\u001b[A\n",
      "\n",
      " 29%|██▉       | 58/200 [00:10<00:22,  6.29it/s]\u001b[A\u001b[A\n",
      "\n",
      " 30%|██▉       | 59/200 [00:10<00:20,  6.79it/s]\u001b[A\u001b[A\n",
      "\n",
      " 30%|███       | 60/200 [00:10<00:19,  7.26it/s]\u001b[A\u001b[A\n",
      "\n",
      " 30%|███       | 61/200 [00:10<00:20,  6.65it/s]\u001b[A\u001b[A\n",
      "\n",
      " 31%|███       | 62/200 [00:10<00:21,  6.28it/s]\u001b[A\u001b[A\n",
      "\n",
      " 32%|███▏      | 63/200 [00:10<00:19,  6.96it/s]\u001b[A\u001b[A\n",
      "\n",
      " 32%|███▏      | 64/200 [00:10<00:17,  7.58it/s]\u001b[A\u001b[A\n",
      "\n",
      " 32%|███▎      | 65/200 [00:11<00:19,  7.10it/s]\u001b[A\u001b[A\n",
      "\n",
      " 33%|███▎      | 66/200 [00:11<00:18,  7.44it/s]\u001b[A\u001b[A\n",
      "\n",
      " 34%|███▎      | 67/200 [00:11<00:18,  7.17it/s]\u001b[A\u001b[A\n",
      "\n",
      " 34%|███▍      | 68/200 [00:11<00:17,  7.64it/s]\u001b[A\u001b[A\n",
      "\n",
      " 34%|███▍      | 69/200 [00:11<00:16,  7.76it/s]\u001b[A\u001b[A\n",
      "\n",
      " 35%|███▌      | 70/200 [00:11<00:21,  6.04it/s]\u001b[A\u001b[A\n",
      "\n",
      " 36%|███▌      | 71/200 [00:12<00:22,  5.82it/s]\u001b[A\u001b[A\n",
      "\n",
      " 36%|███▌      | 72/200 [00:12<00:23,  5.50it/s]\u001b[A\u001b[A\n",
      "\n",
      " 36%|███▋      | 73/200 [00:12<00:23,  5.42it/s]\u001b[A\u001b[A\n",
      "\n",
      " 37%|███▋      | 74/200 [00:12<00:23,  5.34it/s]\u001b[A\u001b[A\n",
      "\n",
      " 38%|███▊      | 75/200 [00:12<00:21,  5.88it/s]\u001b[A\u001b[A\n",
      "\n",
      " 38%|███▊      | 76/200 [00:12<00:20,  6.13it/s]\u001b[A\u001b[A\n",
      "\n",
      " 38%|███▊      | 77/200 [00:13<00:18,  6.48it/s]\u001b[A\u001b[A\n",
      "\n",
      " 39%|███▉      | 78/200 [00:13<00:18,  6.55it/s]\u001b[A\u001b[A\n",
      "\n",
      " 40%|███▉      | 79/200 [00:13<00:19,  6.35it/s]\u001b[A\u001b[A\n",
      "\n",
      " 40%|████      | 80/200 [00:13<00:19,  6.16it/s]\u001b[A\u001b[A\n",
      "\n",
      " 40%|████      | 81/200 [00:13<00:18,  6.38it/s]\u001b[A\u001b[A\n",
      "\n",
      " 41%|████      | 82/200 [00:13<00:19,  6.06it/s]\u001b[A\u001b[A\n",
      "\n",
      " 42%|████▏     | 83/200 [00:14<00:21,  5.39it/s]\u001b[A\u001b[A\n",
      "\n",
      " 42%|████▏     | 84/200 [00:14<00:20,  5.74it/s]\u001b[A\u001b[A\n",
      "\n",
      " 42%|████▎     | 85/200 [00:14<00:19,  5.80it/s]\u001b[A\u001b[A\n",
      "\n",
      " 43%|████▎     | 86/200 [00:14<00:17,  6.46it/s]\u001b[A\u001b[A\n",
      "\n",
      " 44%|████▍     | 88/200 [00:14<00:16,  6.81it/s]\u001b[A\u001b[A\n",
      "\n",
      " 44%|████▍     | 89/200 [00:14<00:16,  6.55it/s]\u001b[A\u001b[A\n",
      "\n",
      " 45%|████▌     | 90/200 [00:15<00:17,  6.46it/s]\u001b[A\u001b[A\n",
      "\n",
      " 46%|████▌     | 92/200 [00:15<00:14,  7.50it/s]\u001b[A\u001b[A\n",
      "\n",
      " 46%|████▋     | 93/200 [00:15<00:14,  7.54it/s]\u001b[A\u001b[A\n",
      "\n",
      " 47%|████▋     | 94/200 [00:15<00:16,  6.52it/s]\u001b[A\u001b[A\n",
      "\n",
      " 48%|████▊     | 95/200 [00:15<00:15,  6.97it/s]\u001b[A\u001b[A\n",
      "\n",
      " 48%|████▊     | 96/200 [00:15<00:16,  6.43it/s]\u001b[A\u001b[A\n",
      "\n",
      " 48%|████▊     | 97/200 [00:16<00:16,  6.23it/s]\u001b[A\u001b[A\n",
      "\n",
      " 49%|████▉     | 98/200 [00:16<00:18,  5.48it/s]\u001b[A\u001b[A\n",
      "\n",
      " 50%|████▉     | 99/200 [00:16<00:20,  4.98it/s]\u001b[A\u001b[A\n",
      "\n",
      " 50%|█████     | 101/200 [00:16<00:16,  6.06it/s]\u001b[A\u001b[A\n",
      "\n",
      " 51%|█████     | 102/200 [00:17<00:18,  5.29it/s]\u001b[A\u001b[A\n",
      "\n",
      " 52%|█████▏    | 103/200 [00:17<00:20,  4.75it/s]\u001b[A\u001b[A\n",
      "\n",
      " 52%|█████▏    | 104/200 [00:17<00:18,  5.17it/s]\u001b[A\u001b[A\n",
      "\n",
      " 52%|█████▎    | 105/200 [00:17<00:20,  4.71it/s]\u001b[A\u001b[A\n",
      "\n",
      " 53%|█████▎    | 106/200 [00:18<00:24,  3.81it/s]\u001b[A\u001b[A\n",
      "\n",
      " 54%|█████▎    | 107/200 [00:18<00:21,  4.29it/s]\u001b[A\u001b[A"
     ]
    },
    {
     "ename": "KeyboardInterrupt",
     "evalue": "",
     "output_type": "error",
     "traceback": [
      "\u001b[0;31m---------------------------------------------------------------------------\u001b[0m",
      "\u001b[0;31mKeyboardInterrupt\u001b[0m                         Traceback (most recent call last)",
      "\u001b[0;32m<ipython-input-41-51556131f206>\u001b[0m in \u001b[0;36m<module>\u001b[0;34m\u001b[0m\n\u001b[1;32m      7\u001b[0m     \u001b[0mquestion\u001b[0m \u001b[0;34m=\u001b[0m \u001b[0mfull_ds\u001b[0m\u001b[0;34m[\u001b[0m\u001b[0;34m'question'\u001b[0m\u001b[0;34m]\u001b[0m\u001b[0;34m[\u001b[0m\u001b[0mj\u001b[0m\u001b[0;34m]\u001b[0m\u001b[0;34m\u001b[0m\u001b[0;34m\u001b[0m\u001b[0m\n\u001b[1;32m      8\u001b[0m \u001b[0;31m#     question = ' '.join(process_morphs_simple(question))\u001b[0m\u001b[0;34m\u001b[0m\u001b[0;34m\u001b[0m\u001b[0;34m\u001b[0m\u001b[0m\n\u001b[0;32m----> 9\u001b[0;31m     \u001b[0mground_truth\u001b[0m \u001b[0;34m=\u001b[0m \u001b[0mfull_ds\u001b[0m\u001b[0;34m[\u001b[0m\u001b[0;34m'context'\u001b[0m\u001b[0;34m]\u001b[0m\u001b[0;34m[\u001b[0m\u001b[0mj\u001b[0m\u001b[0;34m]\u001b[0m\u001b[0;34m\u001b[0m\u001b[0;34m\u001b[0m\u001b[0m\n\u001b[0m\u001b[1;32m     10\u001b[0m     \u001b[0mground_truth_did\u001b[0m \u001b[0;34m=\u001b[0m \u001b[0mfull_ds\u001b[0m\u001b[0;34m[\u001b[0m\u001b[0;34m'document_id'\u001b[0m\u001b[0;34m]\u001b[0m\u001b[0;34m[\u001b[0m\u001b[0mj\u001b[0m\u001b[0;34m]\u001b[0m\u001b[0;34m\u001b[0m\u001b[0;34m\u001b[0m\u001b[0m\n\u001b[1;32m     11\u001b[0m \u001b[0;34m\u001b[0m\u001b[0m\n",
      "\u001b[0;32m/opt/conda/lib/python3.7/site-packages/datasets/arrow_dataset.py\u001b[0m in \u001b[0;36m__getitem__\u001b[0;34m(self, key)\u001b[0m\n\u001b[1;32m   1246\u001b[0m             \u001b[0mformat_columns\u001b[0m\u001b[0;34m=\u001b[0m\u001b[0mself\u001b[0m\u001b[0;34m.\u001b[0m\u001b[0m_format_columns\u001b[0m\u001b[0;34m,\u001b[0m\u001b[0;34m\u001b[0m\u001b[0;34m\u001b[0m\u001b[0m\n\u001b[1;32m   1247\u001b[0m             \u001b[0moutput_all_columns\u001b[0m\u001b[0;34m=\u001b[0m\u001b[0mself\u001b[0m\u001b[0;34m.\u001b[0m\u001b[0m_output_all_columns\u001b[0m\u001b[0;34m,\u001b[0m\u001b[0;34m\u001b[0m\u001b[0;34m\u001b[0m\u001b[0m\n\u001b[0;32m-> 1248\u001b[0;31m             \u001b[0mformat_kwargs\u001b[0m\u001b[0;34m=\u001b[0m\u001b[0mself\u001b[0m\u001b[0;34m.\u001b[0m\u001b[0m_format_kwargs\u001b[0m\u001b[0;34m,\u001b[0m\u001b[0;34m\u001b[0m\u001b[0;34m\u001b[0m\u001b[0m\n\u001b[0m\u001b[1;32m   1249\u001b[0m         )\n\u001b[1;32m   1250\u001b[0m \u001b[0;34m\u001b[0m\u001b[0m\n",
      "\u001b[0;32m/opt/conda/lib/python3.7/site-packages/datasets/arrow_dataset.py\u001b[0m in \u001b[0;36m_getitem\u001b[0;34m(self, key, format_type, format_columns, output_all_columns, format_kwargs)\u001b[0m\n\u001b[1;32m   1233\u001b[0m         )\n\u001b[1;32m   1234\u001b[0m         formatted_output = format_table(\n\u001b[0;32m-> 1235\u001b[0;31m             \u001b[0mpa_subtable\u001b[0m\u001b[0;34m,\u001b[0m \u001b[0mkey\u001b[0m\u001b[0;34m,\u001b[0m \u001b[0mformatter\u001b[0m\u001b[0;34m=\u001b[0m\u001b[0mformatter\u001b[0m\u001b[0;34m,\u001b[0m \u001b[0mformat_columns\u001b[0m\u001b[0;34m=\u001b[0m\u001b[0mformat_columns\u001b[0m\u001b[0;34m,\u001b[0m \u001b[0moutput_all_columns\u001b[0m\u001b[0;34m=\u001b[0m\u001b[0moutput_all_columns\u001b[0m\u001b[0;34m\u001b[0m\u001b[0;34m\u001b[0m\u001b[0m\n\u001b[0m\u001b[1;32m   1236\u001b[0m         )\n\u001b[1;32m   1237\u001b[0m         \u001b[0;32mreturn\u001b[0m \u001b[0mformatted_output\u001b[0m\u001b[0;34m\u001b[0m\u001b[0;34m\u001b[0m\u001b[0m\n",
      "\u001b[0;32m/opt/conda/lib/python3.7/site-packages/datasets/formatting/formatting.py\u001b[0m in \u001b[0;36mformat_table\u001b[0;34m(pa_table, key, formatter, format_columns, output_all_columns)\u001b[0m\n\u001b[1;32m    376\u001b[0m     \u001b[0;32melif\u001b[0m \u001b[0mquery_type\u001b[0m \u001b[0;34m==\u001b[0m \u001b[0;34m\"column\"\u001b[0m\u001b[0;34m:\u001b[0m\u001b[0;34m\u001b[0m\u001b[0;34m\u001b[0m\u001b[0m\n\u001b[1;32m    377\u001b[0m         \u001b[0;32mif\u001b[0m \u001b[0mkey\u001b[0m \u001b[0;32min\u001b[0m \u001b[0mformat_columns\u001b[0m\u001b[0;34m:\u001b[0m\u001b[0;34m\u001b[0m\u001b[0;34m\u001b[0m\u001b[0m\n\u001b[0;32m--> 378\u001b[0;31m             \u001b[0;32mreturn\u001b[0m \u001b[0mformatter\u001b[0m\u001b[0;34m(\u001b[0m\u001b[0mpa_table\u001b[0m\u001b[0;34m,\u001b[0m \u001b[0mquery_type\u001b[0m\u001b[0;34m)\u001b[0m\u001b[0;34m\u001b[0m\u001b[0;34m\u001b[0m\u001b[0m\n\u001b[0m\u001b[1;32m    379\u001b[0m         \u001b[0;32melse\u001b[0m\u001b[0;34m:\u001b[0m\u001b[0;34m\u001b[0m\u001b[0;34m\u001b[0m\u001b[0m\n\u001b[1;32m    380\u001b[0m             \u001b[0;32mreturn\u001b[0m \u001b[0mpython_formatter\u001b[0m\u001b[0;34m(\u001b[0m\u001b[0mpa_table\u001b[0m\u001b[0;34m,\u001b[0m \u001b[0mquery_type\u001b[0m\u001b[0;34m=\u001b[0m\u001b[0mquery_type\u001b[0m\u001b[0;34m)\u001b[0m\u001b[0;34m\u001b[0m\u001b[0;34m\u001b[0m\u001b[0m\n",
      "\u001b[0;32m/opt/conda/lib/python3.7/site-packages/datasets/formatting/formatting.py\u001b[0m in \u001b[0;36m__call__\u001b[0;34m(self, pa_table, query_type)\u001b[0m\n\u001b[1;32m    173\u001b[0m             \u001b[0;32mreturn\u001b[0m \u001b[0mself\u001b[0m\u001b[0;34m.\u001b[0m\u001b[0mformat_row\u001b[0m\u001b[0;34m(\u001b[0m\u001b[0mpa_table\u001b[0m\u001b[0;34m)\u001b[0m\u001b[0;34m\u001b[0m\u001b[0;34m\u001b[0m\u001b[0m\n\u001b[1;32m    174\u001b[0m         \u001b[0;32melif\u001b[0m \u001b[0mquery_type\u001b[0m \u001b[0;34m==\u001b[0m \u001b[0;34m\"column\"\u001b[0m\u001b[0;34m:\u001b[0m\u001b[0;34m\u001b[0m\u001b[0;34m\u001b[0m\u001b[0m\n\u001b[0;32m--> 175\u001b[0;31m             \u001b[0;32mreturn\u001b[0m \u001b[0mself\u001b[0m\u001b[0;34m.\u001b[0m\u001b[0mformat_column\u001b[0m\u001b[0;34m(\u001b[0m\u001b[0mpa_table\u001b[0m\u001b[0;34m)\u001b[0m\u001b[0;34m\u001b[0m\u001b[0;34m\u001b[0m\u001b[0m\n\u001b[0m\u001b[1;32m    176\u001b[0m         \u001b[0;32melif\u001b[0m \u001b[0mquery_type\u001b[0m \u001b[0;34m==\u001b[0m \u001b[0;34m\"batch\"\u001b[0m\u001b[0;34m:\u001b[0m\u001b[0;34m\u001b[0m\u001b[0;34m\u001b[0m\u001b[0m\n\u001b[1;32m    177\u001b[0m             \u001b[0;32mreturn\u001b[0m \u001b[0mself\u001b[0m\u001b[0;34m.\u001b[0m\u001b[0mformat_batch\u001b[0m\u001b[0;34m(\u001b[0m\u001b[0mpa_table\u001b[0m\u001b[0;34m)\u001b[0m\u001b[0;34m\u001b[0m\u001b[0;34m\u001b[0m\u001b[0m\n",
      "\u001b[0;32m/opt/conda/lib/python3.7/site-packages/datasets/formatting/formatting.py\u001b[0m in \u001b[0;36mformat_column\u001b[0;34m(self, pa_table)\u001b[0m\n\u001b[1;32m    192\u001b[0m \u001b[0;34m\u001b[0m\u001b[0m\n\u001b[1;32m    193\u001b[0m     \u001b[0;32mdef\u001b[0m \u001b[0mformat_column\u001b[0m\u001b[0;34m(\u001b[0m\u001b[0mself\u001b[0m\u001b[0;34m,\u001b[0m \u001b[0mpa_table\u001b[0m\u001b[0;34m:\u001b[0m \u001b[0mpa\u001b[0m\u001b[0;34m.\u001b[0m\u001b[0mTable\u001b[0m\u001b[0;34m)\u001b[0m \u001b[0;34m->\u001b[0m \u001b[0mlist\u001b[0m\u001b[0;34m:\u001b[0m\u001b[0;34m\u001b[0m\u001b[0;34m\u001b[0m\u001b[0m\n\u001b[0;32m--> 194\u001b[0;31m         \u001b[0;32mreturn\u001b[0m \u001b[0mself\u001b[0m\u001b[0;34m.\u001b[0m\u001b[0mpython_arrow_extractor\u001b[0m\u001b[0;34m(\u001b[0m\u001b[0;34m)\u001b[0m\u001b[0;34m.\u001b[0m\u001b[0mextract_column\u001b[0m\u001b[0;34m(\u001b[0m\u001b[0mpa_table\u001b[0m\u001b[0;34m)\u001b[0m\u001b[0;34m\u001b[0m\u001b[0;34m\u001b[0m\u001b[0m\n\u001b[0m\u001b[1;32m    195\u001b[0m \u001b[0;34m\u001b[0m\u001b[0m\n\u001b[1;32m    196\u001b[0m     \u001b[0;32mdef\u001b[0m \u001b[0mformat_batch\u001b[0m\u001b[0;34m(\u001b[0m\u001b[0mself\u001b[0m\u001b[0;34m,\u001b[0m \u001b[0mpa_table\u001b[0m\u001b[0;34m:\u001b[0m \u001b[0mpa\u001b[0m\u001b[0;34m.\u001b[0m\u001b[0mTable\u001b[0m\u001b[0;34m)\u001b[0m \u001b[0;34m->\u001b[0m \u001b[0mdict\u001b[0m\u001b[0;34m:\u001b[0m\u001b[0;34m\u001b[0m\u001b[0;34m\u001b[0m\u001b[0m\n",
      "\u001b[0;32m/opt/conda/lib/python3.7/site-packages/datasets/formatting/formatting.py\u001b[0m in \u001b[0;36mextract_column\u001b[0;34m(self, pa_table)\u001b[0m\n\u001b[1;32m    118\u001b[0m \u001b[0;34m\u001b[0m\u001b[0m\n\u001b[1;32m    119\u001b[0m     \u001b[0;32mdef\u001b[0m \u001b[0mextract_column\u001b[0m\u001b[0;34m(\u001b[0m\u001b[0mself\u001b[0m\u001b[0;34m,\u001b[0m \u001b[0mpa_table\u001b[0m\u001b[0;34m:\u001b[0m \u001b[0mpa\u001b[0m\u001b[0;34m.\u001b[0m\u001b[0mTable\u001b[0m\u001b[0;34m)\u001b[0m \u001b[0;34m->\u001b[0m \u001b[0mlist\u001b[0m\u001b[0;34m:\u001b[0m\u001b[0;34m\u001b[0m\u001b[0;34m\u001b[0m\u001b[0m\n\u001b[0;32m--> 120\u001b[0;31m         \u001b[0;32mreturn\u001b[0m \u001b[0mpa_table\u001b[0m\u001b[0;34m.\u001b[0m\u001b[0mcolumn\u001b[0m\u001b[0;34m(\u001b[0m\u001b[0;36m0\u001b[0m\u001b[0;34m)\u001b[0m\u001b[0;34m.\u001b[0m\u001b[0mto_pylist\u001b[0m\u001b[0;34m(\u001b[0m\u001b[0;34m)\u001b[0m\u001b[0;34m\u001b[0m\u001b[0;34m\u001b[0m\u001b[0m\n\u001b[0m\u001b[1;32m    121\u001b[0m \u001b[0;34m\u001b[0m\u001b[0m\n\u001b[1;32m    122\u001b[0m     \u001b[0;32mdef\u001b[0m \u001b[0mextract_batch\u001b[0m\u001b[0;34m(\u001b[0m\u001b[0mself\u001b[0m\u001b[0;34m,\u001b[0m \u001b[0mpa_table\u001b[0m\u001b[0;34m:\u001b[0m \u001b[0mpa\u001b[0m\u001b[0;34m.\u001b[0m\u001b[0mTable\u001b[0m\u001b[0;34m)\u001b[0m \u001b[0;34m->\u001b[0m \u001b[0mdict\u001b[0m\u001b[0;34m:\u001b[0m\u001b[0;34m\u001b[0m\u001b[0;34m\u001b[0m\u001b[0m\n",
      "\u001b[0;31mKeyboardInterrupt\u001b[0m: "
     ]
    }
   ],
   "source": [
    "count = [0, 0, 0, 0, 0]\n",
    "topk = [1, 3, 5, 10, 20]\n",
    "check = []\n",
    "\n",
    "# for i in range(4):\n",
    "for j in tqdm(range(200)):\n",
    "    question = full_ds['question'][j]\n",
    "#     question = ' '.join(process_morphs_simple(question))\n",
    "    ground_truth = full_ds['context'][j]\n",
    "    ground_truth_did = full_ds['document_id'][j]\n",
    "    \n",
    "    query = {\n",
    "        'query':{\n",
    "            'bool':{\n",
    "                'must':[\n",
    "                          {'match':{'text':question}}\n",
    "                ],\n",
    "                'should':[\n",
    "                          {'match':{'text':question}}\n",
    "                ]\n",
    "            }\n",
    "        }\n",
    "    }\n",
    "\n",
    "    doc = es.search(index='document_dy',body=query,size=20)['hits']['hits']\n",
    "    topk_contexts = []\n",
    "    for i in range(len(doc)):\n",
    "        topk_contexts.append(doc[i]['_source']['document_id'])\n",
    "#     topk_contexts = [print(element) for element in doc[0]]\n",
    "#     print(topk_contexts)\n",
    "    for idx, text in enumerate(topk_contexts):\n",
    "        if text == ground_truth_did:\n",
    "            check.append(idx)\n",
    "            if idx == 0:\n",
    "                count[0] += 1\n",
    "            elif 0 < idx < 3:\n",
    "                count[1] += 1\n",
    "            elif 0 < idx < 5:\n",
    "                count[2] += 1\n",
    "            elif 5 < idx < 10:\n",
    "                count[3] += 1\n",
    "            elif 10 < idx < 20:\n",
    "                count[4] += 1\n",
    "            break\n",
    "\n",
    "count[4] += (count[0] + count[1] + count[2] + count[3])\n",
    "count[3] += (count[0] + count[1] + count[2])\n",
    "count[2] += (count[0] + count[1])\n",
    "count[1] += count[0]"
   ]
  },
  {
   "cell_type": "code",
   "execution_count": 19,
   "id": "b79d6e1f-23db-4a7f-943a-c4e45b0db2f6",
   "metadata": {},
   "outputs": [
    {
     "name": "stdout",
     "output_type": "stream",
     "text": [
      "[2307, 3338, 3533, 3651, 3771]\n",
      "[0.55033397 0.79627863 0.8427958  0.87094466 0.89957061]\n"
     ]
    }
   ],
   "source": [
    "import numpy as np\n",
    "\n",
    "print(count)\n",
    "print(np.array(count) / len(full_ds))"
   ]
  },
  {
   "cell_type": "code",
   "execution_count": 17,
   "id": "1679d911-7348-4a2f-94a2-a36051a52ff1",
   "metadata": {},
   "outputs": [
    {
     "data": {
      "image/png": "[encoded data removed]",
      "text/plain": [
       "<Figure size 432x288 with 1 Axes>"
      ]
     },
     "metadata": {
      "needs_background": "light"
     },
     "output_type": "display_data"
    }
   ],
   "source": [
    "# !pip install matplotlib\n",
    "\n",
    "import matplotlib.pyplot as plt\n",
    "\n",
    "plt.hist(check, rwidth=0.8, bins=np.arange(0,20,1))\n",
    "plt.show()"
   ]
  },
  {
   "cell_type": "code",
   "execution_count": 46,
   "id": "3c884fc6-b69c-4356-975f-5a0c3170977b",
   "metadata": {},
   "outputs": [
    {
     "data": {
      "text/plain": [
       "[52.49792, 47.31192, 46.607067, 45.782112, 45.101215]"
      ]
     },
     "execution_count": 46,
     "metadata": {},
     "output_type": "execute_result"
    }
   ],
   "source": [
    "question = '''유령'은 어느 행성에서 지구로 왔는가?'''\n",
    "query = {\n",
    "        'query':{\n",
    "            'bool':{\n",
    "                'must':[\n",
    "                          {'match':{'text':question}}\n",
    "                ],\n",
    "                'should':[\n",
    "                          {'match':{'text':question}}\n",
    "                ]\n",
    "            }\n",
    "        }\n",
    "    }\n",
    "\n",
    "doc = es.search(index='document_dy',body=query,size=5)['hits']['hits']\n",
    "doc\n",
    "a = []\n",
    "for idx in range(len(doc)):\n",
    "    a.append(doc[idx]['_score'])\n",
    "a"
   ]
  },
  {
   "cell_type": "code",
   "execution_count": 47,
   "id": "58b6c09e-b49f-4716-bf93-4b3fef6df392",
   "metadata": {},
   "outputs": [],
   "source": [
    "from scipy.special import softmax"
   ]
  },
  {
   "cell_type": "code",
   "execution_count": 48,
   "id": "3853ae3d-1d3e-4579-9160-746ef24fb1a2",
   "metadata": {},
   "outputs": [],
   "source": [
    "a_softmax = softmax(a)"
   ]
  },
  {
   "cell_type": "code",
   "execution_count": 58,
   "id": "59c81b39-83ba-4dde-8f24-c9d8e5fe04bf",
   "metadata": {},
   "outputs": [
    {
     "data": {
      "text/plain": [
       "list"
      ]
     },
     "execution_count": 58,
     "metadata": {},
     "output_type": "execute_result"
    }
   ],
   "source": [
    "type(a_softmax.tolist())"
   ]
  },
  {
   "cell_type": "code",
   "execution_count": 62,
   "id": "a924ab33-f95d-465a-9ec6-aa0c833b00e2",
   "metadata": {},
   "outputs": [
    {
     "data": {
      "text/plain": [
       "'0.9899188311982309[SEP]0.005537941997119035[SEP]0.0027367468967357837[SEP]0.0011993922271053294[SEP]0.0006070876808059403'"
      ]
     },
     "execution_count": 62,
     "metadata": {},
     "output_type": "execute_result"
    }
   ],
   "source": [
    "'[SEP]'.join(map(str, a_softmax.tolist()))"
   ]
  },
  {
   "cell_type": "code",
   "execution_count": 51,
   "id": "26121757-01be-4681-9022-7908a49f3d18",
   "metadata": {},
   "outputs": [
    {
     "data": {
      "text/plain": [
       "0.9999999999999969"
      ]
     },
     "execution_count": 51,
     "metadata": {},
     "output_type": "execute_result"
    }
   ],
   "source": [
    "a_softmax.sum()"
   ]
  },
  {
   "cell_type": "code",
   "execution_count": null,
   "id": "1b2315b1-878d-43ae-83d8-5e1ff5623008",
   "metadata": {},
   "outputs": [],
   "source": []
  }
 ],
 "metadata": {
  "kernelspec": {
   "display_name": "Python 3",
   "language": "python",
   "name": "python3"
  },
  "language_info": {
   "codemirror_mode": {
    "name": "ipython",
    "version": 3
   },
   "file_extension": ".py",
   "mimetype": "text/x-python",
   "name": "python",
   "nbconvert_exporter": "python",
   "pygments_lexer": "ipython3",
   "version": "3.7.7"
  }
 },
 "nbformat": 4,
 "nbformat_minor": 5
}

{
 "cells": [
  {
   "cell_type": "code",
   "execution_count": 1,
   "id": "37845679-17c4-435b-a106-61e993168c88",
   "metadata": {},
   "outputs": [],
   "source": [
    "from pororo import Pororo"
   ]
  },
  {
   "cell_type": "code",
   "execution_count": 2,
   "id": "0840b67b-8bc7-4017-aecf-7fba8cf2c01d",
   "metadata": {},
   "outputs": [],
   "source": [
    "ner = Pororo(task=\"ner\", lang=\"kr\")"
   ]
  },
  {
   "cell_type": "code",
   "execution_count": 1,
   "id": "64a51830-6608-4b4b-802c-00cd9e18069d",
   "metadata": {},
   "outputs": [
    {
     "name": "stderr",
     "output_type": "stream",
     "text": [
      "Loading cached processed dataset at input/data/train_dataset/train/cache-5864ec783ab77348.arrow\n",
      "Loading cached processed dataset at input/data/train_dataset/validation/cache-ec5c6075463087d0.arrow\n"
     ]
    },
    {
     "name": "stdout",
     "output_type": "stream",
     "text": [
      "Dataset({\n",
      "    features: ['__index_level_0__', 'answers', 'context', 'document_id', 'id', 'question', 'title'],\n",
      "    num_rows: 4192\n",
      "})\n"
     ]
    }
   ],
   "source": [
    "# train_dataset을 불러오고 싶은 경우\n",
    "\n",
    "from datasets import load_from_disk, concatenate_datasets\n",
    "\n",
    "org_dataset = load_from_disk(\"./input/data/train_dataset/\")\n",
    "dataset = concatenate_datasets(\n",
    "    [\n",
    "        org_dataset[\"train\"].flatten_indices(),\n",
    "        org_dataset[\"validation\"].flatten_indices(),\n",
    "    ]\n",
    ") # train dev 를 합친 4192 개 질문에 대해 모두 테스트\n",
    "\n",
    "print(dataset)"
   ]
  },
  {
   "cell_type": "code",
   "execution_count": null,
   "id": "ad09020c-47eb-4cb4-a3e2-58f8695b3a73",
   "metadata": {},
   "outputs": [],
   "source": []
  },
  {
   "cell_type": "code",
   "execution_count": 4,
   "id": "d8cb090e-f4d4-4127-97e6-a39d26541b8c",
   "metadata": {},
   "outputs": [],
   "source": [
    "from collections import defaultdict\n",
    "from konlpy.tag import Mecab\n",
    "\n",
    "mecab = Mecab()\n",
    "def tokenize(text):\n",
    "    # return text.split(\" \")\n",
    "    return mecab.pos(text)"
   ]
  },
  {
   "cell_type": "code",
   "execution_count": 5,
   "id": "093b9df9-25c1-44f0-8c1c-e70c6bb595a3",
   "metadata": {},
   "outputs": [
    {
     "name": "stderr",
     "output_type": "stream",
     "text": [
      "100%|██████████| 4192/4192 [00:00<00:00, 8724.80it/s]\n"
     ]
    }
   ],
   "source": [
    "ner_dict = defaultdict(set)\n",
    "ner_dict_count = defaultdict(int)\n",
    "pos_dict = defaultdict(set)\n",
    "pos_dict_count = defaultdict(int)\n",
    "ner_dict_O = set()\n",
    "n_count = 0\n",
    "\n",
    "from tqdm import tqdm\n",
    "\n",
    "for data in tqdm(dataset):\n",
    "#     print(data)\n",
    "#     ner_context = ner(data['context'])\n",
    "#     print('context', ner_context, '\\n\\n')\n",
    "    pos_answers = tokenize(data['answers']['text'][0])\n",
    "#     ner_answers = ner(data['answers']['text'][0])\n",
    "# #     print('answers', ner_answers, '\\n\\n')\n",
    "#     for answer in ner_answers:\n",
    "#         ner_dict[answer[1]].add(answer[0])\n",
    "#         ner_dict_count[answer[1]] += 1\n",
    "#         if answer[1] == 'O':\n",
    "#             ner_dict_O.add(data['answers']['text'][0])\n",
    "            \n",
    "    for answer in pos_answers:\n",
    "        if answer[1].startswith(\"N\"):\n",
    "            n_count += 1\n",
    "            break\n",
    "#         pos_dict[answer[1]].add(answer[0])\n",
    "#         pos_dict_count[answer[1]] += 1\n",
    "#         if answer[1] == 'O':\n",
    "#             ner_dict_O.add(data['answers']['text'][0])\n",
    "#     ner_question = ner(data['question'])\n",
    "#     print('question', ner_question, '\\n\\n')\n",
    "#     break"
   ]
  },
  {
   "cell_type": "code",
   "execution_count": 6,
   "id": "433d8fd8-4da8-4023-a701-510bcd13f840",
   "metadata": {},
   "outputs": [
    {
     "data": {
      "text/plain": [
       "4091"
      ]
     },
     "execution_count": 6,
     "metadata": {},
     "output_type": "execute_result"
    }
   ],
   "source": [
    "n_count"
   ]
  },
  {
   "cell_type": "code",
   "execution_count": 7,
   "id": "4d975c02-9939-4857-aa06-3c1cde8da124",
   "metadata": {},
   "outputs": [],
   "source": [
    "# print(pos_dict)"
   ]
  },
  {
   "cell_type": "code",
   "execution_count": 25,
   "id": "954acb8d-088f-4374-8bde-766a3cfa6328",
   "metadata": {},
   "outputs": [],
   "source": [
    "pos_dict_count = sorted(pos_dict_count.items(), key=lambda kv : kv[1], reverse=True)"
   ]
  },
  {
   "cell_type": "code",
   "execution_count": 32,
   "id": "02a81bed-4731-4902-bc99-17c2354c4cd6",
   "metadata": {},
   "outputs": [
    {
     "data": {
      "text/plain": [
       "[('NNG', 4658),\n",
       " ('NNP', 2221),\n",
       " ('SN', 873),\n",
       " ('NNBC', 713),\n",
       " ('SY', 387),\n",
       " ('JKG', 297),\n",
       " ('XSN', 218),\n",
       " ('SL', 178),\n",
       " ('SSC', 152),\n",
       " ('SSO', 146),\n",
       " ('JKB', 120),\n",
       " ('EC', 112),\n",
       " ('VV', 109),\n",
       " ('MM', 93),\n",
       " ('NNB', 85),\n",
       " ('JKO', 82),\n",
       " ('ETM', 81),\n",
       " ('JKS', 75),\n",
       " ('XPN', 72),\n",
       " ('MAG', 65),\n",
       " ('VV+ETM', 63),\n",
       " ('IC', 56),\n",
       " ('NR', 54),\n",
       " ('JX', 46),\n",
       " ('VV+EC', 44),\n",
       " ('JC', 43),\n",
       " ('XSV+ETM', 41),\n",
       " ('VA', 39),\n",
       " ('VCP+ETM', 39),\n",
       " ('XSV', 35),\n",
       " ('ETN', 35),\n",
       " ('SH', 34),\n",
       " ('VX', 32),\n",
       " ('SC', 28),\n",
       " ('XSA+ETM', 28),\n",
       " ('VA+ETM', 25),\n",
       " ('NP', 25),\n",
       " ('XR', 22),\n",
       " ('VCP+EC', 21),\n",
       " ('VCP', 18),\n",
       " ('MAJ', 15),\n",
       " ('XSV+EC', 15),\n",
       " ('EP', 15),\n",
       " ('SF', 11),\n",
       " ('UNKNOWN', 8),\n",
       " ('EF', 8),\n",
       " ('VCP+EF', 5),\n",
       " ('XSA', 5),\n",
       " ('XSA+EC+JX', 3),\n",
       " ('VV+ETN', 2),\n",
       " ('JKQ', 2),\n",
       " ('NP+JX', 2),\n",
       " ('XSA+EP', 2),\n",
       " ('XSV+ETN', 2),\n",
       " ('NP+JKG', 2),\n",
       " ('JKB+JX', 2),\n",
       " ('VV+VCP', 2),\n",
       " ('VCP+EP', 2),\n",
       " ('NNB+JKO', 2),\n",
       " ('NNBC+VCP+ETM', 2),\n",
       " ('VA+ETN', 1),\n",
       " ('VV+EP+EC', 1),\n",
       " ('NP+JKO', 1),\n",
       " ('NNB+JKB+JX', 1),\n",
       " ('XSV+ETN+JKO', 1),\n",
       " ('NNB+JX', 1),\n",
       " ('VV+EF', 1),\n",
       " ('VA+EP', 1),\n",
       " ('VX+EF', 1),\n",
       " ('EP+ETM', 1),\n",
       " ('NNG+JKO', 1),\n",
       " ('EC+VV', 1),\n",
       " ('VX+ETM', 1),\n",
       " ('XSV+EP', 1),\n",
       " ('XSA+EC', 1),\n",
       " ('JKV', 1),\n",
       " ('VA+EC', 1),\n",
       " ('VV+EP', 1),\n",
       " ('NP+JKS', 1),\n",
       " ('VV+EC+VX+ETM', 1)]"
      ]
     },
     "execution_count": 32,
     "metadata": {},
     "output_type": "execute_result"
    }
   ],
   "source": [
    "type(pos_dict_count)\n",
    "pos_dict_count"
   ]
  },
  {
   "cell_type": "code",
   "execution_count": 39,
   "id": "65a73a4f-4134-4fc2-b3af-d865f6864a21",
   "metadata": {},
   "outputs": [
    {
     "name": "stdout",
     "output_type": "stream",
     "text": [
      "{'VX', 'NP', 'NR', 'XPN', 'SY', 'XSA', 'XR', 'VCP', 'JKG', 'UNKNOWN', 'NNG', 'SSC', 'JKS', 'ETN', 'SC', 'EC', 'EP', 'SF', 'XSN', 'SL', 'XSV', 'JKQ', 'JX', 'ETM', 'VV', 'JC', 'MAG', 'SH', 'NNBC', 'JKB', 'JKO', 'VA', 'MM', 'SSO', 'NNB', 'JKV', 'NNP', 'MAJ', 'IC', 'SN', 'EF'}\n"
     ]
    }
   ],
   "source": [
    "check = list()\n",
    "for element in pos_dict_count:\n",
    "#     print(element)\n",
    "    for e in element[0].split('+'):\n",
    "        check.append(e)\n",
    "\n",
    "check = set(check)\n",
    "print(check)"
   ]
  },
  {
   "cell_type": "code",
   "execution_count": null,
   "id": "6b1869c1-7c60-4870-b83e-34299a1ec9c0",
   "metadata": {},
   "outputs": [],
   "source": [
    "print(ner_dict)"
   ]
  },
  {
   "cell_type": "code",
   "execution_count": 15,
   "id": "495073a2-6cdc-4629-990c-6d638cd84cd1",
   "metadata": {},
   "outputs": [
    {
     "name": "stdout",
     "output_type": "stream",
     "text": [
      "[('O', 4995), ('PERSON', 940), ('DATE', 552), ('CIVILIZATION', 504), ('ORGANIZATION', 428), ('LOCATION', 292), ('QUANTITY', 277), ('ARTIFACT', 265), ('COUNTRY', 205), ('TERM', 151), ('OCCUPATION', 106), ('CITY', 96), ('EVENT', 90), ('ANIMAL', 80), ('MATERIAL', 54), ('THEORY', 46), ('STUDY_FIELD', 39), ('PLANT', 21), ('DISEASE', 17), ('TIME', 12)]\n"
     ]
    }
   ],
   "source": [
    "print(sorted(ner_dict_count.items(), key=lambda kv : kv[1], reverse=True))"
   ]
  },
  {
   "cell_type": "code",
   "execution_count": null,
   "id": "466ae422-018b-4fbb-90e7-45974fb6c56c",
   "metadata": {},
   "outputs": [],
   "source": [
    "print(ner_dict_O)"
   ]
  },
  {
   "cell_type": "code",
   "execution_count": 14,
   "id": "5847bb66-a493-48e8-a061-a10731dbfb02",
   "metadata": {},
   "outputs": [
    {
     "name": "stdout",
     "output_type": "stream",
     "text": [
      "[('O', 4995), ('PERSON', 940), ('DATE', 552), ('CIVILIZATION', 504), ('ORGANIZATION', 428), ('LOCATION', 292), ('QUANTITY', 277), ('ARTIFACT', 265), ('COUNTRY', 205), ('TERM', 151), ('OCCUPATION', 106), ('CITY', 96), ('EVENT', 90), ('ANIMAL', 80), ('MATERIAL', 54), ('THEORY', 46), ('STUDY_FIELD', 39), ('PLANT', 21), ('DISEASE', 17), ('TIME', 12)]\n"
     ]
    }
   ],
   "source": [
    "print(sorted(ner_dict_count.items(), key=lambda kv : kv[1], reverse=True))"
   ]
  },
  {
   "cell_type": "code",
   "execution_count": null,
   "id": "cb1f405d-0840-4c09-b8e7-2fa63bebe409",
   "metadata": {},
   "outputs": [],
   "source": []
  }
 ],
 "metadata": {
  "kernelspec": {
   "display_name": "Python 3",
   "language": "python",
   "name": "python3"
  },
  "language_info": {
   "codemirror_mode": {
    "name": "ipython",
    "version": 3
   },
   "file_extension": ".py",
   "mimetype": "text/x-python",
   "name": "python",
   "nbconvert_exporter": "python",
   "pygments_lexer": "ipython3",
   "version": "3.7.7"
  }
 },
 "nbformat": 4,
 "nbformat_minor": 5
}

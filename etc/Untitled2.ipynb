{
 "cells": [
  {
   "cell_type": "code",
   "execution_count": 1,
   "id": "f6371b5f-e261-476a-bcff-1896f74f288b",
   "metadata": {},
   "outputs": [],
   "source": [
    "from datasets import (\n",
    "    Dataset,\n",
    "    load_from_disk,\n",
    "    concatenate_datasets,\n",
    ")\n",
    "from konlpy.tag import Mecab, Kkma\n",
    "from rank_bm25 import BM25Okapi"
   ]
  },
  {
   "cell_type": "code",
   "execution_count": 2,
   "id": "adb4ef8e-fd74-4c62-8a8c-07bb0c57b864",
   "metadata": {},
   "outputs": [
    {
     "name": "stderr",
     "output_type": "stream",
     "text": [
      "Loading cached processed dataset at /opt/ml/input/data/train_dataset/train/cache-5864ec783ab77348.arrow\n",
      "Loading cached processed dataset at /opt/ml/input/data/train_dataset/validation/cache-ec5c6075463087d0.arrow\n"
     ]
    },
    {
     "name": "stdout",
     "output_type": "stream",
     "text": [
      "**************************************** query dataset ****************************************\n",
      "Dataset({\n",
      "    features: ['__index_level_0__', 'answers', 'context', 'document_id', 'id', 'question', 'title'],\n",
      "    num_rows: 4192\n",
      "})\n"
     ]
    },
    {
     "data": {
      "text/plain": [
       "{'__index_level_0__': 2873,\n",
       " 'answers': {'answer_start': [212], 'text': ['《경영의 실제》']},\n",
       " 'context': \"'근대적 경영학' 또는 '고전적 경영학'에서 현대적 경영학으로 전환되는 시기는 1950년대이다. 2차 세계대전을 마치고, 6.25전쟁의 시기로 유럽은 전후 재건에 집중하고, 유럽 제국주의의 식민지가 독립하여 아프리카, 아시아, 아메리카 대륙에서 신생국가가 형성되는 시기였고, 미국은 전쟁 이후 경제적 변화에 기업이 적응을 해야 하던 시기였다. 특히 1954년 피터 드러커의 저서 《경영의 실제》는 현대적 경영의 기준을 제시하여서, 기존 근대적 인사조직관리를 넘어선 현대적 인사조직관리의 전환점이 된다. 드러커는 경영자의 역할을 강조하며 경영이 현시대 최고의 예술이자 과학이라고 주장하였고 , 이 주장은 21세기 인사조직관리의 역할을 자리매김했다.\\\\n\\\\n현대적 인사조직관리와 근대 인사조직관리의 가장 큰 차이는 통합이다. 19세기의 영향을 받던 근대적 경영학(고전적 경영)의 흐름은 기능을 강조하였지만, 1950년대 이후의 현대 경영학은 통합을 강조하였다. 기능이 분화된 '기계적인 기업조직' 이해에서 다양한 기능을 인사조직관리의 목적, 경영의 목적을 위해서 다양한 분야를 통합하여 '유기적 기업 조직' 이해로 전환되었다. 이 통합적 접근방식은 과정, 시스템, 상황을 중심으로 하는 인사조직관리 방식을 형성했다.\",\n",
       " 'document_id': 51638,\n",
       " 'id': 'mrc-0-004397',\n",
       " 'question': '현대적 인사조직관리의 시발점이 된 책은?',\n",
       " 'title': '인사조직관리'}"
      ]
     },
     "execution_count": 2,
     "metadata": {},
     "output_type": "execute_result"
    }
   ],
   "source": [
    "org_dataset = load_from_disk(\"/opt/ml/input/data/train_dataset\")\n",
    "full_ds = concatenate_datasets(\n",
    "    [\n",
    "        org_dataset[\"train\"].flatten_indices(),\n",
    "        org_dataset[\"validation\"].flatten_indices(),\n",
    "    ]\n",
    ") # train dev 를 합친 4192 개 질문에 대해 모두 테스트\n",
    "print(\"*\"*40, \"query dataset\", \"*\"*40)\n",
    "print(full_ds)\n",
    "full_ds[1]"
   ]
  },
  {
   "cell_type": "code",
   "execution_count": 3,
   "id": "1aa961e2-600d-4b42-9633-910c4d678635",
   "metadata": {},
   "outputs": [],
   "source": [
    "# org_dataset[\"validation\"]['title']"
   ]
  },
  {
   "cell_type": "code",
   "execution_count": 4,
   "id": "87499fc4-fd1b-4d85-aad2-eae68bd36e1d",
   "metadata": {},
   "outputs": [],
   "source": [
    "mecab = Mecab()\n",
    "def tokenize(text):\n",
    "    # return text.split(\" \")\n",
    "    return mecab.morphs(text)\n",
    "\n",
    "# kkma = Kkma()\n",
    "# def tokenize_kkma(text):\n",
    "#     return kkma.morphs(text)"
   ]
  },
  {
   "cell_type": "code",
   "execution_count": 5,
   "id": "ce4f15ee-6319-422d-bf03-851008522fd3",
   "metadata": {},
   "outputs": [],
   "source": [
    "# 사용할 stopwords 저장\n",
    "with open(\"code/sparse-mecab-koreanwiki/stopwords.txt\", \"r\") as f:\n",
    "    stopwords = f.readlines()\n",
    "stopwords = [x.split(\"\\n\")[0] for x in stopwords]\n",
    "\n",
    "# Stopwords 를 제거해주는 함수\n",
    "# 문서를 tokenize 한 후 BM25 점수 계산 전에 적용해주세요\n",
    "def remove_stop(tok):\n",
    "    return [x for x in tok if x.strip() not in stopwords]\n",
    "\n",
    "\n",
    "# 질문에 특정적인 용어를 삭제하는 함수\n",
    "def remove_q(query):\n",
    "    stop = \"|\".join(\n",
    "        \"어느 무엇인가요 무엇 누가 누구인가요 누구인가 누구 어디에서 어디에 어디서 어디인가요 어디를 어디 언제 어떤 어떠한 몇 얼마 얼마나 뭐 어떻게 무슨 \\?\".split(\n",
    "            \" \"\n",
    "        )\n",
    "    )\n",
    "    rm = re.sub(stop, \"\", query).strip()\n",
    "    return rm\n",
    "\n",
    "\n",
    "# Retriever 에서 사용되는 토크나이저\n",
    "def process_morphs_simple(query):\n",
    "    rm = remove_q(query)\n",
    "    pos = mecab.pos(rm)\n",
    "    return [x[0] for x in pos if x[1][0] != \"J\" and x[1][0] != \"E\" and x[1][0] != \"X\"]"
   ]
  },
  {
   "cell_type": "code",
   "execution_count": 6,
   "id": "0b488994-ac84-4aa9-9f99-d7a6330970bc",
   "metadata": {},
   "outputs": [],
   "source": [
    "import os, json\n",
    "\n",
    "data_path=\"code/sparse-mecab-koreanwiki/\"\n",
    "context_path=\"wikipedia_documents_kor_v3.json\"\n",
    "\n",
    "with open(os.path.join(data_path, context_path), \"r\") as f:\n",
    "            wiki = json.load(f)\n",
    "\n",
    "contexts = [v['text'] for v in wiki.values()] # set 은 매번 순서가 바뀌므로\n",
    "document_ids = [v['document_id'] for v in wiki.values()] # set 은 매번 순서가 바뀌므로\n",
    "# contexts[13650]"
   ]
  },
  {
   "cell_type": "code",
   "execution_count": 7,
   "id": "b1fb8998-76f7-4bcf-acea-a44768bca37a",
   "metadata": {},
   "outputs": [
    {
     "name": "stdout",
     "output_type": "stream",
     "text": [
      "60045 60045\n"
     ]
    }
   ],
   "source": [
    "print(len(contexts), len(document_ids))"
   ]
  },
  {
   "cell_type": "code",
   "execution_count": 8,
   "id": "529454a6-2107-4cc8-9c6c-a881b2557f15",
   "metadata": {},
   "outputs": [],
   "source": [
    "tokenized_corpus = [remove_stop(tokenize(doc)) for doc in contexts]\n",
    "bm25 = BM25Okapi(tokenized_corpus)"
   ]
  },
  {
   "cell_type": "code",
   "execution_count": 14,
   "id": "7f7780c6-04f5-4edc-9e6f-fc9b73df4eb3",
   "metadata": {
    "tags": []
   },
   "outputs": [
    {
     "name": "stderr",
     "output_type": "stream",
     "text": [
      "100%|██████████| 4192/4192 [16:40<00:00,  4.19it/s]\n"
     ]
    }
   ],
   "source": [
    "from tqdm import tqdm\n",
    "import re\n",
    "import numpy as np\n",
    "\n",
    "count = [0, 0, 0, 0, 0]\n",
    "topk = [1, 3, 5, 10, 20]\n",
    "check = []\n",
    "\n",
    "# Retriever class init 시 아래와 같이 저장해둡니다\n",
    "# id2context = {\n",
    "#             sample[\"document_id\"]: sample[\"text\"] for sample in original_wiki.values()\n",
    "#         }\n",
    "\n",
    "\n",
    "# context2id = {\n",
    "#            sample[\"text\"] : sample[\"document_id\"] for sample in original_wiki.values()\n",
    "#         }\n",
    "\n",
    "\n",
    "# retrieval 함수 내에서 아래와 같이 사용\n",
    "# tmp[\"original_context\"] = self.id2context[example[\"document_id\"]]\n",
    "\n",
    "\n",
    "# for i in range(4):\n",
    "for j in tqdm(range(len(full_ds))):\n",
    "    query = full_ds['question'][j]\n",
    "    ground_truth = full_ds['document_id'][j]\n",
    "    \n",
    "    result = bm25.get_scores(process_morphs_simple(query))\n",
    "#     print(result.shape)\n",
    "#     exit()\n",
    "    sorted_result = np.argsort(result.squeeze())[::-1]\n",
    "            \n",
    "    doc_scores, doc_indices = result.squeeze()[sorted_result].tolist()[:20], sorted_result.tolist()[:20]\n",
    "    \n",
    "#     print(doc_scores)\n",
    "#     print(doc_indices)\n",
    "#     topk_contexts = bm25.get_top_n(process_morphs_simple(query), contexts, n=20)\n",
    "#     bm25_candidate = BM25Okapi([tokenize(doc) for doc in topk_contexts])\n",
    "#     topk_contexts = bm25_candidate.get_top_n(tokenize(query), topk_contexts, n=20)\n",
    "\n",
    "    for idx in range(20):\n",
    "#         print(doc_indices[idx])\n",
    "        if document_ids[doc_indices[idx]] == ground_truth:\n",
    "            check.append(idx)\n",
    "            if idx == 0:\n",
    "                count[0] += 1\n",
    "            elif 0 < idx < 3:\n",
    "                count[1] += 1\n",
    "            elif 0 < idx < 5:\n",
    "                count[2] += 1\n",
    "            elif 5 < idx < 10:\n",
    "                count[3] += 1\n",
    "            elif 10 < idx < 20:\n",
    "                count[4] += 1\n",
    "#             exit()\n",
    "            break\n",
    "\n",
    "count[4] += (count[0] + count[1] + count[2] + count[3])\n",
    "count[3] += (count[0] + count[1] + count[2])\n",
    "count[2] += (count[0] + count[1])\n",
    "count[1] += count[0]"
   ]
  },
  {
   "cell_type": "code",
   "execution_count": 15,
   "id": "aaf65fb1-a580-43a0-b355-6bc5cb6a0750",
   "metadata": {},
   "outputs": [
    {
     "name": "stdout",
     "output_type": "stream",
     "text": [
      "[2541, 3355, 3540, 3655, 3774]\n",
      "[0.60615458 0.80033397 0.84446565 0.87189885 0.90028626]\n"
     ]
    }
   ],
   "source": [
    "print(count)\n",
    "print(np.array(count) / len(full_ds))"
   ]
  },
  {
   "cell_type": "code",
   "execution_count": 11,
   "id": "cf406739-fcbd-49af-b891-bb54003eafd0",
   "metadata": {},
   "outputs": [
    {
     "data": {
      "image/png": "[encoded data removed]",
      "text/plain": [
       "<Figure size 432x288 with 1 Axes>"
      ]
     },
     "metadata": {
      "needs_background": "light"
     },
     "output_type": "display_data"
    }
   ],
   "source": [
    "# !pip install matplotlib\n",
    "\n",
    "import matplotlib.pyplot as plt\n",
    "\n",
    "plt.hist(check, rwidth=0.8, bins=np.arange(0,20,1))\n",
    "plt.show()"
   ]
  },
  {
   "cell_type": "code",
   "execution_count": 12,
   "id": "6a223614-e1a1-49da-89ba-19c1fe135a84",
   "metadata": {
    "tags": []
   },
   "outputs": [
    {
     "name": "stderr",
     "output_type": "stream",
     "text": [
      "  0%|          | 0/4192 [00:00<?, ?it/s]\n"
     ]
    },
    {
     "ename": "NameError",
     "evalue": "name 'tokenize_kkma' is not defined",
     "output_type": "error",
     "traceback": [
      "\u001b[0;31m---------------------------------------------------------------------------\u001b[0m",
      "\u001b[0;31mNameError\u001b[0m                                 Traceback (most recent call last)",
      "\u001b[0;32m<ipython-input-12-bc6d53c20060>\u001b[0m in \u001b[0;36m<module>\u001b[0;34m\u001b[0m\n\u001b[1;32m      9\u001b[0m     \u001b[0mquery\u001b[0m \u001b[0;34m=\u001b[0m \u001b[0mfull_ds\u001b[0m\u001b[0;34m[\u001b[0m\u001b[0;34m'question'\u001b[0m\u001b[0;34m]\u001b[0m\u001b[0;34m[\u001b[0m\u001b[0mj\u001b[0m\u001b[0;34m]\u001b[0m\u001b[0;34m\u001b[0m\u001b[0;34m\u001b[0m\u001b[0m\n\u001b[1;32m     10\u001b[0m     \u001b[0mground_truth\u001b[0m \u001b[0;34m=\u001b[0m \u001b[0mfull_ds\u001b[0m\u001b[0;34m[\u001b[0m\u001b[0;34m'context'\u001b[0m\u001b[0;34m]\u001b[0m\u001b[0;34m[\u001b[0m\u001b[0mj\u001b[0m\u001b[0;34m]\u001b[0m\u001b[0;34m\u001b[0m\u001b[0;34m\u001b[0m\u001b[0m\n\u001b[0;32m---> 11\u001b[0;31m     \u001b[0mtopk_contexts\u001b[0m \u001b[0;34m=\u001b[0m \u001b[0mbm25\u001b[0m\u001b[0;34m.\u001b[0m\u001b[0mget_top_n\u001b[0m\u001b[0;34m(\u001b[0m\u001b[0mtokenize_kkma\u001b[0m\u001b[0;34m(\u001b[0m\u001b[0mquery\u001b[0m\u001b[0;34m)\u001b[0m\u001b[0;34m,\u001b[0m \u001b[0mcontexts\u001b[0m\u001b[0;34m,\u001b[0m \u001b[0mn\u001b[0m\u001b[0;34m=\u001b[0m\u001b[0;36m20\u001b[0m\u001b[0;34m)\u001b[0m\u001b[0;34m\u001b[0m\u001b[0;34m\u001b[0m\u001b[0m\n\u001b[0m\u001b[1;32m     12\u001b[0m     \u001b[0;32mfor\u001b[0m \u001b[0midx\u001b[0m\u001b[0;34m,\u001b[0m \u001b[0mtext\u001b[0m \u001b[0;32min\u001b[0m \u001b[0menumerate\u001b[0m\u001b[0;34m(\u001b[0m\u001b[0mtopk_contexts\u001b[0m\u001b[0;34m)\u001b[0m\u001b[0;34m:\u001b[0m\u001b[0;34m\u001b[0m\u001b[0;34m\u001b[0m\u001b[0m\n\u001b[1;32m     13\u001b[0m         \u001b[0;32mif\u001b[0m \u001b[0mtext\u001b[0m \u001b[0;34m==\u001b[0m \u001b[0mground_truth\u001b[0m\u001b[0;34m:\u001b[0m\u001b[0;34m\u001b[0m\u001b[0;34m\u001b[0m\u001b[0m\n",
      "\u001b[0;31mNameError\u001b[0m: name 'tokenize_kkma' is not defined"
     ]
    }
   ],
   "source": [
    "from tqdm import tqdm\n",
    "\n",
    "count_kkma = [0, 0, 0, 0, 0]\n",
    "topk_kkma = [1, 3, 5, 10, 20]\n",
    "check_kkma = []\n",
    "\n",
    "# for i in range(4):\n",
    "for j in tqdm(range(len(full_ds))):\n",
    "    query = full_ds['question'][j]\n",
    "    ground_truth = full_ds['context'][j]\n",
    "    topk_contexts = bm25.get_top_n(tokenize_kkma(query), contexts, n=20)\n",
    "    for idx, text in enumerate(topk_contexts):\n",
    "        if text == ground_truth:\n",
    "            check_kkma.append(idx)\n",
    "            if idx == 0:\n",
    "                count_kkma[0] += 1\n",
    "            elif 0 < idx < 3:\n",
    "                count_kkma[1] += 1\n",
    "            elif 0 < idx < 5:\n",
    "                count_kkma[2] += 1\n",
    "            elif 5 < idx < 10:\n",
    "                count_kkma[3] += 1\n",
    "            elif 10 < idx < 20:\n",
    "                count_kkma[4] += 1\n",
    "            continue\n",
    "\n",
    "count_kkma[4] += (count_kkma[0] + count_kkma[1] + count_kkma[2] + count_kkma[3])\n",
    "count_kkma[3] += (count_kkma[0] + count_kkma[1] + count_kkma[2])\n",
    "count_kkma[2] += (count_kkma[0] + count_kkma[1])\n",
    "count_kkma[1] += count_kkma[0]"
   ]
  },
  {
   "cell_type": "code",
   "execution_count": null,
   "id": "fbe90fc0-da17-45fc-bc39-cf1bad6b4e6c",
   "metadata": {},
   "outputs": [],
   "source": [
    "import numpy as np\n",
    "\n",
    "print(count_kkma)\n",
    "print(np.array(count_kkma) / len(full_ds))"
   ]
  },
  {
   "cell_type": "code",
   "execution_count": null,
   "id": "cbd97b08-e28f-4728-a958-f407172a3a89",
   "metadata": {},
   "outputs": [],
   "source": [
    "# !pip install matplotlib\n",
    "\n",
    "import matplotlib.pyplot as plt\n",
    "\n",
    "plt.hist(check_kkma, rwidth=0.8, bins=np.arange(0,20,1))\n",
    "plt.show()"
   ]
  },
  {
   "cell_type": "markdown",
   "id": "91e680cb-cb16-4f11-9457-f4558a62ce75",
   "metadata": {},
   "source": [
    "#### "
   ]
  }
 ],
 "metadata": {
  "kernelspec": {
   "display_name": "Python 3",
   "language": "python",
   "name": "python3"
  },
  "language_info": {
   "codemirror_mode": {
    "name": "ipython",
    "version": 3
   },
   "file_extension": ".py",
   "mimetype": "text/x-python",
   "name": "python",
   "nbconvert_exporter": "python",
   "pygments_lexer": "ipython3",
   "version": "3.7.7"
  }
 },
 "nbformat": 4,
 "nbformat_minor": 5
}

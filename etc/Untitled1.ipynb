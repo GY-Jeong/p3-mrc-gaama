{
 "cells": [
  {
   "cell_type": "code",
   "execution_count": 2,
   "id": "bdb9eb7d-e79d-4f78-9002-6647500efa49",
   "metadata": {},
   "outputs": [
    {
     "name": "stdout",
     "output_type": "stream",
     "text": [
      "DatasetDict({\n",
      "    train: Dataset({\n",
      "        features: ['__index_level_0__', 'answers', 'context', 'document_id', 'id', 'question', 'title'],\n",
      "        num_rows: 3952\n",
      "    })\n",
      "    validation: Dataset({\n",
      "        features: ['__index_level_0__', 'answers', 'context', 'document_id', 'id', 'question', 'title'],\n",
      "        num_rows: 240\n",
      "    })\n",
      "})\n"
     ]
    }
   ],
   "source": [
    "# train_dataset을 불러오고 싶은 경우\n",
    "from datasets import load_from_disk\n",
    "dataset = load_from_disk(\"./input/data/train_dataset/\")\n",
    "print(dataset)"
   ]
  },
  {
   "cell_type": "code",
   "execution_count": 3,
   "id": "91c00429-1844-4533-ba33-105a902fa10a",
   "metadata": {},
   "outputs": [
    {
     "data": {
      "text/plain": [
       "Dataset({\n",
       "    features: ['__index_level_0__', 'answers', 'context', 'document_id', 'id', 'question', 'title'],\n",
       "    num_rows: 240\n",
       "})"
      ]
     },
     "execution_count": 3,
     "metadata": {},
     "output_type": "execute_result"
    }
   ],
   "source": [
    "dataset['validation']"
   ]
  },
  {
   "cell_type": "code",
   "execution_count": 1,
   "id": "e52e6b57-4d53-4e88-b2a5-7532391f8b6f",
   "metadata": {},
   "outputs": [
    {
     "ename": "NameError",
     "evalue": "name 'dataset' is not defined",
     "output_type": "error",
     "traceback": [
      "\u001b[0;31m---------------------------------------------------------------------------\u001b[0m",
      "\u001b[0;31mNameError\u001b[0m                                 Traceback (most recent call last)",
      "\u001b[0;32m<ipython-input-1-80bd85f10273>\u001b[0m in \u001b[0;36m<module>\u001b[0;34m\u001b[0m\n\u001b[0;32m----> 1\u001b[0;31m \u001b[0;32mfor\u001b[0m \u001b[0mdata\u001b[0m \u001b[0;32min\u001b[0m \u001b[0mdataset\u001b[0m\u001b[0;34m[\u001b[0m\u001b[0;34m'validation'\u001b[0m\u001b[0;34m]\u001b[0m\u001b[0;34m:\u001b[0m\u001b[0;34m\u001b[0m\u001b[0;34m\u001b[0m\u001b[0m\n\u001b[0m\u001b[1;32m      2\u001b[0m     \u001b[0mprint\u001b[0m\u001b[0;34m(\u001b[0m\u001b[0mdata\u001b[0m\u001b[0;34m)\u001b[0m\u001b[0;34m\u001b[0m\u001b[0;34m\u001b[0m\u001b[0m\n\u001b[1;32m      3\u001b[0m \u001b[0;31m#     break\u001b[0m\u001b[0;34m\u001b[0m\u001b[0;34m\u001b[0m\u001b[0;34m\u001b[0m\u001b[0m\n\u001b[1;32m      4\u001b[0m     \u001b[0;32mif\u001b[0m \u001b[0mdata\u001b[0m\u001b[0;34m[\u001b[0m\u001b[0;34m'id'\u001b[0m\u001b[0;34m]\u001b[0m \u001b[0;34m==\u001b[0m \u001b[0;34m'mrc-0-003298'\u001b[0m\u001b[0;34m:\u001b[0m\u001b[0;34m\u001b[0m\u001b[0;34m\u001b[0m\u001b[0m\n\u001b[1;32m      5\u001b[0m         \u001b[0mprint\u001b[0m\u001b[0;34m(\u001b[0m\u001b[0mdata\u001b[0m\u001b[0;34m)\u001b[0m\u001b[0;34m\u001b[0m\u001b[0;34m\u001b[0m\u001b[0m\n",
      "\u001b[0;31mNameError\u001b[0m: name 'dataset' is not defined"
     ]
    }
   ],
   "source": [
    "for data in dataset['validation']:\n",
    "    print(data)\n",
    "#     break\n",
    "    if data['id'] == 'mrc-0-003298':\n",
    "        print(data)"
   ]
  },
  {
   "cell_type": "code",
   "execution_count": 18,
   "id": "54f20be8-706d-4776-bace-fa83fc45c614",
   "metadata": {},
   "outputs": [
    {
     "data": {
      "text/plain": [
       "{'title': '이이노야성',\n",
       " 'context': '헤이안 시대 말기, 이이 가 초대 당주 이이 도모야스에 의해 축성되었다고 전해진다 . 남쪽은 세 방향으로부터의 적의 움직임을 알 수 있고, 북쪽은 표준 고도가 높은 산이 이어져 있어 공격하기 어려운 지형에 세워진 성이다. 혼마루, 니노마루, 산노마루 등으로 구성되어 있던 산성이다.\\\\n\\\\n센고쿠 시대이전에는 미타케 성이 이이 씨의 본성이었다.\\\\n\\\\n난보쿠초 시대의 기록은, 미타케 성을 「이이 성」으로 하고 있다. 이 두 성의 관계는 잘 알려져 있지 않지만, 남북조 시대는 이이노야 성이 평소, 이이 씨가 전쟁중이 아닐 때 생활하던 거성이고, 미타케성이 전쟁중에 농성을 하기 위한 방위 성의 최종 거점이었다고 한다(하지만, 센고쿠 시대의 이이 가의 최종 거점 성은 미타케 성의 뒤쪽 산으로 바뀌었다).\\\\n\\\\n남북조 시대의 이이 나오마사는 난초의 고다이고 천황황자 무네요시 친왕을 구해, 이이노야 성에 초대했다. 친왕은 나오마사의 딸을 정실로써 맞아들였다. 또 무네요시 친왕의 아들 유키요시 친왕도 이이노야 성에서 태어났다고 전승되고 있다. 친왕은 이이노야나 도토미 국에 대하여 노래를 다량으로 남겼고, 이이노야 성터의 산기슭에는 무네요시 친왕과 다지마모리(고사기, 일본서기에 등장하는 남성)을 모시는 니노미야 신사가 있다.\\\\n\\\\n이이노야 성은 랴쿠오 3년(1340년)에 호쿠초측의 고노 모로야스, 니키 요시나가들에게 공격당해 함락되었다 .\\\\n\\\\n이후 이이 씨는 스루가의 도토미 슈고가 된 이마가와씨의 지배하에 놓이게 되었다.\\\\n\\\\n센고쿠 시대가 되자, 이이 씨는 이마가와에 종군하게 된다.\\\\n\\\\n1560년(에이로쿠 3년)에 21대째 당주 이이 나오모리가 오케하자마 전투에서 사망. 그 뒤 가독을 이이 나오치카가 이었지만 이마가와에 모반을 의심받아 가케가와에서 살해당한다. 이후 나오치카의 양아들 토라마쓰(후의 이이 나오마사, 도쿠가와 사천왕중 한명)이 성주가 되기까지의 기간동안 이이 나오토라가 성주 역할을 하였다.\\\\n\\\\n성의 남쪽에 있는 이이 씨의 보다이지, 료탄지는 이이노야 성의 방위역할이기도 했다.\\\\n\\\\n나오토라는 이이가를 책임지게 되고서도 지내고 있던 료탄지에 머물 수 있었지만 이이노야 성으로 옮길 결단을 내렸다. 이유는 이이 가를 이을 것이 확실한 토라마쓰에게 무장으로써의 행동거지를 배우게 하기 위해서와, 성이 자아내는 「전장의 일부」라는 분위기에 익숙해지게 하기 위해서라고 생각되고 있다.\\\\n\\\\n이마가와측에서 나오토라에게 반감을 가지는 자가 많아진 것과, 가이 국의 다케다 씨가 스루가 국에 침공한 것에 의해, 이마가와의 가신 오노 미치요시가 이마가와 우지자네로부터 토라마쓰를 살해하고 이이노야를 장악하여, 그 군세를 이끌어 가세하라는 명을 받아들인 것으로 인해 나오토라는 성주의 자리를 빼앗기고, 나오토라와 토라마쓰는 료탄지로 쫒겨나게 된다.\\\\n\\\\n하지만 다케다 신겐의 사망으로 다케다의 힘은 약해져, 도쿠가와 이에야스와 이이노야 산닌슈의 힘을 빌려 나오토라는 이이노야 성을 되찾았다.\\\\n\\\\n이이 나오마사 이후는 이이 씨의 거점이 이이노야에서 히코네로 옮겨져, 에도 시대 이후로는 성으로써의 역할이 사라졌다. 하지만 확실한 폐성 년도는 알려져 있지 않다 。\\\\n\\\\n현재 이이노야는 건물은 남아있지 않지만 니노마루, 산노마루터 등이 있다.\\\\n\\\\nNHK 대하드라마 『여자 성주 나오토라』의 방송이 결정된 후 성터의 정상까지의 산길이 하마마쓰 시에 의해 포장되었다. 이이노야 성터는 표준고도 110m로, 산 정상까지 약 15분만에 갈 수 있다 。',\n",
       " 'question': '남북조 시대에서 이이 씨가 전쟁이 발생했을 때, 생활했던 장소는?',\n",
       " 'id': 'mrc-0-003115',\n",
       " 'answers': {'answer_start': [304], 'text': ['미타케성']},\n",
       " 'document_id': 46376,\n",
       " '__index_level_0__': 2049}"
      ]
     },
     "execution_count": 18,
     "metadata": {},
     "output_type": "execute_result"
    }
   ],
   "source": [
    "dataset['validation'][18]"
   ]
  },
  {
   "cell_type": "code",
   "execution_count": null,
   "id": "74a46bf2-c2e6-4d59-ac0f-cd0ae6312c0c",
   "metadata": {},
   "outputs": [],
   "source": [
    "df"
   ]
  }
 ],
 "metadata": {
  "kernelspec": {
   "display_name": "Python 3",
   "language": "python",
   "name": "python3"
  },
  "language_info": {
   "codemirror_mode": {
    "name": "ipython",
    "version": 3
   },
   "file_extension": ".py",
   "mimetype": "text/x-python",
   "name": "python",
   "nbconvert_exporter": "python",
   "pygments_lexer": "ipython3",
   "version": "3.7.7"
  }
 },
 "nbformat": 4,
 "nbformat_minor": 5
}
